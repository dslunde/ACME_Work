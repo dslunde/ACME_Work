{
 "cells": [
  {
   "cell_type": "markdown",
   "metadata": {},
   "source": [
    "# Parallel Computing 1: iPyParallel\n",
    "    Darren Lund\n",
    "    Infinity War\n",
    "    May 4th, 2018"
   ]
  },
  {
   "cell_type": "markdown",
   "metadata": {},
   "source": [
    "## Problem 1\n",
    "Initializes a `Client` object, create a `DirectView` with all available engines, and import `scipy.sparse` as `sparse` on all engines.\n",
    "\n",
    "(This is just to make sure your cluster is running and connected correctly)"
   ]
  },
  {
   "cell_type": "code",
   "execution_count": 5,
   "metadata": {
    "collapsed": true
   },
   "outputs": [],
   "source": [
    "import numpy as np\n",
    "from time import time\n",
    "from numpy.random import normal\n",
    "from matplotlib import pyplot as plt\n",
    "from ipyparallel import Client\n",
    "\n",
    "def initialize() :\n",
    "    client = Client()\n",
    "\n",
    "    dview = client[:]\n",
    "    dview.execute('from scipy import sparse as sps')\n",
    "    dview.block = True\n",
    "    return client, dview"
   ]
  },
  {
   "cell_type": "code",
   "execution_count": 6,
   "metadata": {
    "collapsed": false
   },
   "outputs": [],
   "source": [
    "client, dview = initialize()"
   ]
  },
  {
   "cell_type": "markdown",
   "metadata": {},
   "source": [
    "## Problem 2\n",
    "\n",
    "Write a function `variables(dx)` that accepts a dictionary of variables.\n",
    "Distribute the variables to all engines, then pull the variables back."
   ]
  },
  {
   "cell_type": "code",
   "execution_count": 7,
   "metadata": {
    "collapsed": true
   },
   "outputs": [],
   "source": [
    "def variables(dx):\n",
    "    dview.push(dx)\n",
    "    good = True\n",
    "    for key in dx.keys() :\n",
    "        try :\n",
    "            stored = dview.pull(key)\n",
    "            correct = [dx[key] != stored[i] for i in range(len(stored))]\n",
    "            if True in correct :\n",
    "                bad_engine = correct.index(True)\n",
    "                print(\"ERROR: variable '{}' was stored incorrectly on engine {}!\".format(key,bad_engine))\n",
    "                good = False\n",
    "                break\n",
    "        except KeyError :\n",
    "            print(\"ERROR: varialbe {} was not stored!\".format(key))\n",
    "            good = False\n",
    "            break\n",
    "    if good :\n",
    "        print(\"Everything was stored correctly.\")"
   ]
  },
  {
   "cell_type": "code",
   "execution_count": 8,
   "metadata": {
    "collapsed": false
   },
   "outputs": [
    {
     "name": "stdout",
     "output_type": "stream",
     "text": [
      "Everything was stored correctly.\n"
     ]
    }
   ],
   "source": [
    "dx = {'a':2,'b':4,'c':27,'d':-5,'e':0}\n",
    "variables(dx)"
   ]
  },
  {
   "cell_type": "markdown",
   "metadata": {},
   "source": [
    "## Problem 3\n",
    "\n",
    "Write a function that accepts an integer n.\n",
    "Instruct each engine to make n draws from the standard normal distribution, then hand back the minimum, maximum, and mean draw to the client.\n",
    "Print the results."
   ]
  },
  {
   "cell_type": "code",
   "execution_count": 7,
   "metadata": {
    "collapsed": true
   },
   "outputs": [],
   "source": [
    "def draw_statistics(n):\n",
    "    dview.execute('from numpy.random import normal')\n",
    "    dview.push({'n':n})\n",
    "    dview.execute('data = [normal(0,1) for i in range(n)]')\n",
    "    data = dview.pull('data')[0]\n",
    "    result = dview.apply(lambda data : (min(data),max(data),1/len(data)*sum(data)), data)\n",
    "    m = len(result)\n",
    "    mins = [result[i][0] for i in range(m)]\n",
    "    means = [result[i][2] for i in range(m)]\n",
    "    maxs = [result[i][1] for i in range(m)]\n",
    "    return means, maxs, mins"
   ]
  },
  {
   "cell_type": "code",
   "execution_count": 10,
   "metadata": {
    "collapsed": false
   },
   "outputs": [
    {
     "name": "stdout",
     "output_type": "stream",
     "text": [
      "means : [-0.004535585359960166, -0.004535585359960166, -0.004535585359960166, -0.004535585359960166]\n",
      "maxs  : [4.073448616849613, 4.073448616849613, 4.073448616849613, 4.073448616849613]\n",
      "mins  : [-3.9392203486990347, -3.9392203486990347, -3.9392203486990347, -3.9392203486990347]\n"
     ]
    }
   ],
   "source": [
    "means, maxs, mins = draw_statistics(10000)\n",
    "print('means : {}'.format(means))\n",
    "print('maxs  : {}'.format(maxs))\n",
    "print('mins  : {}'.format(mins))"
   ]
  },
  {
   "cell_type": "markdown",
   "metadata": {},
   "source": [
    "## Problem 4\n",
    "\n",
    "Use `draw_statistics()` to compare serial and parallel execution times.\n",
    "For $n = 1000000, 5000000, 10000000, 15000000,$\n",
    "1. Time how long it takes to run your function.\n",
    "2. Time how long it takes to do the same process (make n draws and calculate and record the statistics) in a for loop with $N$ iterations, where $N$ is the number of engines running.\n",
    "\n",
    "Plot the execution times against $n$.\n",
    "You should notice an increase in efficiency in the parallel\n",
    "version as the problem size increases."
   ]
  },
  {
   "cell_type": "code",
   "execution_count": null,
   "metadata": {
    "collapsed": false
   },
   "outputs": [],
   "source": [
    "ns = [1000000, 5000000, 10000000, 15000000]\n",
    "m = len(client.ids)\n",
    "\n",
    "func_times = []\n",
    "seri_times = []\n",
    "\n",
    "for n in ns :\n",
    "    start = time()\n",
    "    means, maxs, mins = draw_statistics(n)\n",
    "    mean = 1/len(means)*sum(means)\n",
    "    max_ = max(maxs)\n",
    "    min_ = min(mins)\n",
    "    end = time()\n",
    "    func_times.append(end-start)\n",
    "    start = time()\n",
    "    for k in range(m) :\n",
    "        data = [normal(0,1) for i in range(n)]\n",
    "        mean = 1/len(data)*sum(data)\n",
    "        max_ = max(data)\n",
    "        min_ = min(data)\n",
    "    end = time()\n",
    "    seri_times.append(end-start)"
   ]
  },
  {
   "cell_type": "code",
   "execution_count": 8,
   "metadata": {
    "collapsed": false
   },
   "outputs": [
    {
     "data": {
      "image/png": "[encoded data removed]",
      "text/plain": [
       "<matplotlib.figure.Figure at 0x1134d5e48>"
      ]
     },
     "metadata": {},
     "output_type": "display_data"
    }
   ],
   "source": [
    "x_labels = [ns[i]/1000000 for i in range(len(ns))]\n",
    "plt.plot(x_labels,func_times,'*-',label='Parallel')\n",
    "plt.plot(x_labels,seri_times,'*-',label='Serial')\n",
    "plt.xlabel('n (in millions)')\n",
    "plt.ylabel('Time')\n",
    "plt.title('Parallel vs. Serial Times')\n",
    "plt.legend(loc='best')\n",
    "plt.show()"
   ]
  },
  {
   "cell_type": "markdown",
   "metadata": {},
   "source": [
    "## Problem 5\n",
    "\n",
    "Write a function that accepts a function handle $f$ to integrate, bounds of integration, and the number of points to use for the approximation.\n",
    "Parallelize the trapezoid rule in order to estimate the integral of $f$ over the given bounds.\n",
    "That is, evenly divide the points among all available processors and run the trapezoid rule on each portion simultaneously.\n",
    "The sum of the results of all the processors will be the estimation of the integral over the entire interval of integration.\n",
    "Return this sum.\n",
    "\n",
    "Demonstrate that your function works."
   ]
  },
  {
   "cell_type": "code",
   "execution_count": 41,
   "metadata": {
    "collapsed": true
   },
   "outputs": [],
   "source": [
    "def trapezoid_parallel(f, a, b, N):\n",
    "    points = np.linspace(a,b,N)\n",
    "    h = points[1] - points[0]\n",
    "    pairs = [(points[i],points[i+1]) for i in range(len(points)-1)]\n",
    "    trap = lambda x : (h/2)*(f(x[0])+f(x[1]))\n",
    "    return sum(dview.map(trap,pairs))"
   ]
  },
  {
   "cell_type": "code",
   "execution_count": 42,
   "metadata": {
    "collapsed": false
   },
   "outputs": [
    {
     "data": {
      "text/plain": [
       "21.375"
      ]
     },
     "execution_count": 42,
     "metadata": {},
     "output_type": "execute_result"
    }
   ],
   "source": [
    "f = lambda x : x**2\n",
    "a = 0\n",
    "b = 4\n",
    "N = 16\n",
    "trapezoid_parallel(f,a,b,N+1)"
   ]
  },
  {
   "cell_type": "code",
   "execution_count": null,
   "metadata": {
    "collapsed": true
   },
   "outputs": [],
   "source": []
  }
 ],
 "metadata": {
  "kernelspec": {
   "display_name": "Python 3",
   "language": "python",
   "name": "python3"
  },
  "language_info": {
   "codemirror_mode": {
    "name": "ipython",
    "version": 3
   },
   "file_extension": ".py",
   "mimetype": "text/x-python",
   "name": "python",
   "nbconvert_exporter": "python",
   "pygments_lexer": "ipython3",
   "version": "3.6.0"
  }
 },
 "nbformat": 4,
 "nbformat_minor": 2
}
