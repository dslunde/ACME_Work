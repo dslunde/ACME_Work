{
 "cells": [
  {
   "cell_type": "markdown",
   "metadata": {},
   "source": [
    "# Volume 3: MongoDB.\n",
    "    Darren Lund\n",
    "    I AM BATMAN\n",
    "    WHY?"
   ]
  },
  {
   "cell_type": "code",
   "execution_count": 7,
   "metadata": {
    "collapsed": true
   },
   "outputs": [],
   "source": [
    "import re\n",
    "import json\n",
    "import numpy as np\n",
    "from pymongo import MongoClient"
   ]
  },
  {
   "cell_type": "markdown",
   "metadata": {},
   "source": [
    "## Problem 1\n",
    "\n",
    "The file `trump.json` contains posts from http://www.twitter.com (tweets) over the course of an hour that have the key word \"trump\".\n",
    "Each line in the file is a single JSON message that can be loaded with `json.loads()`.\n",
    "\n",
    "Create a MongoDB database and initialize a collection in the database.\n",
    "Use the collection's `delete_many()` method with an empy set as input to clear existing contents of the collection, then fill the collection one line at a time with the data from `trump.json`.\n",
    "Check that your collection has 95,643 entries with its `count()` method."
   ]
  },
  {
   "cell_type": "code",
   "execution_count": 6,
   "metadata": {},
   "outputs": [
    {
     "data": {
      "text/plain": [
       "95643"
      ]
     },
     "execution_count": 6,
     "metadata": {},
     "output_type": "execute_result"
    }
   ],
   "source": [
    "client = MongoClient()\n",
    "db = client.db1\n",
    "col = db.collection1\n",
    "col.delete_many({})\n",
    "with open('trump.json','r') as infile :\n",
    "    for line in infile.readlines() :\n",
    "        col.insert_one(json.loads(line))\n",
    "col.count()"
   ]
  },
  {
   "cell_type": "markdown",
   "metadata": {},
   "source": [
    "## Problem 2\n",
    "\n",
    "Query the Twitter collection for the following information.\n",
    "- How many tweets include the word Russia? Use `re.IGNORECASE`.\n",
    "- How many tweets came from one of the main continental US time zones? These are listed as `\"Central Time (US & Canada)\"`, `\"Pacific Time (US & Canada)\"`, `\"Eastern Time (US & Canada)\"`, and `\"Mountain Time (US & Canada)\"`.\n",
    "- How often does each language occur? Construct a dictionary with each language and it’s frequency count."
   ]
  },
  {
   "cell_type": "code",
   "execution_count": 8,
   "metadata": {},
   "outputs": [
    {
     "name": "stdout",
     "output_type": "stream",
     "text": [
      "5841 tweets about Russia.\n"
     ]
    }
   ],
   "source": [
    "russ = re.compile(\"russia\",re.IGNORECASE)\n",
    "mention_russia = col.find({'text':{'$regex':russ}})\n",
    "print(str(mention_russia.count())+\" tweets about Russia.\")"
   ]
  },
  {
   "cell_type": "code",
   "execution_count": 10,
   "metadata": {},
   "outputs": [
    {
     "name": "stdout",
     "output_type": "stream",
     "text": [
      "33939 tweets from US and Canadian time zones.\n"
     ]
    }
   ],
   "source": [
    "time_zones = ['Central Time (US & Canada)','Pacific Time (US & Canada)','Eastern Time (US & Canada)','Mountain Time (US & Canada)']\n",
    "in_us = col.find({'$or':[{'user.time_zone':time_zones[i]} for i in range(len(time_zones))]})\n",
    "print(str(in_us.count())+\" tweets from US and Canadian time zones.\")"
   ]
  },
  {
   "cell_type": "code",
   "execution_count": 13,
   "metadata": {},
   "outputs": [
    {
     "name": "stdout",
     "output_type": "stream",
     "text": [
      "48 different languages.\n",
      "{'en': 82984, 'en-gb': 756, 'tr': 615, 'fr': 1612, 'es': 3496, 'it': 588, 'pt': 752, 'ru': 779, 'nl': 389, 'hr': 24, 'da': 49, 'pl': 123, 'ja': 91, 'id': 95, 'de': 1024, 'el': 33, 'th': 15, 'uk': 4, 'en-GB': 93, 'sv': 121, 'ar': 95, 'ca': 47, 'cs': 13, 'no': 19, 'pt-PT': 1, 'fi': 36, 'en-AU': 3, 'ko': 15, 'ro': 4, 'he': 11, 'fa': 8, 'eu': 1, 'lv': 1, 'vi': 6, 'xx-lc': 5, 'hi': 1, 'zh-CN': 9, 'zh-cn': 5, 'es-MX': 2, 'zh-TW': 2, 'hu': 6, 'sr': 6, 'zh-Hans': 1, 'sk': 1, 'gl': 2, 'zh-tw': 2, 'af': 1, 'en-US': 1}\n"
     ]
    }
   ],
   "source": [
    "languages = col.distinct('user.lang')\n",
    "counts = {}\n",
    "for language in languages :\n",
    "    counts[language] = col.find({'user.lang':language}).count()\n",
    "print(str(len(languages))+\" different languages.\")\n",
    "print(counts)"
   ]
  },
  {
   "cell_type": "markdown",
   "metadata": {},
   "source": [
    "## Problem 3\n",
    "\n",
    "Query the Twitter collection from Problem 1 for the following information.\n",
    "- What are the usernames of the 5 most popular (defined as having the most followers) tweeters? Don’t include repeats.\n",
    "- Of the tweets containing at least 5 hashtags, sort the tweets by how early the 5th hashtag appears in the text. What is the earliest spot (character count) it appears?\n",
    "- What are the coordinates of the tweet that came from the northernmost location? Use the latitude and longitude point in `\"coordinates\"`."
   ]
  },
  {
   "cell_type": "code",
   "execution_count": 23,
   "metadata": {},
   "outputs": [
    {
     "name": "stdout",
     "output_type": "stream",
     "text": [
      "Most followed Tweeters :\n",
      "CNN\twith 35481010 followers.\n",
      "Reuters\twith 17821353 followers.\n",
      "FoxNews\twith 14663497 followers.\n",
      "WSJ\twith 14023091 followers.\n",
      "TIME\twith 14017299 followers.\n"
     ]
    }
   ],
   "source": [
    "populars = col.find({'user.followers_count':{'$gt':1000000}}).sort('user.followers_count',-1)\n",
    "count = 0\n",
    "unique_ids = []\n",
    "print(\"Most followed Tweeters :\")\n",
    "for person in populars :\n",
    "    if count < 5 and person['user']['id'] not in unique_ids :\n",
    "        unique_ids.append(person['user']['id'])\n",
    "        print(person['user']['screen_name'] + '\\twith ' + str(person['user']['followers_count']) + ' followers.')\n",
    "        count += 1\n",
    "    elif count >= 5 :\n",
    "        break"
   ]
  },
  {
   "cell_type": "markdown",
   "metadata": {},
   "source": [
    "## Problem 4\n",
    "\n",
    "Clean the Twitter collection in the following ways.\n",
    "\n",
    "- Get rid of the `\"retweeted_status\"` field in each tweet.\n",
    "- Update every tweet from someone with at least 1000 followers to include a popular field whose value is True. Report the number of popular tweets.\n",
    "- (OPTIONAL) The geographical coordinates used before in coordinates.coordinates are turned off for most tweets. But many more have a bounding box around the coordinates in the place field. Update every tweet without coordinates that contains a bounding box so that the coordinates contains the average value of the points that form the bounding box. Make the structure of coordinates the same as the others, so it contains coordinates with a longitude, latitude array and a type, the value of which should be ’Point’."
   ]
  },
  {
   "cell_type": "code",
   "execution_count": 26,
   "metadata": {},
   "outputs": [
    {
     "name": "stdout",
     "output_type": "stream",
     "text": [
      "32489 popular tweets.\n"
     ]
    }
   ],
   "source": [
    "col.update_many({},{'$unset':{'retweeted_status':\"\"}})\n",
    "col.update_many({'user.followers_count':{'$gte':1000}},{'$set':{'popular':True}})\n",
    "print(str(col.find({'popular':True}).count())+\" popular tweets.\")"
   ]
  },
  {
   "cell_type": "code",
   "execution_count": null,
   "metadata": {
    "collapsed": true
   },
   "outputs": [],
   "source": []
  }
 ],
 "metadata": {
  "kernelspec": {
   "display_name": "Python 3",
   "language": "python",
   "name": "python3"
  },
  "language_info": {
   "codemirror_mode": {
    "name": "ipython",
    "version": 3
   },
   "file_extension": ".py",
   "mimetype": "text/x-python",
   "name": "python",
   "nbconvert_exporter": "python",
   "pygments_lexer": "ipython3",
   "version": "3.6.1"
  }
 },
 "nbformat": 4,
 "nbformat_minor": 2
}
