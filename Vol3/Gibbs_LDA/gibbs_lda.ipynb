{
 "cells": [
  {
   "cell_type": "markdown",
   "metadata": {},
   "source": [
    "# Volume 3: Gibbs Sampling and LDA\n",
    "    Darren Lund\n",
    "    How to be Batman\n",
    "    I'M BATMAN!!!"
   ]
  },
  {
   "cell_type": "code",
   "execution_count": 1,
   "metadata": {
    "collapsed": true
   },
   "outputs": [],
   "source": [
    "import numpy as np\n",
    "from math import sqrt\n",
    "from scipy.stats import norm\n",
    "from scipy.stats import invgamma\n",
    "from scipy.special import gammaln\n",
    "from matplotlib import pyplot as plt\n",
    "from scipy.stats import gaussian_kde"
   ]
  },
  {
   "cell_type": "markdown",
   "metadata": {},
   "source": [
    "## Problem 1\n",
    "\n",
    "Implement a Gibbs sampler for the exam scores problem (using the data in `examscores.npy`)."
   ]
  },
  {
   "cell_type": "code",
   "execution_count": 2,
   "metadata": {
    "collapsed": false
   },
   "outputs": [],
   "source": [
    "def gibbs(y, nu, tau2, alpha, beta, n_samples):\n",
    "    \"\"\"Gibbs sampler for the exam scores problem, assuming the\n",
    "    following likelihood and priors.\n",
    "        y_i    ~ N(mu, sigma2),\n",
    "        mu     ~ N(nu, tau2),\n",
    "        sigma2 ~ IG(alpha, beta),\n",
    "\n",
    "    Parameters:\n",
    "        y ((N,) ndarray): the exam scores.\n",
    "        nu (float): The prior mean parameter for mu.\n",
    "        tau2 (float > 0): The prior variance parameter for mu.\n",
    "        alpha (float > 0): The prior alpha parameter for sigma2.\n",
    "        beta (float < 0): The prior beta parameter for sigma2.\n",
    "        n_samples (int): the number of samples to draw.\n",
    "\n",
    "    Returns:\n",
    "        ((n_samples, 2) ndarray): The mu and sigma2 samples (as columns).\n",
    "    \"\"\"\n",
    "    A = np.zeros((n_samples,2))\n",
    "    N = len(y)\n",
    "    sum_y = sum(y)\n",
    "    mu = np.average(y)\n",
    "    sigma2 = np.var(y)\n",
    "    for i in range(n_samples) :\n",
    "        tao2_star = 1/(1/tau2+N/sigma2)\n",
    "        nu_star = tao2_star*(nu/tau2+sum_y/sigma2)\n",
    "        y_min_mu = sum([(y[j]-mu)**2 for j in range(len(y))])\n",
    "        mu = norm.rvs(nu_star, scale=sqrt(tao2_star))\n",
    "        alpha_star = alpha + N/2\n",
    "        beta_star = beta + y_min_mu/2\n",
    "        sigma2 = invgamma.rvs(alpha_star, scale=beta_star)\n",
    "        A[i,0],A[i,1] = mu,sigma2\n",
    "    return A"
   ]
  },
  {
   "cell_type": "code",
   "execution_count": 3,
   "metadata": {
    "collapsed": true
   },
   "outputs": [],
   "source": [
    "nu = 80\n",
    "tau2 = 16\n",
    "alpha = 3\n",
    "beta = 50\n",
    "n_samples = 1000\n",
    "y = np.load('examscores.npy')\n",
    "# Implement Gibbs Sampler on Exam Scores\n",
    "A = gibbs(y,nu,tau2,alpha,beta,n_samples)"
   ]
  },
  {
   "cell_type": "code",
   "execution_count": 4,
   "metadata": {
    "collapsed": false
   },
   "outputs": [
    {
     "data": {
      "image/png": "[encoded data removed]",
      "text/plain": [
       "<matplotlib.figure.Figure at 0x115fcbeb8>"
      ]
     },
     "metadata": {},
     "output_type": "display_data"
    }
   ],
   "source": [
    "# Plot histogram of the mus\n",
    "plt.hist(A[:,0],bins=20)\n",
    "plt.title('$\\mu$')\n",
    "plt.show()"
   ]
  },
  {
   "cell_type": "code",
   "execution_count": 5,
   "metadata": {
    "collapsed": false
   },
   "outputs": [
    {
     "data": {
      "image/png": "[encoded data removed]",
      "text/plain": [
       "<matplotlib.figure.Figure at 0x116474fd0>"
      ]
     },
     "metadata": {},
     "output_type": "display_data"
    }
   ],
   "source": [
    "# Plot histogram of the sigmas\n",
    "plt.hist(A[:,1],bins=20)\n",
    "plt.title('$\\sigma$')\n",
    "plt.show()"
   ]
  },
  {
   "cell_type": "markdown",
   "metadata": {},
   "source": [
    "## Problem 2\n",
    "\n",
    "Plot the kernel density estimators for the posterior distributions of $\\mu$ and $\\sigma^2$.\n",
    "\n",
    "Next, use your samples of $\\mu$ and $\\sigma^2$ to draw samples from the posterior predictive distribution.\n",
    "Plot the kernel density estimator of your sampled scores."
   ]
  },
  {
   "cell_type": "code",
   "execution_count": 6,
   "metadata": {
    "collapsed": false
   },
   "outputs": [
    {
     "data": {
      "image/png": "[encoded data removed]",
      "text/plain": [
       "<matplotlib.figure.Figure at 0x11658b5c0>"
      ]
     },
     "metadata": {},
     "output_type": "display_data"
    }
   ],
   "source": [
    "# Create kernel graph for mu\n",
    "xmin,xmax = min(A[:,0])-1,max(A[:,0])+1\n",
    "x = np.arange(xmin,xmax,0.1)\n",
    "mu_kern = gaussian_kde(A[:,0])\n",
    "plt.title('$\\mu$')\n",
    "plt.plot(x,mu_kern(x))\n",
    "plt.show()"
   ]
  },
  {
   "cell_type": "code",
   "execution_count": 7,
   "metadata": {
    "collapsed": false
   },
   "outputs": [
    {
     "data": {
      "image/png": "[encoded data removed]",
      "text/plain": [
       "<matplotlib.figure.Figure at 0x11657a208>"
      ]
     },
     "metadata": {},
     "output_type": "display_data"
    }
   ],
   "source": [
    "# Create kernel graph for sigma^2\n",
    "xmin,xmax = min(A[:,1])-1,max(A[:,1])+1\n",
    "x = np.arange(xmin,xmax,0.1)\n",
    "sig_kern = gaussian_kde(A[:,1])\n",
    "plt.title('$\\sigma^{2}$')\n",
    "plt.plot(x,sig_kern(x))\n",
    "plt.show()"
   ]
  },
  {
   "cell_type": "code",
   "execution_count": 8,
   "metadata": {
    "collapsed": false
   },
   "outputs": [
    {
     "data": {
      "image/png": "[encoded data removed]",
      "text/plain": [
       "<matplotlib.figure.Figure at 0x116745668>"
      ]
     },
     "metadata": {},
     "output_type": "display_data"
    }
   ],
   "source": [
    "# Plot actual exam scores distribution\n",
    "y_til = np.random.normal(A[:,0],scale=np.sqrt(A[:,1]))\n",
    "xmin,xmax = min(y_til)-1,max(y_til)+1\n",
    "x = np.arange(xmin,xmax,0.1)\n",
    "y_kern = gaussian_kde(y_til)\n",
    "plt.title('$\\widetilde{y}$')\n",
    "plt.plot(x,y_kern(x))\n",
    "plt.show()"
   ]
  },
  {
   "cell_type": "markdown",
   "metadata": {},
   "source": [
    "## Problem 3\n",
    "\n",
    "Implement `LDACGS.initialize()`.\n",
    "By randomly assigning initial topics, fill in the count matrices and topic assignment dictionary.\n",
    "In this method, you will initialize the count matrices (among other things).\n",
    "\n",
    "To be explicit, you will need to initialize $nmz$, $nzw$, and $nz$ to be zero arrays of the correct size.\n",
    "Then, in the second for loop, you will assign z to be a random integer in the correct range of topics.\n",
    "In the increment step, you need to figure out the correct indices to increment by one for each of the three arrays.\n",
    "Finally, assign $topics$ as given.\n",
    "\n",
    "## Problem 4\n",
    "\n",
    "Complete `LDACGS._sweep()`, which needs to iterate through each word of each document.\n",
    "It should call `LDACGS._conditional()` to get the conditional distribution at each iteration.\n",
    "\n",
    "Note that the first part of this method will undo what `LDACGS.initialize()` did.\n",
    "Then we will use the conditional distribution (instead of the uniform distribution we used previously) to pick a more accurate topic assignment.\n",
    "Finally, the latter part repeats what we did in `LDACGS.initialize()`, but does so using this more accurate topic assignment.\n",
    "\n",
    "## Problem 5\n",
    "\n",
    "Complete `LDACGS.sample()`.\n",
    "The argument `filename` is the name and location of a .txt file, where each line is considered a document.\n",
    "The corpus is built by `LDACGS.buildCorpus()`, and stopwords are removed (if argument `stopwords` is provided).\n",
    "Burn in the Gibbs sampler, computing and saving the log-likelihood with the method `_loglikelihood()`.\n",
    "After the burn in, iterate further, accumulating your count matrices, by adding `nzw` and `nmz` to `total_nzw` and `total_nmz` respectively, where you only add every `sample_rate`th iteration. \n",
    "Also save each log-likelihood."
   ]
  },
  {
   "cell_type": "code",
   "execution_count": 13,
   "metadata": {
    "collapsed": true
   },
   "outputs": [],
   "source": [
    "class LDACGS:\n",
    "    \"\"\"Do LDA with Gibbs Sampling.\"\"\"\n",
    "\n",
    "    def __init__(self, n_topics, alpha=0.1, beta=0.1):\n",
    "        \"\"\"Initialize system parameters.\"\"\"\n",
    "        self.n_topics = n_topics\n",
    "        self.alpha = alpha\n",
    "        self.beta = beta\n",
    "\n",
    "    def buildCorpus(self, filename, stopwords_file=None):\n",
    "        \"\"\"Read the given filename and build the vocabulary.\"\"\"\n",
    "        with open(filename, 'r') as infile:\n",
    "            doclines = [line.rstrip().lower().split(' ') for line in infile]\n",
    "        n_docs = len(doclines)\n",
    "        self.vocab = list({v for doc in doclines for v in doc})\n",
    "        if stopwords_file:\n",
    "            with open(stopwords_file, 'r') as stopfile:\n",
    "                stops = stopfile.read().split()\n",
    "            self.vocab = [x for x in self.vocab if x not in stops]\n",
    "            self.vocab.sort()\n",
    "        self.documents = []\n",
    "        for i in range(n_docs):\n",
    "            self.documents.append({})\n",
    "            for j in range(len(doclines[i])):\n",
    "                if doclines[i][j] in self.vocab:\n",
    "                    self.documents[i][j] = self.vocab.index(doclines[i][j])\n",
    "\n",
    "    def initialize(self):\n",
    "        \"\"\"Initialize the three count matrices.\"\"\"\n",
    "        self.n_words = len(self.vocab)\n",
    "        self.n_docs = len(self.documents)\n",
    "        \n",
    "        # Initialize the three count matrices.\n",
    "        # The (i,j) entry of self.nmz is the number of words in document i assigned to topic j.\n",
    "        self.nmz = np.zeros((self.n_docs, self.n_topics))\n",
    "        # The (i,j) entry of self.nzw is the number of times term j is assigned to topic i.\n",
    "        self.nzw = np.zeros((self.n_topics, self.n_words))\n",
    "        # The (i)-th entry is the number of times topic i is assigned in the corpus.\n",
    "        self.nz = np.zeros(self.n_topics)\n",
    "\n",
    "        # Initialize the topic assignment dictionary.\n",
    "        self.topics = {} # key-value pairs of form (m,i):z\n",
    "\n",
    "        for m in range(self.n_docs):\n",
    "            for i in self.documents[m]:\n",
    "                # Get random topic assignment, i.e. z = ...\n",
    "                # Increment count matrices\n",
    "                # Store topic assignment, i.e. self.topics[(m,i)]=z\n",
    "                \n",
    "                # Random topic\n",
    "                z = np.random.randint(self.n_topics)\n",
    "                # Update nmz\n",
    "                self.nmz[m,z] += 1\n",
    "                # w is the column for the word i in document m\n",
    "                w = self.documents[m][i]\n",
    "                self.nzw[z,w] += 1\n",
    "                # Increment nz\n",
    "                self.nz[z] += 1\n",
    "                # Add to topics\n",
    "                self.topics[(m,i)] = z\n",
    "\n",
    "    def sample(self,filename, burnin=100, sample_rate=10, n_samples=10, stopwords_file=None):\n",
    "        self.buildCorpus(filename, stopwords_file)\n",
    "        self.initialize()\n",
    "        self.total_nzw = np.zeros((self.n_topics, self.n_words))\n",
    "        self.total_nmz = np.zeros((self.n_docs, self.n_topics))\n",
    "        self.logprobs = np.zeros(burnin + sample_rate*n_samples)\n",
    "        for i in range(burnin):\n",
    "            # Sweep and store log likelihood.\n",
    "            self._sweep()\n",
    "            ll = self._loglikelihood()\n",
    "            self.logprobs[i] = ll\n",
    "        for i in range(n_samples*sample_rate):\n",
    "            # Sweep and store log likelihood\n",
    "            self._sweep()\n",
    "            ll = self._loglikelihood()\n",
    "            self.logprobs[burnin+i] = ll\n",
    "            if not i % sample_rate:\n",
    "                # accumulate counts\n",
    "                self.total_nmz += self.nmz\n",
    "                self.total_nzw += self.nzw\n",
    "\n",
    "    def phi(self):\n",
    "        phi = self.total_nzw + self.beta\n",
    "        self._phi = phi / np.sum(phi, axis=1)[:,np.newaxis]\n",
    "\n",
    "    def theta(self):\n",
    "        theta = self.total_nmz + self.alpha\n",
    "        self._theta = theta / np.sum(theta, axis=1)[:,np.newaxis]\n",
    "\n",
    "    def topterms(self,n_terms=10):\n",
    "        self.phi()\n",
    "        self.theta()\n",
    "        vec = np.atleast_2d(np.arange(0,self.n_words))\n",
    "        topics = []\n",
    "        for k in range(self.n_topics):\n",
    "            probs = np.atleast_2d(self._phi[k,:])\n",
    "            mat = np.append(probs,vec,0)\n",
    "            sind = np.array([mat[:,i] for i in np.argsort(mat[0])]).T\n",
    "            topics.append([self.vocab[int(sind[1,self.n_words - 1 - i])] for i in range(n_terms)])\n",
    "        return topics\n",
    "\n",
    "    def toplines(self,n_lines=5):\n",
    "        lines = np.zeros((self.n_topics,n_lines))\n",
    "        for i in range(self.n_topics):\n",
    "            args = np.argsort(self._theta[:,i]).tolist()\n",
    "            args.reverse()\n",
    "            lines[i,:] = np.array(args)[0:n_lines] + 1\n",
    "        return lines\n",
    "\n",
    "    def _removeStopwords(self, stopwords):\n",
    "        return [x for x in self.vocab if x not in stopwords]\n",
    "\n",
    "    def _conditional(self, m, w):\n",
    "        dist = (self.nmz[m,:] + self.alpha) * (self.nzw[:,w] + self.beta) / (self.nz + self.beta*self.n_words)\n",
    "        return dist / np.sum(dist)\n",
    "\n",
    "    def _sweep(self):\n",
    "        for m in range(self.n_docs):\n",
    "            for i in self.documents[m]:\n",
    "                # Retrieve vocab index for i-th word in document m.\n",
    "                w = self.documents[m][i]\n",
    "                # Retrieve topic assignment for i-th word in document m.\n",
    "                z = self.topics[(m,i)]\n",
    "                # Decrement count matrices.\n",
    "                self.nmz[m,z] -= 1\n",
    "                self.nzw[z,w] -= 1\n",
    "                self.nz[z] -= 1\n",
    "                # Get conditional distribution.\n",
    "                cond = self._conditional(m,w)\n",
    "                # Sample new topic assignment.\n",
    "                new_z = np.random.choice(np.arange(self.n_topics), None, p=cond)\n",
    "                # Increment count matrices.\n",
    "                self.nmz[m,new_z] += 1\n",
    "                self.nzw[new_z,w] += 1\n",
    "                self.nz[new_z] += 1\n",
    "                # Store new topic assignment.\n",
    "                self.topics[(m,i)] = new_z\n",
    "\n",
    "    def _loglikelihood(self):\n",
    "        lik = 0\n",
    "\n",
    "        for z in range(self.n_topics):\n",
    "            lik += np.sum(gammaln(self.nzw[z,:] + self.beta)) - gammaln(np.sum(self.nzw[z,:] + self.beta))\n",
    "            lik -= self.n_words * gammaln(self.beta) - gammaln(self.n_words*self.beta)\n",
    "\n",
    "        for m in range(self.n_docs):\n",
    "            lik += np.sum(gammaln(self.nmz[m,:] + self.alpha)) - gammaln(np.sum(self.nmz[m,:] + self.alpha))\n",
    "            lik -= self.n_topics * gammaln(self.alpha) - gammaln(self.n_topics*self.alpha)\n",
    "\n",
    "        return lik"
   ]
  },
  {
   "cell_type": "markdown",
   "metadata": {},
   "source": [
    "## Problem 6\n",
    "\n",
    "Create an `LDACGS` object with $20$ topics, letting $\\alpha$ and $\\beta$ be the default values.\n",
    "Run the Gibbs sampler, with a burn in of $100$ iterations, accumulating $10$ samples, only keeping the results of every $10$th sweep.\n",
    "Use `stopwords.txt` as the stopwords file.\n",
    "\n",
    "Plot the log-likelihoods. How long did it take to burn in?"
   ]
  },
  {
   "cell_type": "code",
   "execution_count": 14,
   "metadata": {
    "collapsed": false,
    "scrolled": true
   },
   "outputs": [
    {
     "data": {
      "image/png": "[encoded data removed]",
      "text/plain": [
       "<matplotlib.figure.Figure at 0x116098780>"
      ]
     },
     "metadata": {},
     "output_type": "display_data"
    }
   ],
   "source": [
    "num_topics = 20\n",
    "obj = LDACGS(num_topics)\n",
    "obj.sample('reagan.txt',stopwords_file='stopwords.txt')\n",
    "plt.plot(np.arange(0,len(obj.logprobs),1),obj.logprobs)\n",
    "plt.title('Log-Likelihoods')\n",
    "plt.xlabel('Sweep')\n",
    "plt.ylabel('LL')\n",
    "plt.show()"
   ]
  },
  {
   "cell_type": "markdown",
   "metadata": {},
   "source": [
    "## Problem 7\n",
    "\n",
    "Using `topterms()` to examine the topics for Reagan's addresses.\n",
    "Come up with labels for each topic.\n",
    "If `ntopics=20` and `n=10`, we will get the top $10$ words that represent each of the $20$ topics; for each topic, decide what these ten words jointly represent."
   ]
  },
  {
   "cell_type": "code",
   "execution_count": 15,
   "metadata": {
    "collapsed": false
   },
   "outputs": [
    {
     "data": {
      "text/plain": [
       "[['defense',\n",
       "  'soviet',\n",
       "  'arms',\n",
       "  'security',\n",
       "  'nuclear',\n",
       "  'military',\n",
       "  'national',\n",
       "  'strategic',\n",
       "  \"we're\",\n",
       "  'forces'],\n",
       " ['waste',\n",
       "  'fraud',\n",
       "  'health',\n",
       "  'food',\n",
       "  \"we're\",\n",
       "  'taxpayers',\n",
       "  'needy,',\n",
       "  'medicare',\n",
       "  'congress',\n",
       "  'called'],\n",
       " ['tax',\n",
       "  'economic',\n",
       "  'rates',\n",
       "  'interest',\n",
       "  'inflation',\n",
       "  '--',\n",
       "  'rate',\n",
       "  'percent',\n",
       "  'program',\n",
       "  'government'],\n",
       " ['work',\n",
       "  \"let's\",\n",
       "  'jobs',\n",
       "  'people',\n",
       "  'give',\n",
       "  'americans',\n",
       "  'job',\n",
       "  'veto',\n",
       "  'million',\n",
       "  'congress'],\n",
       " ['people',\n",
       "  'well,',\n",
       "  \"don't\",\n",
       "  'american',\n",
       "  'day',\n",
       "  \"they're\",\n",
       "  'people.',\n",
       "  'government',\n",
       "  'begin',\n",
       "  \"it's\"],\n",
       " ['life',\n",
       "  'human',\n",
       "  'child',\n",
       "  'legislation',\n",
       "  'unborn',\n",
       "  'protect',\n",
       "  'now,',\n",
       "  'illness',\n",
       "  'terrible',\n",
       "  'fear'],\n",
       " ['children',\n",
       "  'family',\n",
       "  'families',\n",
       "  'school',\n",
       "  'full',\n",
       "  'education',\n",
       "  'give',\n",
       "  'and,',\n",
       "  'parents',\n",
       "  'back'],\n",
       " ['--',\n",
       "  'america',\n",
       "  'american',\n",
       "  'great',\n",
       "  'spirit',\n",
       "  'years',\n",
       "  'make',\n",
       "  \"america's\",\n",
       "  'government',\n",
       "  'nation'],\n",
       " ['peace',\n",
       "  'world',\n",
       "  'economic',\n",
       "  'america',\n",
       "  \"america's\",\n",
       "  'freedom',\n",
       "  'free',\n",
       "  \"we've\",\n",
       "  'make',\n",
       "  'future'],\n",
       " ['budget',\n",
       "  'government',\n",
       "  'deficits',\n",
       "  'spending',\n",
       "  'federal',\n",
       "  'deficit',\n",
       "  'national',\n",
       "  'taxes',\n",
       "  'reduce',\n",
       "  'dollars'],\n",
       " ['trade',\n",
       "  'continue',\n",
       "  'support',\n",
       "  'american',\n",
       "  \"we'll\",\n",
       "  'greater',\n",
       "  'fair',\n",
       "  'work',\n",
       "  'world',\n",
       "  'strengthen'],\n",
       " ['federal',\n",
       "  'programs',\n",
       "  'government',\n",
       "  'billion',\n",
       "  'states',\n",
       "  'social',\n",
       "  'welfare',\n",
       "  'program',\n",
       "  'local',\n",
       "  'savings'],\n",
       " ['senate',\n",
       "  'rights',\n",
       "  'crime',\n",
       "  'leader',\n",
       "  'majority',\n",
       "  'join',\n",
       "  'years',\n",
       "  'time',\n",
       "  'victims',\n",
       "  'house'],\n",
       " ['--',\n",
       "  'america',\n",
       "  \"we're\",\n",
       "  'people',\n",
       "  'time',\n",
       "  'great',\n",
       "  'free',\n",
       "  'americans',\n",
       "  'good',\n",
       "  'tonight'],\n",
       " ['congress',\n",
       "  'state',\n",
       "  'president',\n",
       "  'union',\n",
       "  'address',\n",
       "  'joint',\n",
       "  'session',\n",
       "  'ronald',\n",
       "  \"reagan's\",\n",
       "  \"i'm\"],\n",
       " ['freedom',\n",
       "  'democratic',\n",
       "  'people',\n",
       "  'god',\n",
       "  'central',\n",
       "  'democracy',\n",
       "  'bless',\n",
       "  'you,',\n",
       "  'free',\n",
       "  'america.'],\n",
       " ['time',\n",
       "  'private',\n",
       "  'task',\n",
       "  'administration',\n",
       "  'sector',\n",
       "  '.',\n",
       "  'force',\n",
       "  \"it's\",\n",
       "  'states',\n",
       "  'initiatives'],\n",
       " ['mr.',\n",
       "  'congress,',\n",
       "  'members',\n",
       "  'speaker,',\n",
       "  'space',\n",
       "  'president,',\n",
       "  'distinguished',\n",
       "  'fellow',\n",
       "  'honored',\n",
       "  'historic'],\n",
       " ['bipartisan',\n",
       "  'commission',\n",
       "  'social',\n",
       "  'security',\n",
       "  'protect',\n",
       "  'americans',\n",
       "  'security,',\n",
       "  'it,',\n",
       "  'cooperation',\n",
       "  'system'],\n",
       " ['--',\n",
       "  'born',\n",
       "  'confidence',\n",
       "  'program.',\n",
       "  'time,',\n",
       "  'business',\n",
       "  \"you'll\",\n",
       "  'send',\n",
       "  'mothers',\n",
       "  'industries']]"
      ]
     },
     "execution_count": 15,
     "metadata": {},
     "output_type": "execute_result"
    }
   ],
   "source": [
    "obj.topterms()"
   ]
  },
  {
   "cell_type": "markdown",
   "metadata": {},
   "source": [
    "I'd say the top topics are :  \n",
    "* The Cold War (and defense for it)\n",
    "* Social benefits in America and their status\n",
    "* Taxes and government spending\n",
    "* Job climate and how we can improve it\n",
    "* The American People\n",
    "* Abortion (and legislation regarding it)\n",
    "* Everyday family life\n",
    "* Patriotism\n",
    "* Hope for a peaceful future\n",
    "* Government spending\n",
    "* Strengthening the economy\n",
    "* Improving welfare programs\n",
    "* Congress's efforts on crime\n",
    "* Freedom for Americans\n",
    "* Introduction (for the state of the union)\n",
    "* Democracy's connection to freedom\n",
    "* Administrative details\n",
    "* Extended greetings\n",
    "* Social Security\n",
    "* Confidence for future industry"
   ]
  },
  {
   "cell_type": "code",
   "execution_count": null,
   "metadata": {
    "collapsed": true
   },
   "outputs": [],
   "source": []
  }
 ],
 "metadata": {
  "kernelspec": {
   "display_name": "Python 3",
   "language": "python",
   "name": "python3"
  },
  "language_info": {
   "codemirror_mode": {
    "name": "ipython",
    "version": 3
   },
   "file_extension": ".py",
   "mimetype": "text/x-python",
   "name": "python",
   "nbconvert_exporter": "python",
   "pygments_lexer": "ipython3",
   "version": "3.6.0"
  }
 },
 "nbformat": 4,
 "nbformat_minor": 2
}
