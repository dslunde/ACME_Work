{
 "cells": [
  {
   "cell_type": "markdown",
   "metadata": {},
   "source": [
    "# Volume 3: Metropolis. Solutions."
   ]
  },
  {
   "cell_type": "code",
   "execution_count": 1,
   "metadata": {
    "collapsed": true
   },
   "outputs": [],
   "source": [
    "import numpy as np\n",
    "from scipy import stats\n",
    "from math import sqrt , exp, log\n",
    "from matplotlib import pyplot as plt"
   ]
  },
  {
   "cell_type": "markdown",
   "metadata": {},
   "source": [
    "## Problem 1\n",
    "\n",
    "Write a function that accepts an integer $n$ and returns a random spin configuration for an $n \\times n$ lattice (as an $n \\times n$ NumPy array of $1$s and $-1$s).\n",
    "Test your function with $n = 100$, plotting the spin configuration via `plt.imshow()`."
   ]
  },
  {
   "cell_type": "code",
   "execution_count": 2,
   "metadata": {
    "collapsed": true
   },
   "outputs": [],
   "source": [
    "def random_lattice(n):\n",
    "    \"\"\"Construct a random spin configuration for an nxn lattice.\"\"\"\n",
    "    #raise NotImplementedError(\"Problem 1 Incomplete\")\n",
    "    A = np.random.binomial(1,0.5,size=(n,n))\n",
    "    mask = A == 0\n",
    "    A += (A-1)*mask\n",
    "    return A"
   ]
  },
  {
   "cell_type": "code",
   "execution_count": 3,
   "metadata": {
    "collapsed": false
   },
   "outputs": [
    {
     "data": {
      "image/png": "[encoded data removed]",
      "text/plain": [
       "<matplotlib.figure.Figure at 0x10f75b358>"
      ]
     },
     "metadata": {},
     "output_type": "display_data"
    }
   ],
   "source": [
    "n=100\n",
    "A = random_lattice(n)\n",
    "plt.imshow(A,cmap='gray')\n",
    "plt.show()"
   ]
  },
  {
   "cell_type": "markdown",
   "metadata": {},
   "source": [
    "## Problem 2\n",
    "\n",
    "Write a function that accepts a spin configuration $\\sigma$ for a lattice as a NumPy array.\n",
    "Compute the energy $H(\\sigma)$ of the spin configuration.\n",
    "Be careful to not double count site pair interactions!"
   ]
  },
  {
   "cell_type": "code",
   "execution_count": 4,
   "metadata": {
    "collapsed": true
   },
   "outputs": [],
   "source": [
    "def lattice_energy(L):\n",
    "    \"\"\"Computer the energy of the spin configuration corresponding to the\n",
    "    lattice L.\n",
    "    \"\"\"\n",
    "    #raise NotImplementedError(\"Problem 2 Incomplete\")\n",
    "    first_way = np.sum(L*np.sum(np.roll(L,1,axis=0),axis=0))\n",
    "    second_way = np.sum(L*np.sum(np.roll(L,1,axis=1),axis=0))\n",
    "    third_way = np.sum(L*np.sum(np.roll(L,-1,axis=0),axis=0))\n",
    "    fourth_way = np.sum(L*np.sum(np.roll(L,-1,axis=1),axis=0))\n",
    "    return first_way + second_way + third_way + fourth_way"
   ]
  },
  {
   "cell_type": "markdown",
   "metadata": {},
   "source": [
    "## Problem 3\n",
    "\n",
    "Write a function that accepts an integer $n$ and chooses a pair of indices $(i,j)$ where $0 \\le i,j \\le n-1$.\n",
    "Each possible pair should have an equal probability $\\frac{1}{n^2}$ of being chosen."
   ]
  },
  {
   "cell_type": "code",
   "execution_count": 5,
   "metadata": {
    "collapsed": true
   },
   "outputs": [],
   "source": [
    "def flip_location(n):\n",
    "    \"\"\"Choose a random pair of indices 0 <= i,j <= n-1.\"\"\"\n",
    "    #raise NotImplementedError(\"Problem 3 Incomplete\")\n",
    "    return np.random.randint(0,n,2)"
   ]
  },
  {
   "cell_type": "markdown",
   "metadata": {},
   "source": [
    "## Problem 4\n",
    "\n",
    "Write a function that accepts a spin configuration $\\sigma$, its energy $H(\\sigma)$, and integer indices $i$ and $j$.\n",
    "Compute the energy of the new spin configuration $\\sigma^*$, which is $\\sigma$ but with the spin flipped at the $(i,j)$th entry of the corresponding lattice.\n",
    "Do not explicitly construct the new lattice for $\\sigma^*$."
   ]
  },
  {
   "cell_type": "code",
   "execution_count": 10,
   "metadata": {
    "collapsed": true
   },
   "outputs": [],
   "source": [
    "def updated_energy(L, L_energy, i, j):\n",
    "    \"\"\"Compute the energy of the spin configuration that results\n",
    "    when the (i,j)th spin of L is flipped.\n",
    "    \"\"\"\n",
    "    #raise NotImplementedError(\"Problem 4 Incomplete\")\n",
    "    n = L.shape[0]\n",
    "    up = j-1\n",
    "    down = j+1\n",
    "    left = i-1\n",
    "    right = i+1\n",
    "    if i == 0 :\n",
    "        left = -1\n",
    "    elif i == n-1 :\n",
    "        right = 0\n",
    "    if j == 0 :\n",
    "        up = -1\n",
    "    elif j == n-1 :\n",
    "        down = 0\n",
    "    add = L[i,j]*(L[left,j]+L[right,j]+L[i,up]+L[i,down])\n",
    "    return L_energy + 2*add"
   ]
  },
  {
   "cell_type": "markdown",
   "metadata": {},
   "source": [
    "## Problem 5\n",
    "\n",
    "Write a function that accepts a float $\\beta$ and spin configuration energies $H(\\sigma)$ and $H(\\sigma^*)$.\n",
    "Calculate whether or not the new spin configuration $\\sigma^*$ should be accepted (return `True` or `False`)."
   ]
  },
  {
   "cell_type": "code",
   "execution_count": 7,
   "metadata": {
    "collapsed": true
   },
   "outputs": [],
   "source": [
    "def accept(beta, energy_old, energy_new):\n",
    "    \"\"\"Accept or reject the new spin configuration.\"\"\"\n",
    "    #raise NotImplementedError(\"Problem 5 Incomplete\")\n",
    "    val = True\n",
    "    if energy_old <= energy_new :\n",
    "        A = exp(beta*(energy_old-energy_new))\n",
    "        a = np.random.uniform()\n",
    "        val = a <= A\n",
    "    return val"
   ]
  },
  {
   "cell_type": "markdown",
   "metadata": {},
   "source": [
    "## Problem 6\n",
    "\n",
    "Write a function that accepts a float $\\beta>0$ and integers $n$, `n_samples`, and `burn_in`.\n",
    "Initialize an $n\\times n$ lattice for a spin configuration $\\sigma$ using `random_lattice()`.\n",
    "Use the Metropolis algorithm to (potentially) update the lattice `burn_in` times.\n",
    "1. Use `flip_location()` to choose a site for possibly flipping the spin, thus defining a potential new configuration $\\sigma^*$.\n",
    "2. Use `updated_energy()` to calculate the energy $H(\\sigma^*)$ of the proposed configuration.\n",
    "3. Use `accept()` to accept or reject the proposed configuration. If it is accepted, set $\\sigma = \\sigma^*$ by flipping the spin at the indicated site.\n",
    "4. Track $-\\beta H(\\sigma)$ at each iteration (independent of acceptance).\n",
    "\n",
    "After the burn-in period, continue the iteration `n_samples` times, also recording every $100$th sample (to prevent memory failure).\n",
    "Return the samples, the sequence of weighted energies $-\\beta H(\\sigma)$, and the acceptance rate.\n",
    "\n",
    "Test your sampler on a $100 \\times 100$ grid with $200000$ total iterations, with `n_samples` large enough so that you will keep $50$ samples, for $\\beta = 0.2, 0.4, 1$.\n",
    "Plot the proportional log probabilities, as well as a late sample from each test.\n"
   ]
  },
  {
   "cell_type": "code",
   "execution_count": 35,
   "metadata": {
    "collapsed": false
   },
   "outputs": [],
   "source": [
    "def ising_metropolis(beta, n=100, n_samples=5000, burn_in=195000):\n",
    "    \"\"\"Use the Metropolis algorithm to choose new spin configurations.\n",
    "\n",
    "    Parameters:\n",
    "        beta (float > 0): Constant inversely proportional to the temperature.\n",
    "        N (int > 0): The size of the lattice.\n",
    "        n_samples (int): The number of samples to generate.\n",
    "        burnin (int): The number of iterations to burn before sampling.\n",
    "\n",
    "    Returns:\n",
    "        ((n_samples//100, n,n) ndarray): The sampled spin configurations.\n",
    "        (n_samples+burn_in) ndarray: The weighted energies of each configuration.\n",
    "        (float): The proportion of proposed samples that were accepted.\n",
    "    \"\"\"\n",
    "    #raise NotImplementedError(\"Problem 6 Incomplete\")\n",
    "    accept_counter = 0\n",
    "    laticies = []\n",
    "    weights = []\n",
    "    L = random_lattice(n)\n",
    "    H_old = lattice_energy(L)\n",
    "    for k in range(n_samples+burn_in):\n",
    "        i,j = flip_location(n)\n",
    "        H_new = updated_energy(L,H_old,i,j)\n",
    "        acc = accept(beta,H_old,H_new)\n",
    "        if acc :\n",
    "            if k >= burn_in :\n",
    "                accept_counter += 1\n",
    "            L[i,j] = -L[i,j]\n",
    "            H_old = H_new\n",
    "        weights.append(-beta*H_old)\n",
    "        if k >= burn_in and ((k-burn_in)%100) == 0 :\n",
    "                laticies.append(L)\n",
    "    return laticies, weights, accept_counter/n_samples"
   ]
  },
  {
   "cell_type": "code",
   "execution_count": 36,
   "metadata": {
    "collapsed": false
   },
   "outputs": [
    {
     "data": {
      "image/png": "[encoded data removed]",
      "text/plain": [
       "<matplotlib.figure.Figure at 0x1136d8d30>"
      ]
     },
     "metadata": {},
     "output_type": "display_data"
    }
   ],
   "source": [
    "n = 100\n",
    "n_samples = 5000\n",
    "burn_in = 200000 - n_samples\n",
    "betas = [0.2,0.4,1]\n",
    "r = len(betas)\n",
    "x = [i for i in range(1,200001)]\n",
    "for i in range(r) :\n",
    "    beta = betas[i]\n",
    "    lats, weights, acc_rat = ising_metropolis(beta,n,n_samples,burn_in)\n",
    "    plt.subplot(r,2,2*i+1)\n",
    "    plt.plot(x,weights)\n",
    "    plt.subplot(r,2,2*i+2)\n",
    "    plt.imshow(lats[-1])\n",
    "plt.show()"
   ]
  },
  {
   "cell_type": "code",
   "execution_count": null,
   "metadata": {
    "collapsed": true
   },
   "outputs": [],
   "source": []
  }
 ],
 "metadata": {
  "kernelspec": {
   "display_name": "Python 3",
   "language": "python",
   "name": "python3"
  },
  "language_info": {
   "codemirror_mode": {
    "name": "ipython",
    "version": 3
   },
   "file_extension": ".py",
   "mimetype": "text/x-python",
   "name": "python",
   "nbconvert_exporter": "python",
   "pygments_lexer": "ipython3",
   "version": "3.6.0"
  }
 },
 "nbformat": 4,
 "nbformat_minor": 2
}
