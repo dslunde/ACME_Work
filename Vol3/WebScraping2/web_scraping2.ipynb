{
 "cells": [
  {
   "cell_type": "markdown",
   "metadata": {},
   "source": [
    "<h1 align=\"center\">Volume 3: Web Scraping 2</h1>\n",
    "    <Name>\n",
    "    <Class>\n",
    "    <Date>"
   ]
  },
  {
   "cell_type": "code",
   "execution_count": 76,
   "metadata": {
    "collapsed": true
   },
   "outputs": [],
   "source": [
    "import re\n",
    "import time\n",
    "import requests\n",
    "from bs4 import BeautifulSoup\n",
    "import numpy as np\n",
    "from selenium import webdriver\n",
    "from selenium.webdriver.common.keys import Keys\n",
    "from selenium.common.exceptions import NoSuchElementException\n",
    "from matplotlib import pyplot as plt, rcParams\n",
    "%matplotlib inline\n",
    "# rcParams[\"figure.figsize\"] = (16,12)    # Use this line to increase your figure size (optional)."
   ]
  },
  {
   "cell_type": "markdown",
   "metadata": {},
   "source": [
    "## Problem 1\n",
    "Modify `wunder_temp()` (below) so that it gathers the Actual Mean Temperature, Actual Max Temperature, and Actual Min Temperature for every day in July of 2012.\n",
    "Plot these three measurements against time on the same plot.\n",
    "Consider printing information at each iteration of the outer loop to keep track of the program’s progress.\n",
    "\n",
    "Display the plot inline below."
   ]
  },
  {
   "cell_type": "code",
   "execution_count": 2,
   "metadata": {
    "collapsed": true
   },
   "outputs": [],
   "source": [
    "# Problem 1\n",
    "def wunder_temp(day=\"/history/airport/KSAN/2012/7/1/DailyHistory.html\"):\n",
    "    \"\"\"Crawl through Weather Underground and extract temperature data.\"\"\"\n",
    "    # Initialize variables, including a regex for finding the 'Next Day' link.\n",
    "    actual_mean_temp = []\n",
    "    actual_max_temp = []\n",
    "    actual_min_temp = []\n",
    "    next_day_finder = re.compile(r\"Next Day\")\n",
    "    base_url = \"https://www.wunderground.com\"       # Web page base URL.\n",
    "    page = base_url + day                           # Complete page URL.\n",
    "    current1 = None\n",
    "    current2 = None\n",
    "    current3 = None\n",
    "\n",
    "    for _ in range(31):\n",
    "        while current1 is None or current2 is None or current3 is None :  # Try downloading until it works.\n",
    "            # Download the page source and PAUSE before continuing.\n",
    "            page_source = requests.get(page).text\n",
    "            time.sleep(1)           # PAUSE before continuing.\n",
    "            soup = BeautifulSoup(page_source, \"html.parser\")\n",
    "            current1 = soup.find(string=\"Mean Temperature\")\n",
    "            current2 = soup.find(string=\"Max Temperature\")\n",
    "            current3 = soup.find(string=\"Min Temperature\")\n",
    "\n",
    "        # Navigate to the relevant tag, then extract the temperature data.\n",
    "        temp_tag_mean = current1.parent.parent.next_sibling.next_sibling.span.span\n",
    "        temp_tag_max = current2.parent.parent.next_sibling.next_sibling.span.span\n",
    "        temp_tag_min = current3.parent.parent.next_sibling.next_sibling.span.span\n",
    "        actual_mean_temp.append(int(temp_tag_mean.string))\n",
    "        actual_max_temp.append(int(temp_tag_max.string))\n",
    "        actual_min_temp.append(int(temp_tag_min.string))\n",
    "\n",
    "        # Find the URL for the page with the next day's data.\n",
    "        new_day = soup.find(string=next_day_finder).parent[\"href\"]\n",
    "        page = base_url + new_day                   # New complete page URL.\n",
    "        current1 = None\n",
    "        current2 = None\n",
    "        current3 = None\n",
    "    \n",
    "        print(\"July {} finished.\".format(_+1))\n",
    "    return actual_mean_temp , actual_max_temp , actual_min_temp"
   ]
  },
  {
   "cell_type": "code",
   "execution_count": 3,
   "metadata": {
    "collapsed": false
   },
   "outputs": [
    {
     "name": "stdout",
     "output_type": "stream",
     "text": [
      "July 1 finished.\n",
      "July 2 finished.\n",
      "July 3 finished.\n",
      "July 4 finished.\n",
      "July 5 finished.\n",
      "July 6 finished.\n",
      "July 7 finished.\n",
      "July 8 finished.\n",
      "July 9 finished.\n",
      "July 10 finished.\n",
      "July 11 finished.\n",
      "July 12 finished.\n",
      "July 13 finished.\n",
      "July 14 finished.\n",
      "July 15 finished.\n",
      "July 16 finished.\n",
      "July 17 finished.\n",
      "July 18 finished.\n",
      "July 19 finished.\n",
      "July 20 finished.\n",
      "July 21 finished.\n",
      "July 22 finished.\n",
      "July 23 finished.\n",
      "July 24 finished.\n",
      "July 25 finished.\n",
      "July 26 finished.\n",
      "July 27 finished.\n",
      "July 28 finished.\n",
      "July 29 finished.\n",
      "July 30 finished.\n",
      "July 31 finished.\n"
     ]
    },
    {
     "data": {
      "image/png": "[encoded data removed]",
      "text/plain": [
       "<matplotlib.figure.Figure at 0x10b020dd8>"
      ]
     },
     "metadata": {},
     "output_type": "display_data"
    }
   ],
   "source": [
    "mean, maxs, mins = wunder_temp()\n",
    "X = np.linspace(1,31,31)\n",
    "plt.plot(X,mean,'-g',label='Mean')\n",
    "plt.plot(X,maxs,'-r',label='Max')\n",
    "plt.plot(X,mins,'-b',label='Min')\n",
    "plt.legend(loc=1)\n",
    "plt.title('July 2012')\n",
    "plt.show()"
   ]
  },
  {
   "cell_type": "markdown",
   "metadata": {},
   "source": [
    "## Problem 2\n",
    "\n",
    "Modify `bank_data()` so that it extracts the total consolidated assets (\"Consol Assets\") for JPMorgan Chase, Bank of America, and Wells Fargo recorded each December from 2004 to the present.\n",
    "In a single figure, plot each bank’s assets against time.\n",
    "Be careful to keep the data sorted by date.\n",
    "\n",
    "Display the plot inline below."
   ]
  },
  {
   "cell_type": "code",
   "execution_count": 4,
   "metadata": {
    "collapsed": true
   },
   "outputs": [],
   "source": [
    "# Problem 2\n",
    "def bank_data():\n",
    "    \"\"\"Crawl through the Federal Reserve site and extract bank data.\"\"\"\n",
    "    # Compile regular expressions for finding certain tags.\n",
    "    link_finder = re.compile(r\"(200[4-9]|201[0-6])$\")\n",
    "    date_string = re.compile(r\"December 31, (?:200[4-9]|201[0-6]) ?$\")\n",
    "    chase_bank_finder = re.compile(r\"^JPMORGAN CHASE BK\")\n",
    "    bank_of_america_finder = re.compile(r\"^BANK OF AMER NA\")\n",
    "    wells_fargo_finder = re.compile(r\"^WELLS FARGO BK NA\")\n",
    "\n",
    "    # Get the base page and find the URLs to all other relevant pages.\n",
    "    base_url=\"https://www.federalreserve.gov/releases/lbr/\"\n",
    "    base_page_source = requests.get(base_url).text\n",
    "    base_soup = BeautifulSoup(base_page_source, \"html.parser\")\n",
    "    link_tags = base_soup.find_all(name='a', href=True, string=link_finder)\n",
    "    pages = [base_url + tag.attrs[\"href\"] for tag in link_tags]\n",
    "\n",
    "    # Crawl through the individual pages and record the data.\n",
    "    years = []\n",
    "    chase_assets = []\n",
    "    bofa_assets = []\n",
    "    wells_assets = []\n",
    "    for page in pages[::4]:\n",
    "        time.sleep(1)               # PAUSE, then request the page.\n",
    "        soup = BeautifulSoup(requests.get(page).text, \"html.parser\")\n",
    "\n",
    "        # Find the tag corresponding to Chase Banks's consolidated assets.\n",
    "        date_tag = soup.find(string=date_string)\n",
    "        if date_tag == None : \n",
    "            print(soup.find(name=\"title\"))\n",
    "        else :\n",
    "            temp_tag1 = soup.find(name=\"td\", string=chase_bank_finder)\n",
    "            temp_tag2 = soup.find(name=\"td\", string=bank_of_america_finder)\n",
    "            temp_tag3 = soup.find(name=\"td\", string=wells_fargo_finder)\n",
    "            for _ in range(10):\n",
    "                temp_tag1 = temp_tag1.next_sibling\n",
    "                temp_tag2 = temp_tag2.next_sibling\n",
    "                temp_tag3 = temp_tag3.next_sibling\n",
    "            # Extract the data, removing commas.\n",
    "            years.append(int(date_tag.string[-5:]))\n",
    "            chase_assets.append(int(temp_tag1.string.replace(',', '')))\n",
    "            bofa_assets.append(int(temp_tag2.string.replace(',', '')))\n",
    "            wells_assets.append(int(temp_tag3.string.replace(',', '')))\n",
    "\n",
    "            print(\"Finished {}\".format(years[-1]))\n",
    "    return chase_assets , bofa_assets , wells_assets , years"
   ]
  },
  {
   "cell_type": "code",
   "execution_count": 5,
   "metadata": {
    "collapsed": false
   },
   "outputs": [
    {
     "name": "stdout",
     "output_type": "stream",
     "text": [
      "Finished 2016\n",
      "Finished 2015\n",
      "Finished 2014\n",
      "Finished 2013\n",
      "Finished 2012\n",
      "Finished 2011\n",
      "Finished 2010\n",
      "Finished 2009\n",
      "Finished 2008\n",
      "Finished 2007\n",
      "Finished 2006\n",
      "Finished 2005\n",
      "Finished 2004\n"
     ]
    },
    {
     "data": {
      "image/png": "[encoded data removed]",
      "text/plain": [
       "<matplotlib.figure.Figure at 0x1036b2400>"
      ]
     },
     "metadata": {},
     "output_type": "display_data"
    }
   ],
   "source": [
    "chase , bofa , wells , years = bank_data()\n",
    "plt.plot(years,chase,'-b',label=\"Chase\")\n",
    "plt.plot(years,bofa,'-g',label=\"BofA\")\n",
    "plt.plot(years,wells,'-r',label=\"Wells\")\n",
    "plt.title(\"Consolidated Assets\")\n",
    "plt.xticks(years,rotation=15)\n",
    "plt.show()"
   ]
  },
  {
   "cell_type": "markdown",
   "metadata": {},
   "source": [
    "## Problem 3\n",
    "\n",
    "ESPN hosts data on NBA athletes at http://www.espn.go.com/nba/statistics.\n",
    "Each player has their own page with detailed performance statistics.\n",
    "For each of the five offensive leaders in points and each of the five defensive leaders in rebounds, extract the player's career minutes per game (MPG) and career points per game (PPG).\n",
    "Make a scatter plot of MPG against PPG for these ten players.\n",
    "\n",
    "Display the plot inline below."
   ]
  },
  {
   "cell_type": "code",
   "execution_count": 70,
   "metadata": {
    "collapsed": false
   },
   "outputs": [],
   "source": [
    "# Problem 3\n",
    "def NBA() :\n",
    "    off_string = re.compile(r\"^Offensive Leaders$|.+\")\n",
    "    base_url = \"http://www.espn.com/nba/statistics\"\n",
    "    base_page_source = requests.get(base_url).text\n",
    "    base_soup = BeautifulSoup(base_page_source,\"html.parser\")\n",
    "    points_tag = base_soup.find_all(name=['a','div'],string=off_string)\n",
    "    off_leaders = []\n",
    "    def_leaders = []\n",
    "    for i in range(len(points_tag)) :\n",
    "        if points_tag[i].string == \"Offensive Leaders\" :\n",
    "            off_leaders = points_tag[i+1:i+6]\n",
    "        elif points_tag[i].string == \"Defensive Leaders\" :\n",
    "            def_leaders = points_tag[i+1:i+6]\n",
    "        if(len(off_leaders) > 0 and len(def_leaders) > 0) :\n",
    "            break\n",
    "    career_string = re.compile(r\"^Career$|.+\")\n",
    "    off_data = {}\n",
    "    for leader in off_leaders :\n",
    "        time.sleep(1)\n",
    "        new_url = leader['href']\n",
    "        leader_page = requests.get(new_url).text\n",
    "        leader_soup = BeautifulSoup(leader_page,\"html.parser\")\n",
    "        career_tag = leader_soup.find_all(name='td',string=career_string)\n",
    "        for i in range(len(career_tag)) :\n",
    "            if career_tag[i].string == \"Career\" and 'p' not in [tag.name for tag in career_tag[i].children] :\n",
    "                off_data[leader.string] = {'MPG':career_tag[i+2].string,'PPG':career_tag[i+15].string}\n",
    "                break\n",
    "    def_data = {}\n",
    "    for leader in def_leaders :\n",
    "        time.sleep(1)\n",
    "        new_url = leader['href']\n",
    "        leader_page = requests.get(new_url).text\n",
    "        leader_soup = BeautifulSoup(leader_page,\"html.parser\")\n",
    "        career_tag = leader_soup.find_all(name='td',string=career_string)\n",
    "        for i in range(len(career_tag)) :\n",
    "            if career_tag[i].string == \"Career\" and 'p' not in [tag.name for tag in career_tag[i].children] :\n",
    "                def_data[leader.string] = {'MPG':career_tag[i+2].string,'PPG':career_tag[i+15].string}\n",
    "                break\n",
    "    return off_data , def_data\n",
    "\n",
    "def plot_NBA(off_data,def_data) :\n",
    "    players = []\n",
    "    MPG = []\n",
    "    PPG = []\n",
    "    for player in off_data.keys() :\n",
    "        players.append(player)\n",
    "        MPG.append(off_data[player]['MPG'])\n",
    "        PPG.append(off_data[player]['PPG'])\n",
    "    for player in def_data.keys() :\n",
    "        players.append(player)\n",
    "        MPG.append(def_data[player]['MPG'])\n",
    "        PPG.append(def_data[player]['PPG'])\n",
    "    \n",
    "    inits = []\n",
    "    for player in players : \n",
    "        first,last = player.split(' ')\n",
    "        inits.append(first[0]+last[0])\n",
    "    fig, ax = plt.subplots()\n",
    "    ax.scatter(MPG,PPG)\n",
    "    \n",
    "    for i, plyr in enumerate(inits) :\n",
    "        ax.annotate(plyr, (MPG[i],PPG[i]))\n",
    "    plt.show()"
   ]
  },
  {
   "cell_type": "code",
   "execution_count": 72,
   "metadata": {
    "collapsed": false
   },
   "outputs": [],
   "source": [
    "off_data,def_data = NBA()"
   ]
  },
  {
   "cell_type": "code",
   "execution_count": 73,
   "metadata": {
    "collapsed": false
   },
   "outputs": [
    {
     "data": {
      "image/png": "[encoded data removed]",
      "text/plain": [
       "<matplotlib.figure.Figure at 0x113cd3978>"
      ]
     },
     "metadata": {},
     "output_type": "display_data"
    }
   ],
   "source": [
    "plot_NBA(off_data,def_data)"
   ]
  },
  {
   "cell_type": "markdown",
   "metadata": {},
   "source": [
    "## Problem 4\n",
    "\n",
    "The arXiv (pronounced \"archive\") is an online repository of scientific publications, hosted by Cornell University.\n",
    "Write a function that accepts a string to serve as a search query.\n",
    "Use Selenium to enter the query into the search bar of https://arxiv.org and press Enter.\n",
    "The resulting page has up to 25 links to the PDFs of technical papers that match the query.\n",
    "Gather these URLs, then continue to the next page (if there are more results) and continue gathering links until obtaining at most 100 URLs.\n",
    "\n",
    "Print the list of URLs below."
   ]
  },
  {
   "cell_type": "code",
   "execution_count": 113,
   "metadata": {
    "collapsed": true
   },
   "outputs": [],
   "source": [
    "# Problem 4\n",
    "def search_arXiv(query) :\n",
    "    base_url = 'https://arxiv.org'\n",
    "    browser = webdriver.Chrome('./chromedriver')\n",
    "    try :\n",
    "        browser.get(base_url)\n",
    "        try :\n",
    "            search_bar = browser.find_element_by_name('query')\n",
    "            search_bar.clear()\n",
    "            search_bar.send_keys(str(query))\n",
    "            search_bar.submit()\n",
    "            papers = []\n",
    "            soup = BeautifulSoup(browser.page_source,\"html.parser\")\n",
    "            #print(soup.prettify)\n",
    "            results = soup.find_all(name='a',string='pdf')\n",
    "            while len(results) > 0 and len(papers) < 100 :\n",
    "                for result in results :\n",
    "                    papers.append(base_url+result['href'])\n",
    "                next_button = soup.find_all(name='a',string='Next 25 results')\n",
    "                if len(next_button) > 0 :\n",
    "                    time.sleep(1)\n",
    "                    browser.get(base_url+next_button[0]['href'])\n",
    "                    soup = BeautifulSoup(browser.page_source,\"html.parser\")\n",
    "                    results = soup.find_all(name='a',string='pdf')\n",
    "                else :\n",
    "                    results = []\n",
    "        except NoSuchElementException:\n",
    "            print(\"Could not find the search bar.\")\n",
    "            raise\n",
    "    finally :\n",
    "        browser.close()\n",
    "    if len(papers) > 100 :\n",
    "        papers = papers[:100]\n",
    "    return papers"
   ]
  },
  {
   "cell_type": "code",
   "execution_count": 239,
   "metadata": {
    "collapsed": false
   },
   "outputs": [
    {
     "name": "stdout",
     "output_type": "stream",
     "text": [
      "100\n",
      "100\n",
      "['https://arxiv.org/pdf/1710.01709', 'https://arxiv.org/pdf/1709.09321', 'https://arxiv.org/pdf/1709.06744', 'https://arxiv.org/pdf/1709.06564', 'https://arxiv.org/pdf/1709.05542', 'https://arxiv.org/pdf/1709.04907', 'https://arxiv.org/pdf/1709.04378', 'https://arxiv.org/pdf/1709.02989', 'https://arxiv.org/pdf/1709.00200', 'https://arxiv.org/pdf/1708.08559', 'https://arxiv.org/pdf/1708.08262', 'https://arxiv.org/pdf/1708.06982', 'https://arxiv.org/pdf/1708.05392', 'https://arxiv.org/pdf/1708.02765', 'https://arxiv.org/pdf/1707.08916', 'https://arxiv.org/pdf/1707.07721', 'https://arxiv.org/pdf/1707.07069', 'https://arxiv.org/pdf/1707.04932', 'https://arxiv.org/pdf/1707.00662', 'https://arxiv.org/pdf/1707.00223', 'https://arxiv.org/pdf/1706.09138', 'https://arxiv.org/pdf/1706.07412', 'https://arxiv.org/pdf/1706.06221', 'https://arxiv.org/pdf/1706.01804', 'https://arxiv.org/pdf/1706.00753', 'https://arxiv.org/pdf/1706.00214', 'https://arxiv.org/pdf/1705.10501', 'https://arxiv.org/pdf/1705.09242', 'https://arxiv.org/pdf/1705.06121', 'https://arxiv.org/pdf/1705.05859', 'https://arxiv.org/pdf/1705.03872', 'https://arxiv.org/pdf/1705.01895', 'https://arxiv.org/pdf/1705.01221', 'https://arxiv.org/pdf/1704.08406', 'https://arxiv.org/pdf/1704.05239', 'https://arxiv.org/pdf/1704.04477', 'https://arxiv.org/pdf/1704.03159', 'https://arxiv.org/pdf/1703.10887', 'https://arxiv.org/pdf/1703.06894', 'https://arxiv.org/pdf/1703.04526', 'https://arxiv.org/pdf/1703.02956', 'https://arxiv.org/pdf/1702.08405', 'https://arxiv.org/pdf/1702.04840', 'https://arxiv.org/pdf/1702.04638', 'https://arxiv.org/pdf/1702.00596', 'https://arxiv.org/pdf/1701.08716', 'https://arxiv.org/pdf/1701.07030', 'https://arxiv.org/pdf/1701.06818', 'https://arxiv.org/pdf/1701.05991', 'https://arxiv.org/pdf/1701.05957', 'https://arxiv.org/pdf/1701.05815', 'https://arxiv.org/pdf/1701.05752', 'https://arxiv.org/pdf/1701.05178', 'https://arxiv.org/pdf/1701.04175', 'https://arxiv.org/pdf/1701.01309', 'https://arxiv.org/pdf/1701.00917', 'https://arxiv.org/pdf/1701.00131', 'https://arxiv.org/pdf/1612.09369', 'https://arxiv.org/pdf/1612.08695', 'https://arxiv.org/pdf/1612.05487', 'https://arxiv.org/pdf/1612.04647', 'https://arxiv.org/pdf/1612.03976', 'https://arxiv.org/pdf/1612.00152', 'https://arxiv.org/pdf/1611.08674', 'https://arxiv.org/pdf/1611.08357', 'https://arxiv.org/pdf/1611.07401', 'https://arxiv.org/pdf/1611.06690', 'https://arxiv.org/pdf/1611.06167', 'https://arxiv.org/pdf/1610.09255', 'https://arxiv.org/pdf/1610.08246', 'https://arxiv.org/pdf/1610.06667', 'https://arxiv.org/pdf/1610.02937', 'https://arxiv.org/pdf/1610.02482', 'https://arxiv.org/pdf/1610.01917', 'https://arxiv.org/pdf/1610.00427', 'https://arxiv.org/pdf/1610.00386', 'https://arxiv.org/pdf/1610.00060', 'https://arxiv.org/pdf/1609.09070', 'https://arxiv.org/pdf/1609.07769', 'https://arxiv.org/pdf/1609.05460', 'https://arxiv.org/pdf/1609.04711', 'https://arxiv.org/pdf/1609.02232', 'https://arxiv.org/pdf/1609.02087', 'https://arxiv.org/pdf/1609.01981', 'https://arxiv.org/pdf/1609.00435', 'https://arxiv.org/pdf/1609.00426', 'https://arxiv.org/pdf/1608.08216', 'https://arxiv.org/pdf/1608.04726', 'https://arxiv.org/pdf/1608.02685', 'https://arxiv.org/pdf/1608.02126', 'https://arxiv.org/pdf/1608.00618', 'https://arxiv.org/pdf/1607.08876', 'https://arxiv.org/pdf/1607.07831', 'https://arxiv.org/pdf/1607.00808', 'https://arxiv.org/pdf/1607.00672', 'https://arxiv.org/pdf/1606.09421', 'https://arxiv.org/pdf/1606.08738', 'https://arxiv.org/pdf/1606.04613', 'https://arxiv.org/pdf/1606.02304', 'https://arxiv.org/pdf/1606.01558']\n"
     ]
    }
   ],
   "source": [
    "paps = search_arXiv(\"Rain\")\n",
    "print(len(paps))\n",
    "print(len(set(paps)))\n",
    "print(paps)"
   ]
  },
  {
   "cell_type": "markdown",
   "metadata": {},
   "source": [
    "## Problem 5\n",
    "\n",
    "Project Euler (https://projecteuler.net) is a collection of mathematical computing problems.\n",
    "Each problem is listed with an ID, a description/title, and the number of users that have solved the problem.\n",
    "\n",
    "Using Selenium, BeautifulSoup, or both, for each of the (at least) 600 problems in the archive at https://projecteuler.net/archives, record the problem ID and the number of people who have solved it.\n",
    "Return a list of IDs, sorted from largest to smallest by the number of people who have solved them.\n",
    "That is, the first entry in the list should be the ID of the most solved problem, and the last entry in the list should be the ID of the least solved problem.\n",
    "\n",
    "Print the list of problems IDs below."
   ]
  },
  {
   "cell_type": "code",
   "execution_count": 236,
   "metadata": {
    "collapsed": false
   },
   "outputs": [],
   "source": [
    "# Problem 5\n",
    "def proj_euler() :\n",
    "    base_url = \"https://projecteuler.net/archives\"\n",
    "    ident = re.compile(r'(?<=<td class=\"id_column\">)\\d{1,3}(?=</td>)')\n",
    "    solved = re.compile(r'(?<=<div style=\"text-align:center;\">)\\d+(?=</div>)')\n",
    "    solved_by = {}\n",
    "    for i in range(1,14) :\n",
    "        if i == 1 :\n",
    "            url = base_url\n",
    "        else :\n",
    "            url = base_url+';page={}'.format(i)\n",
    "        time.sleep(1)\n",
    "        page = requests.get(url).text\n",
    "        soup = BeautifulSoup(page,'html.parser')\n",
    "        table = soup.find(name='table',attrs={'id':'problems_table'})\n",
    "        i = 0\n",
    "        for child in table.children :\n",
    "            if i <= 2 or isinstance(child,str):\n",
    "                i = i + 1\n",
    "                pass\n",
    "            else :\n",
    "                ind = int(re.findall(ident,str(child))[0])\n",
    "                sol = int(re.findall(solved,str(child))[0])\n",
    "                solved_by[ind] = sol\n",
    "    solve = [k for k in sorted(solved_by.items(), key=lambda x : x[1], reverse=True)]\n",
    "    return solve"
   ]
  },
  {
   "cell_type": "code",
   "execution_count": 238,
   "metadata": {
    "collapsed": false
   },
   "outputs": [
    {
     "name": "stdout",
     "output_type": "stream",
     "text": [
      "[1, 2, 3, 6, 5, 4, 7, 9, 8, 10, 11, 16, 13, 14, 12, 20, 15, 25, 17, 18, 21, 19, 22, 48, 24, 28, 30, 29, 23, 67, 34, 36, 27, 35, 31, 26, 40, 42, 37, 39, 33, 45, 32, 41, 52, 38, 50, 46, 53, 43, 56, 47, 49, 44, 55, 97, 79, 63, 92, 59, 57, 58, 54, 81, 69, 51, 99, 62, 65, 71, 76, 74, 60, 73, 61, 85, 112, 206, 70, 72, 89, 102, 64, 82, 87, 68, 80, 66, 77, 83, 75, 96, 145, 78, 104, 100, 91, 205, 124, 120, 95, 125, 108, 86, 84, 119, 116, 94, 123, 179, 187, 93, 113, 117, 98, 107, 101, 90, 114, 115, 121, 243, 88, 173, 203, 110, 109, 105, 103, 122, 204, 131, 191, 111, 357, 134, 118, 188, 132, 135, 106, 129, 144, 127, 174, 301, 130, 142, 164, 138, 231, 136, 139, 162, 133, 151, 214, 137, 235, 197, 148, 169, 146, 345, 207, 128, 183, 149, 225, 126, 265, 190, 211, 140, 216, 166, 493, 150, 347, 172, 215, 381, 387, 141, 323, 346, 303, 158, 155, 234, 267, 160, 178, 159, 277, 193, 218, 500, 315, 185, 230, 250, 147, 297, 186, 293, 348, 171, 157, 168, 182, 249, 143, 154, 209, 165, 152, 153, 196, 317, 202, 504, 351, 401, 271, 329, 220, 213, 156, 200, 429, 201, 240, 233, 286, 407, 222, 227, 304, 221, 189, 161, 336, 549, 181, 170, 176, 587, 199, 349, 239, 226, 163, 175, 232, 491, 208, 210, 266, 321, 167, 288, 307, 184, 259, 358, 237, 192, 219, 180, 313, 371, 258, 229, 247, 217, 274, 223, 359, 389, 268, 287, 343, 291, 212, 273, 425, 194, 228, 251, 244, 451, 260, 518, 195, 248, 512, 284, 516, 177, 224, 285, 365, 333, 327, 501, 479, 306, 300, 577, 276, 461, 263, 198, 242, 310, 280, 340, 363, 253, 278, 485, 443, 290, 463, 238, 282, 601, 254, 435, 272, 236, 255, 281, 341, 510, 294, 241, 318, 531, 320, 252, 571, 312, 245, 375, 449, 430, 342, 246, 417, 308, 309, 523, 506, 458, 378, 302, 256, 262, 393, 386, 539, 279, 269, 437, 298, 257, 283, 392, 473, 457, 261, 377, 270, 521, 395, 324, 364, 469, 305, 374, 316, 418, 581, 299, 561, 396, 455, 527, 360, 275, 390, 366, 352, 292, 332, 411, 296, 264, 431, 555, 325, 399, 405, 388, 421, 368, 543, 339, 408, 487, 356, 314, 394, 370, 326, 480, 330, 355, 452, 380, 548, 335, 540, 383, 565, 289, 295, 337, 419, 379, 367, 509, 369, 537, 350, 595, 362, 353, 322, 334, 433, 311, 400, 412, 454, 575, 545, 525, 432, 517, 409, 436, 497, 423, 498, 600, 515, 354, 372, 420, 456, 319, 476, 467, 551, 328, 593, 475, 442, 413, 402, 424, 520, 406, 511, 588, 331, 398, 552, 403, 373, 569, 474, 530, 384, 441, 598, 382, 338, 460, 404, 434, 445, 519, 440, 583, 446, 361, 439, 503, 344, 538, 526, 533, 448, 492, 572, 415, 391, 534, 513, 385, 438, 535, 444, 499, 532, 462, 414, 466, 410, 416, 557, 376, 397, 427, 464, 563, 496, 596, 528, 536, 582, 422, 472, 550, 426, 468, 502, 574, 428, 447, 477, 486, 570, 522, 592, 599, 459, 567, 490, 568, 481, 560, 558, 564, 484, 488, 470, 576, 453, 542, 590, 465, 508, 524, 471, 505, 547, 580, 450, 546, 482, 489, 495, 507, 514, 556, 494, 544, 529, 553, 554, 573, 578, 478, 483, 562, 541, 586, 594, 559, 589, 584, 591, 566, 579, 597, 585]\n"
     ]
    }
   ],
   "source": [
    "sol = proj_euler()\n",
    "print([prob[0] for prob in sol])"
   ]
  },
  {
   "cell_type": "code",
   "execution_count": null,
   "metadata": {
    "collapsed": true
   },
   "outputs": [],
   "source": []
  }
 ],
 "metadata": {
  "kernelspec": {
   "display_name": "Python 3",
   "language": "python",
   "name": "python3"
  },
  "language_info": {
   "codemirror_mode": {
    "name": "ipython",
    "version": 3
   },
   "file_extension": ".py",
   "mimetype": "text/x-python",
   "name": "python",
   "nbconvert_exporter": "python",
   "pygments_lexer": "ipython3",
   "version": "3.6.0"
  }
 },
 "nbformat": 4,
 "nbformat_minor": 2
}
