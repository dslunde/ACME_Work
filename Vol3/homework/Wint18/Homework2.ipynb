{
 "cells": [
  {
   "cell_type": "markdown",
   "metadata": {},
   "source": [
    "### Homework 2\n",
    "Darren Lund"
   ]
  },
  {
   "cell_type": "markdown",
   "metadata": {},
   "source": [
    "1) Load the digits in scikit learn."
   ]
  },
  {
   "cell_type": "code",
   "execution_count": 1,
   "metadata": {
    "collapsed": true
   },
   "outputs": [],
   "source": [
    "from sklearn import datasets\n",
    "from sklearn import neighbors as nbs\n",
    "from matplotlib import pyplot as plt\n",
    "import time\n",
    "import numpy as np\n",
    "digits = datasets.load_digits()"
   ]
  },
  {
   "cell_type": "markdown",
   "metadata": {},
   "source": [
    "2) Split the data into 30% test and 70% training sets."
   ]
  },
  {
   "cell_type": "code",
   "execution_count": 2,
   "metadata": {
    "collapsed": false
   },
   "outputs": [],
   "source": [
    "data = digits.data\n",
    "n,m = data.shape\n",
    "train_size = (7*n)//10\n",
    "train_x = data[:train_size,:]\n",
    "train_y = digits.target[:train_size]\n",
    "test = data[train_size:,:]\n",
    "test_act = digits.target[train_size:]"
   ]
  },
  {
   "cell_type": "markdown",
   "metadata": {},
   "source": [
    "3) Plot the first 8 images."
   ]
  },
  {
   "cell_type": "code",
   "execution_count": 3,
   "metadata": {
    "collapsed": false
   },
   "outputs": [
    {
     "data": {
      "image/png": "[encoded data removed]",
      "text/plain": [
       "<matplotlib.figure.Figure at 0x11342de48>"
      ]
     },
     "metadata": {},
     "output_type": "display_data"
    }
   ],
   "source": [
    "images_and_labels = list(zip(digits.images, digits.target))\n",
    "for index, (image, label) in enumerate(images_and_labels[:8]):\n",
    "    plt.subplot(2, 4, index + 1)\n",
    "    plt.axis('off')\n",
    "    plt.imshow(image, cmap = plt.cm.gray_r, interpolation = 'nearest')\n",
    "    plt.title('Label: %i' % label)\n",
    "plt.show()"
   ]
  },
  {
   "cell_type": "markdown",
   "metadata": {},
   "source": [
    "4) For each value of k in 1, 2, 3, 4, 5, 10, 20:\n",
    "- Time how long it takes to train the scikit-learn k-nearest neighbors classifier with brute-force algorithm neighbors.KNeighborClassifier(algorithm = 'brute') on your training set.\n",
    "- Time how long it takes to classify all the images in 1/3 of the test set (10% of the total data), and again for 2/3, and again for the whole test set.\n",
    "- Use your full test set to evaluate accuracy of the classifier."
   ]
  },
  {
   "cell_type": "code",
   "execution_count": 15,
   "metadata": {
    "collapsed": false
   },
   "outputs": [],
   "source": [
    "ks = [1,2,3,4,5,10,20]\n",
    "s = len(test)//3\n",
    "t = 2*len(test)//3\n",
    "train_times = []\n",
    "class_times_1 = []\n",
    "class_times_2 = []\n",
    "class_times_3 = []\n",
    "accuracies = []\n",
    "for k in ks :\n",
    "    t_start = time.time()\n",
    "    classifier = nbs.KNeighborsClassifier(n_neighbors=k,algorithm='brute')\n",
    "    classifier.fit(train_x,train_y)\n",
    "    t_end = time.time()\n",
    "    train_times.append(t_end-t_start)\n",
    "    c_start = time.time()\n",
    "    res = classifier.predict(test[:s])\n",
    "    c_end = time.time()\n",
    "    class_times_1.append(c_end-c_start)\n",
    "    c_start = time.time()\n",
    "    res = classifier.predict(test[:t])\n",
    "    c_end = time.time()\n",
    "    class_times_2.append(c_end-c_start)\n",
    "    c_start = time.time()\n",
    "    full_res = classifier.predict(test)\n",
    "    c_end = time.time()\n",
    "    class_times_3.append(c_end-c_start)\n",
    "    x = [full_res[i]-test_act[i] for i in range(len(full_res))]\n",
    "    accuracies.append(1-np.count_nonzero(x)/len(x))"
   ]
  },
  {
   "cell_type": "code",
   "execution_count": 17,
   "metadata": {
    "collapsed": false
   },
   "outputs": [
    {
     "name": "stdout",
     "output_type": "stream",
     "text": [
      "Training Times : [0.001458883285522461, 0.0006127357482910156, 0.0006160736083984375, 0.0006070137023925781, 0.0007739067077636719, 0.0006098747253417969, 0.0006539821624755859]\n",
      "\n",
      "Classifying 10% : [0.01036214828491211, 0.0054759979248046875, 0.00518798828125, 0.0069980621337890625, 0.007185935974121094, 0.007061004638671875, 0.007493019104003906]\n",
      "\n",
      "Classifying 20% : [0.019992828369140625, 0.012006044387817383, 0.010666847229003906, 0.013477087020874023, 0.013562917709350586, 0.013994932174682617, 0.014739036560058594]\n",
      "\n",
      "Classifying full : [0.015992164611816406, 0.016262054443359375, 0.014321327209472656, 0.020238876342773438, 0.019685745239257812, 0.020531415939331055, 0.021149396896362305]\n",
      "\n",
      "Accuracies : [0.9611111111111111, 0.962962962962963, 0.9703703703703703, 0.9666666666666667, 0.9648148148148148, 0.9574074074074074, 0.9518518518518518]\n"
     ]
    }
   ],
   "source": [
    "print('Training Times : ' + str(train_times) + '\\n')\n",
    "print('Classifying 10% : ' + str(class_times_1) + '\\n')\n",
    "print('Classifying 20% : ' + str(class_times_2) + '\\n')\n",
    "print('Classifying full : ' + str(class_times_3) + '\\n')\n",
    "print('Accuracies : '+str(accuracies))"
   ]
  },
  {
   "cell_type": "markdown",
   "metadata": {},
   "source": [
    "5) Choose a random permutation of the integers [0,...,63], and permute all the features (pixel values) of both the test and training using this permutation. Using the best choice of k (that you found in the previous step), retrain the classifier on the training set and evaluate it on the test set. The classification accuracy should be the same as for the un-permuted version. What does this say about the role of the spatial relationships in this classification algorithm?"
   ]
  },
  {
   "cell_type": "code",
   "execution_count": 14,
   "metadata": {
    "collapsed": false
   },
   "outputs": [
    {
     "name": "stdout",
     "output_type": "stream",
     "text": [
      "Accuracy : 0.9703703703703703\n"
     ]
    }
   ],
   "source": [
    "np.set_printoptions(threshold=np.nan)\n",
    "perm = np.random.randint(0,64)\n",
    "new_train = np.roll(train_x,perm,axis=1)\n",
    "new_test = np.roll(test,perm,axis=1)\n",
    "# From above, 3 is the best k\n",
    "classifier = nbs.KNeighborsClassifier(n_neighbors=3,algorithm='brute')\n",
    "classifier.fit(new_train,train_y)\n",
    "new_res = classifier.predict(new_test)\n",
    "x = [new_res[i] - test_act[i] for i in range(len(new_res))]\n",
    "acc = 1-np.count_nonzero(x)/len(x)\n",
    "print('Accuracy : ' +str(acc))"
   ]
  },
  {
   "cell_type": "markdown",
   "metadata": {},
   "source": [
    "It tells us that the vertical relationships aren't very important so long as the horizontal are preserved.  You could probably place the different rows of the images in a random order and still have a good accuracy rate so long you didn't alter the wors."
   ]
  }
 ],
 "metadata": {
  "kernelspec": {
   "display_name": "Python 3",
   "language": "python",
   "name": "python3"
  },
  "language_info": {
   "codemirror_mode": {
    "name": "ipython",
    "version": 3
   },
   "file_extension": ".py",
   "mimetype": "text/x-python",
   "name": "python",
   "nbconvert_exporter": "python",
   "pygments_lexer": "ipython3",
   "version": "3.6.0"
  }
 },
 "nbformat": 4,
 "nbformat_minor": 2
}
