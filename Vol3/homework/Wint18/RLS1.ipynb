{
 "cells": [
  {
   "cell_type": "code",
   "execution_count": null,
   "metadata": {
    "collapsed": true
   },
   "outputs": [],
   "source": [
    "import numpy as np"
   ]
  },
  {
   "cell_type": "markdown",
   "metadata": {},
   "source": [
    "# Problem 12.11"
   ]
  },
  {
   "cell_type": "markdown",
   "metadata": {},
   "source": [
    "$\n",
    "\\begin{align*}\n",
    "\\hat{\\beta_{t+1}} &= S_{t+1}^{-1}X_{t+1}^{T}Y_{t+1} \\\\\n",
    "&= S_{t+1}^{-1}\\begin{pmatrix} X_{t} \\\\ x_{t+1}^{T} \\end{pmatrix}^{T}\\begin{pmatrix}Y_{t} \\\\ y_{t+1} \\end{pmatrix} \\\\\n",
    "&= S_{t+1}^{-1}\\begin{pmatrix} X_{t}^{T} & x_{t+1} \\end{pmatrix}\\begin{pmatrix} Y_{t} \\\\ y_{t+1} \\end{pmatrix} \\\\\n",
    "&= S_{t+1}^{-1}\\left(X_{t}^{T}Y_{t}^{T} + x_{t+1}y_{t+1}\\right) \\\\\n",
    "&= S_{t+1}^{-1}X_{t}^{T}Y_{t}^{T} + S_{t+1}^{-1}x_{t+1}y_{t+1} \\\\\n",
    "&= S_{t+1}^{-1}S_{t}\\hat{\\beta_{t}} + \\gamma_{t+1}y_{t+1} \\\\\n",
    "&= S_{t+1}^{-1}S_{t}\\hat{\\beta_{t}} + \\gamma_{t+1}e_{t+1} + \\gamma_{t+1}x_{t+1}^{T}\\hat{\\beta_{t}} \\\\\n",
    "&= \\left(S_{t+1}^{-1}S_{t} + \\gamma_{t+1}x_{t+1}^{T}\\right)\\hat{\\beta_{t}} + \\gamma_{t+1}e_{t+1} \\\\\n",
    "&= S_{t+1}^{-1}\\left(S_{t} + x_{t+1}x_{t+1}^{T}\\right)\\hat{\\beta_{t}} + \\gamma_{t+1}e_{t+1} \\\\\n",
    "&= S_{t+1}^{-1}S_{t+1}\\hat{\\beta_{t}} + \\gamma_{t+1}e_{t+1} \\\\\n",
    "&= \\hat{\\beta_{t}} + \\gamma_{t+1}e_{t+1}\n",
    "\\end{align*}\n",
    "$"
   ]
  },
  {
   "cell_type": "markdown",
   "metadata": {},
   "source": [
    "# Problem 12.12"
   ]
  },
  {
   "cell_type": "markdown",
   "metadata": {},
   "source": [
    "First, note that $S_{t}$ is invertible, and $(I + wv^{T})^{-1} = I - \\frac{wv^{T}}{1+v^{T}w}$.  This is because  \n",
    "$\n",
    "\\begin{align*}\n",
    "(I+wv^{T})\\left(I-\\frac{wv^{T}}{1+v^{T}w}\\right) &= I + wv^{T} - \\frac{wv^{T}}{1+v^{T}w} - \\frac{(wv^{T})^{2}}{1+v^{T}w} \\\\\n",
    "&= I + \\frac{(1+v^{T}w)wv^{T} - wv^{T} - (wv^{T})^{2}}{1+v^{T}w} \\\\\n",
    "&= I + \\frac{(v^{T}w)(wv^{T}) - wv^{T}wv^{T}}{1+v^{T}w} \\\\\n",
    "&= I + \\frac{(v^{T}w)(wv^{T}) - w(v^{T}w)v^{T}}{1+v^{T}w} \\\\\n",
    "&= I + \\frac{(v^{T}w)\\left(wv^{T}-wv^{T}\\right)}{1+v^{T}w} \\\\\n",
    "&= I\n",
    "\\end{align*}\n",
    "$  \n",
    "\n",
    "and commuting the two gives practically the same algebra.  \n",
    "Then let $v = x_{t+1} = S_{t}w \\Rightarrow S_{t}^{-1}x_{t+1} = w \\Rightarrow S_{t} + x_{t+1}x_{t+1}^{T} = S_{t}\\left(I+wv^{T}\\right)$.  Thus,  \n",
    "\n",
    "$\n",
    "\\begin{align*}\n",
    "S_{t+1}^{-1} &= \\left(S_{t}+x_{t+1}x_{t+1}^{T}\\right)^{-1} \\\\\n",
    "&= \\left(I+wv^{T}\\right)^{-1}S_{t}^{-1} \\\\\n",
    "&= \\left(I - \\frac{wv^{T}}{1+v^{T}w}\\right)S_{t}^{-1} \\\\\n",
    "&= S_{t}^{-1} - \\frac{S_{t}^{-1}x_{t+1}x_{t+1}^{T}}{1+x_{t+1}^{T}S_{t}^{-1}x_{t+1}}S_{t}^{-1}\n",
    "\\end{align*}\n",
    "$  \n",
    "as desired."
   ]
  },
  {
   "cell_type": "markdown",
   "metadata": {},
   "source": [
    "# Problem 12.13\n",
    "\n",
    "Use the data from https://archive.ics.uci.edu/ml/datasets/BlogFeedback."
   ]
  },
  {
   "cell_type": "code",
   "execution_count": null,
   "metadata": {
    "collapsed": true
   },
   "outputs": [],
   "source": [
    "# Not implemented."
   ]
  }
 ],
 "metadata": {
  "kernelspec": {
   "display_name": "Python 3",
   "language": "python",
   "name": "python3"
  },
  "language_info": {
   "codemirror_mode": {
    "name": "ipython",
    "version": 3
   },
   "file_extension": ".py",
   "mimetype": "text/x-python",
   "name": "python",
   "nbconvert_exporter": "python",
   "pygments_lexer": "ipython3",
   "version": "3.6.4"
  }
 },
 "nbformat": 4,
 "nbformat_minor": 2
}
