{
 "cells": [
  {
   "cell_type": "code",
   "execution_count": 1,
   "metadata": {
    "collapsed": true
   },
   "outputs": [],
   "source": [
    "import numpy as np\n",
    "import pandas as pd\n",
    "from sklearn.datasets import load_breast_cancer\n",
    "from sklearn.naive_bayes import GaussianNB\n",
    "from sklearn.linear_model import LogisticRegression\n",
    "from sklearn.svm import SVC\n",
    "from sklearn.model_selection import train_test_split\n",
    "from sklearn.metrics import roc_curve as rc\n",
    "from matplotlib import pyplot as plt"
   ]
  },
  {
   "cell_type": "markdown",
   "metadata": {},
   "source": [
    "# Problem 1\n",
    "Find some aspect of your final research project where a naïve Bayes classifier is appropriate, and apply Naive Bayes to that.  Compare the result to what logistic regression and support vector machines give you on the same data. "
   ]
  },
  {
   "cell_type": "markdown",
   "metadata": {},
   "source": [
    "Data comes from average player data for any given year, and is meant to classify if they were a contributor to tournament games that same year."
   ]
  },
  {
   "cell_type": "code",
   "execution_count": 2,
   "metadata": {
    "collapsed": true
   },
   "outputs": [],
   "source": [
    "import pandas as pd\n",
    "import os\n",
    "path = '../../../../Senior Project/DATA/'\n",
    "\n",
    "train = []\n",
    "test = []\n",
    "\n",
    "# Walk through player files\n",
    "for dir_path , dir_name , file_names in os.walk(path) :\n",
    "    # 2017 will be our testing set\n",
    "    if '2017' in dir_path :\n",
    "        for name in file_names :\n",
    "            # Grab avgs file\n",
    "            if name[-4:] == 'avgs' :\n",
    "                data = pd.read_csv(os.path.join(dir_path,name))\n",
    "                if isinstance(test,list) :\n",
    "                    test = data.drop(['Unnamed: 0'],axis=1).as_matrix()\n",
    "                else :\n",
    "                    test = np.vstack((test,data.drop(['Unnamed: 0'],axis=1)))\n",
    "    # Everything else will become our training set\n",
    "    else :\n",
    "        for name in file_names :\n",
    "            # Grab avgs file\n",
    "            if name[-4:] == 'avgs' :\n",
    "                data = pd.read_csv(os.path.join(dir_path,name))\n",
    "                if isinstance(train,list) :\n",
    "                    train = data.drop(['Unnamed: 0'],axis=1).as_matrix()\n",
    "                else :\n",
    "                    train = np.vstack((train,data.drop(['Unnamed: 0'],axis=1).as_matrix()))\n",
    "\n",
    "# From the way the data is saved, the last column is whether or not the player\n",
    "#     is a score on how much of a contributor he was during the season.\n",
    "train_x = train[:,:-1]\n",
    "train_y = train[:,-1]\n",
    "test_x = test[:,:-1]\n",
    "test_y = test[:,-1]\n",
    "\n",
    "# This cell is for adjusting the trianing set by dropping different columns\n",
    "# The columns to drop were decided in HW 4 using LR and and L1 penalty\n",
    "remove_columns = [0,4,7,8,10,11,12,13,14,15,16,17,18]\n",
    "for col in remove_columns :\n",
    "    train_x[:,col] = np.zeros_like(train_x[:,col])\n",
    "    test_x[:,col] = np.zeros_like(test_x[:,col])"
   ]
  },
  {
   "cell_type": "code",
   "execution_count": 3,
   "metadata": {
    "collapsed": false
   },
   "outputs": [
    {
     "data": {
      "image/png": "[encoded data removed]",
      "text/plain": [
       "<matplotlib.figure.Figure at 0x111522898>"
      ]
     },
     "metadata": {},
     "output_type": "display_data"
    }
   ],
   "source": [
    "gnb = GaussianNB()\n",
    "gnb.fit(train_x,train_y)\n",
    "gnb_score = gnb.predict_proba(test_x)\n",
    "g_fpr, g_tpr, g_thresh = rc(test_y,gnb_score[:,1])\n",
    "\n",
    "# From HW 4, C=1e-10 performed best\n",
    "lgr = LogisticRegression(C=1e-10)\n",
    "lgr.fit(train_x,train_y)\n",
    "lgr_score = lgr.predict_proba(test_x)\n",
    "l_fpr, l_tpr, l_thresh = rc(test_y,lgr_score[:,1])\n",
    "\n",
    "svc = SVC(probability=True)\n",
    "svc.fit(train_x,train_y)\n",
    "svc_score = svc.predict_proba(test_x)\n",
    "s_fpr, s_tpr, s_thresh = rc(test_y,svc_score[:,1])\n",
    "\n",
    "plt.plot([0,1],[0,1],'-k',label='Random')\n",
    "plt.plot(g_fpr,g_tpr,label='Naive Bayes')\n",
    "plt.plot(l_fpr,l_tpr,label='Log. Regr.')\n",
    "plt.plot(s_fpr,s_tpr,label='SVM')\n",
    "\n",
    "plt.legend(loc='best')\n",
    "plt.axis([-0.1,1.1,-0.1,1.1])\n",
    "plt.xlabel('FPR')\n",
    "plt.ylabel('TPR')\n",
    "plt.grid(axis='both')\n",
    "plt.show()"
   ]
  },
  {
   "cell_type": "code",
   "execution_count": 4,
   "metadata": {
    "collapsed": false
   },
   "outputs": [
    {
     "name": "stdout",
     "output_type": "stream",
     "text": [
      "The optimal thresholds are:\n",
      "    Naive Bayes     : 0.07310064385860005\n",
      "    Log. Regression : 0.5001225153180678\n",
      "    SV Machine      : 0.6158820999361976\n"
     ]
    }
   ],
   "source": [
    "a = 1\n",
    "b = 1\n",
    "\n",
    "NB = [a*g_fpr[i]+b*(1-g_tpr[i]) for i in range(len(g_fpr))]\n",
    "LR = [a*l_fpr[i]+b*(1-l_tpr[i]) for i in range(len(l_fpr))]\n",
    "SV = [a*s_fpr[i]+b*(1-s_tpr[i]) for i in range(len(s_fpr))]\n",
    "ind1 = NB.index(min(NB))\n",
    "ind2 = LR.index(min(LR))\n",
    "ind3 = SV.index(min(SV))\n",
    "tau1 = g_thresh[ind1]\n",
    "tau2 = l_thresh[ind2]\n",
    "tau3 = s_thresh[ind3]\n",
    "print('The optimal thresholds are:')\n",
    "print('    Naive Bayes     : {}'.format(tau1))\n",
    "print('    Log. Regression : {}'.format(tau2))\n",
    "print('    SV Machine      : {}'.format(tau3))"
   ]
  },
  {
   "cell_type": "markdown",
   "metadata": {},
   "source": [
    "# Problem 2\n",
    "Plot the ROC (scikit-learn has an ROC function you can use) for the following classifiers on the scilit-learn cancer dataset\n",
    "1. naïve Bayes,\n",
    "\n",
    "2. logistic regression, and\n",
    "\n",
    "3. support vector machines (with probabilities, not just classification)"
   ]
  },
  {
   "cell_type": "code",
   "execution_count": 5,
   "metadata": {
    "collapsed": false
   },
   "outputs": [
    {
     "data": {
      "image/png": "[encoded data removed]",
      "text/plain": [
       "<matplotlib.figure.Figure at 0x1108ce9e8>"
      ]
     },
     "metadata": {},
     "output_type": "display_data"
    }
   ],
   "source": [
    "cancer = load_breast_cancer()\n",
    "x = cancer.data\n",
    "y = cancer.target\n",
    "tr_x, ts_x, tr_y, ts_y = train_test_split(x,y,test_size=0.3)\n",
    "\n",
    "gnb = GaussianNB()\n",
    "gnb.fit(tr_x,tr_y)\n",
    "gnb_score = gnb.predict_proba(ts_x)\n",
    "g_fpr, g_tpr, g_thresh = rc(ts_y,gnb_score[:,1])\n",
    "\n",
    "lgr = LogisticRegression()\n",
    "lgr.fit(tr_x,tr_y)\n",
    "lgr_score = lgr.predict_proba(ts_x)\n",
    "l_fpr, l_tpr, l_thresh = rc(ts_y,lgr_score[:,1])\n",
    "\n",
    "svc = SVC(probability=True)\n",
    "svc.fit(tr_x,tr_y)\n",
    "svc_score = svc.predict_proba(ts_x)\n",
    "s_fpr, s_tpr, s_thresh = rc(ts_y,svc_score[:,1])\n",
    "\n",
    "plt.plot([0,1],[0,1],'-k',label='Random')\n",
    "plt.plot(g_fpr,g_tpr,label='Naive Bayes')\n",
    "plt.plot(l_fpr,l_tpr,label='Log. Regr.')\n",
    "plt.plot(s_fpr,s_tpr,label='SVM')\n",
    "\n",
    "plt.legend(loc='best')\n",
    "plt.axis([-0.1,1.1,-0.1,1.1])\n",
    "plt.xlabel('FPR')\n",
    "plt.ylabel('TPR')\n",
    "plt.grid(axis='both')\n",
    "plt.show()"
   ]
  },
  {
   "cell_type": "markdown",
   "metadata": {},
   "source": [
    "# Problem 3\n",
    "Describe an appropriate cost function of the form a*FPR + b*FNR (that is, choose meaningful values of a and b) for the cancer dataset, assuming you are an insurance company that has to pay medical costs of treatment and also life insurance at death for each patient.  Given that cost function, use the ROC in the traditional manner (not Jarvis's new way) to identify the optimal choice of threshold τ for each of the three classifiers in part 2"
   ]
  },
  {
   "cell_type": "markdown",
   "metadata": {},
   "source": [
    "To calculate the cost of a false negative (someone I think will have a malignant tumor but it's actually benign), I simply need to add up how much they would have paid me over their lifetime, as that's money I've lost out on.  Assuming that the individual discovers the tumor (and thus comes to buy both health and life insurance) around 40 and would live to be 80, this gives 40 years of effective payment.  Aflac's disclaimers state that rates can be as low as \\$2.37 per week for life insurance and \\$3.18 per week for health insurance, so these numbers are used for computation.   After a bit of searching, I found that Aflac (citing healthcarebluebook.com) claims the total cost of lung cancer (not breast cancer, I know) caught at stage 2 to be around \\$207,059.  As an insurance company, I'd like more of my policy holders to buy more expensive packages, which in turn means my company is responsible for more of the bill.  For simplicity, I'll then assume that I'm covering all of it, and that my company is moral enough to honor its obligations and payout every time.  Similarly, Aflac advertises that they're willing to pay out as much as \\$112,500 to the beneficiary of a life insurance policy.  However, I'm going to have to pay out the life insurance claim either way,  so it won't effect my cost ratio.  This gives me the cost of a false positive (someone I think will have a benign tumor but it's actually malignant) at \\$207059 minus whatever they pay during their remaining lifetime.  For simplicity, assume that malignant tumors develop to stage 2 lung cancer around age 60 (unbased assumption), and survive for about 5 years (verywell.com), with a potential survival rate of 0.06 percent (can't remember where I found this)."
   ]
  },
  {
   "cell_type": "code",
   "execution_count": 6,
   "metadata": {
    "collapsed": false
   },
   "outputs": [
    {
     "name": "stdout",
     "output_type": "stream",
     "text": [
      "The optimal thresholds are:\n",
      "    Naive Bayes     : 0.9999999079687922\n",
      "    Log. Regression : 0.9357713815199546\n",
      "    SV Machine      : 0.6156331595582182\n"
     ]
    }
   ],
   "source": [
    "payout = 207059\n",
    "years_survived = 5\n",
    "survival_rate = 0.06\n",
    "weekly_prem = 2.37 + 3.18\n",
    "weeks_per_year = 52\n",
    "years_paying = 80 - 40\n",
    "guaranteed_years = 65-40\n",
    "extra_if_survived = 80-65\n",
    "\n",
    "# Calculation for lost income\n",
    "b = weekly_prem*weeks_per_year*years_paying\n",
    "# Calculation for cost of treating cancer and paying life insurance\n",
    "# The 25 for 25 guaranteed years of payment (40-65) and the 15*0.06 for the 6\\%\n",
    "#     who survive and continue paying their insurance\n",
    "a = payout - weekly_prem*weeks_per_year*(guaranteed_years+extra_if_survived*survival_rate)\n",
    "\n",
    "NB = [a*g_fpr[i]+b*(1-g_tpr[i]) for i in range(len(g_fpr))]\n",
    "LR = [a*l_fpr[i]+b*(1-l_tpr[i]) for i in range(len(l_fpr))]\n",
    "SV = [a*s_fpr[i]+b*(1-s_tpr[i]) for i in range(len(s_fpr))]\n",
    "ind1 = NB.index(min(NB))\n",
    "ind2 = LR.index(min(LR))\n",
    "ind3 = SV.index(min(SV))\n",
    "tau1 = g_thresh[ind1]\n",
    "tau2 = l_thresh[ind2]\n",
    "tau3 = s_thresh[ind3]\n",
    "print('The optimal thresholds are:')\n",
    "print('    Naive Bayes     : {}'.format(tau1))\n",
    "print('    Log. Regression : {}'.format(tau2))\n",
    "print('    SV Machine      : {}'.format(tau3))"
   ]
  },
  {
   "cell_type": "code",
   "execution_count": 7,
   "metadata": {
    "collapsed": false
   },
   "outputs": [
    {
     "name": "stdout",
     "output_type": "stream",
     "text": [
      "199584.26 11544.0\n",
      "0.0147058823529 0.135922330097\n",
      "0.0 0.155339805825\n",
      "0.0 0.281553398058\n"
     ]
    }
   ],
   "source": [
    "print(a,b)\n",
    "print(g_fpr[ind1],1-g_tpr[ind1])\n",
    "print(l_fpr[ind2],1-l_tpr[ind2])\n",
    "print(s_fpr[ind3],1-s_tpr[ind3])"
   ]
  }
 ],
 "metadata": {
  "kernelspec": {
   "display_name": "Python 3",
   "language": "python",
   "name": "python3"
  },
  "language_info": {
   "codemirror_mode": {
    "name": "ipython",
    "version": 3
   },
   "file_extension": ".py",
   "mimetype": "text/x-python",
   "name": "python",
   "nbconvert_exporter": "python",
   "pygments_lexer": "ipython3",
   "version": "3.6.0"
  }
 },
 "nbformat": 4,
 "nbformat_minor": 2
}
