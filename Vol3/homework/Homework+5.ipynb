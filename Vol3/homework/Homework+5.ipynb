{
 "cells": [
  {
   "cell_type": "code",
   "execution_count": 1,
   "metadata": {
    "collapsed": true
   },
   "outputs": [],
   "source": [
    "import numpy as np\n",
    "from scipy.stats import chi2\n",
    "from matplotlib import pyplot as plt\n",
    "from math import sqrt\n",
    "%matplotlib inline"
   ]
  },
  {
   "cell_type": "markdown",
   "metadata": {},
   "source": [
    "## Problem 5.1\n",
    "\n",
    "Let $X = Z^2$, where $Z \\sim N(0, 1)$ is a standard normal.  The random variable $X$ has a ${chi-squared}$ distribution with 1 degree of freedom.  For each of the following problems calculate the answer in the following two ways:"
   ]
  },
  {
   "cell_type": "markdown",
   "metadata": {},
   "source": [
    "(A). using Monte Carlo methods, sampling with $numpy.random.randn$, and taking the number of samples equal to $10^k$ for each value of $k$ = 2, 4, 6."
   ]
  },
  {
   "cell_type": "markdown",
   "metadata": {},
   "source": [
    "(B). using the appropriate built-in function from $scipy.stats.chi2$ and compare the results of the previous conputations."
   ]
  },
  {
   "cell_type": "code",
   "execution_count": 31,
   "metadata": {
    "collapsed": false
   },
   "outputs": [],
   "source": [
    "mean, var, skew, kurt = chi2.stats(1, moments='mvsk')"
   ]
  },
  {
   "cell_type": "markdown",
   "metadata": {},
   "source": [
    "(i) Plot the p.d.f. of your random variable $X$ (experiment to find a good number of bins for your histogram)"
   ]
  },
  {
   "cell_type": "code",
   "execution_count": 45,
   "metadata": {
    "collapsed": false
   },
   "outputs": [
    {
     "data": {
      "image/png": "[encoded data removed]",
      "text/plain": [
       "<matplotlib.figure.Figure at 0x10e886dd8>"
      ]
     },
     "metadata": {},
     "output_type": "display_data"
    }
   ],
   "source": [
    "vals_2 = np.random.randn(10**2)**2\n",
    "plt.hist(vals_2,bins=np.linspace(0,10,11))\n",
    "plt.title(\"k=2\")\n",
    "plt.show()"
   ]
  },
  {
   "cell_type": "code",
   "execution_count": 46,
   "metadata": {
    "collapsed": false
   },
   "outputs": [
    {
     "data": {
      "image/png": "[encoded data removed]",
      "text/plain": [
       "<matplotlib.figure.Figure at 0x121bad128>"
      ]
     },
     "metadata": {},
     "output_type": "display_data"
    }
   ],
   "source": [
    "vals_4 = np.random.randn(10**4)**2\n",
    "plt.hist(vals_4,bins=np.linspace(0,10,11))\n",
    "plt.title(\"k=4\")\n",
    "plt.show()"
   ]
  },
  {
   "cell_type": "code",
   "execution_count": 47,
   "metadata": {
    "collapsed": false
   },
   "outputs": [
    {
     "data": {
      "image/png": "[encoded data removed]",
      "text/plain": [
       "<matplotlib.figure.Figure at 0x10e7c1828>"
      ]
     },
     "metadata": {},
     "output_type": "display_data"
    }
   ],
   "source": [
    "vals_6 = np.random.randn(10**6)**2\n",
    "plt.hist(vals_6,bins=np.linspace(0,10,11))\n",
    "plt.title(\"k=6\")\n",
    "plt.show()"
   ]
  },
  {
   "cell_type": "code",
   "execution_count": 2,
   "metadata": {
    "collapsed": false
   },
   "outputs": [
    {
     "data": {
      "image/png": "[encoded data removed]",
      "text/plain": [
       "<matplotlib.figure.Figure at 0x114e21860>"
      ]
     },
     "metadata": {},
     "output_type": "display_data"
    }
   ],
   "source": [
    "x = np.linspace(0,10,100)\n",
    "y = chi2.pdf(x, 1)\n",
    "plt.plot(x,y)\n",
    "plt.axis([0,10,0,2])\n",
    "plt.show()"
   ]
  },
  {
   "cell_type": "markdown",
   "metadata": {},
   "source": [
    "(ii) Compute the c.d.f. $F_{x}(x)$ for $x$ = 0.5, 1.0, 1.5."
   ]
  },
  {
   "cell_type": "code",
   "execution_count": 53,
   "metadata": {
    "collapsed": false
   },
   "outputs": [
    {
     "name": "stdout",
     "output_type": "stream",
     "text": [
      "               k=2    k=4    k=6   \n",
      "P(x < 0.5) : [0.56, 0.5134, 0.521139]\n",
      "P(x < 1.0) : [0.74, 0.6855, 0.681661]\n",
      "P(x < 1.5) : [0.77, 0.7764, 0.779332]\n"
     ]
    }
   ],
   "source": [
    "print(\"               k=2    k=4    k=6   \")\n",
    "for x in [0.5,1.0,1.5] :\n",
    "    probs = [np.count_nonzero(np.random.randn(10**k)**2 < x)/10**k for k in [2,4,6]]\n",
    "    print(\"P(x < {}) : \".format(x) + str(probs))"
   ]
  },
  {
   "cell_type": "code",
   "execution_count": 55,
   "metadata": {
    "collapsed": false
   },
   "outputs": [
    {
     "name": "stdout",
     "output_type": "stream",
     "text": [
      "Actual values for 0.5, 1.0, and 1.5 respectively:\n"
     ]
    },
    {
     "data": {
      "text/plain": [
       "array([ 0.52049988,  0.68268949,  0.77932864])"
      ]
     },
     "execution_count": 55,
     "metadata": {},
     "output_type": "execute_result"
    }
   ],
   "source": [
    "print(\"Actual values for 0.5, 1.0, and 1.5 respectively:\")\n",
    "chi2.cdf([0.5,1.0,1.5],1)"
   ]
  },
  {
   "cell_type": "markdown",
   "metadata": {},
   "source": [
    "(iii) Compute the expected value $E[X]$"
   ]
  },
  {
   "cell_type": "code",
   "execution_count": 33,
   "metadata": {
    "collapsed": false
   },
   "outputs": [
    {
     "name": "stdout",
     "output_type": "stream",
     "text": [
      "[0.98584034508966201, 1.0010573473666351, 1.0001504771093193]\n",
      "1.0\n"
     ]
    }
   ],
   "source": [
    "mus = [sum(np.random.randn(10**k)**2)/10**k for k in [2,4,6]]\n",
    "print(mus)\n",
    "print(mean) # From above"
   ]
  },
  {
   "cell_type": "markdown",
   "metadata": {},
   "source": [
    "(iv) Compute the variance Var($X$)"
   ]
  },
  {
   "cell_type": "code",
   "execution_count": 34,
   "metadata": {
    "collapsed": false
   },
   "outputs": [
    {
     "name": "stdout",
     "output_type": "stream",
     "text": [
      "[1.9242765235918444, 1.9738987662604057, 2.0037219418006771]\n",
      "2.0\n"
     ]
    }
   ],
   "source": [
    "varians = [sum(((np.random.randn(10**k)-mean)**2))/10**k for k in [2,4,6]]\n",
    "print(varians)\n",
    "print(var) # From above"
   ]
  },
  {
   "cell_type": "markdown",
   "metadata": {},
   "source": [
    "## Problem 5.2\n",
    "\n",
    "Write python code to approximate $\\pi$ using the Monte Carlo methods in the reading, by sampling pairs from the uniform distribution on [-1, 1] $\\times$ [-1, 1] and counting the proportion that lie inside the circle $x^2 + y^2 \\leq 1$.  Sample $10^k$ times for $k$ = 2, 4, 6 and compare the results to the true value of $\\pi$.  Calculate the (approximate) standard error for each of these estimates."
   ]
  },
  {
   "cell_type": "code",
   "execution_count": 59,
   "metadata": {
    "collapsed": false
   },
   "outputs": [
    {
     "name": "stdout",
     "output_type": "stream",
     "text": [
      "Approximations : [2.84, 3.0988, 3.142052]\n",
      "Variances      : [0.18150482087261482, 0.016711189544733194, 0.0016418639496913257]\n"
     ]
    }
   ],
   "source": [
    "apps = []\n",
    "var = []\n",
    "for k in [2,4,6] :\n",
    "    x = np.random.uniform(-1,1, (10**k,2))\n",
    "    in_vs_out = [x[i,0]**2+x[i,1]**2 <= 1 for i in range(10**k)]\n",
    "    sigma_sqrd = np.var(in_vs_out)\n",
    "    apps.append(4*np.count_nonzero(in_vs_out)/10**k)\n",
    "    var.append(sqrt(4**2*sigma_sqrd/10**k))\n",
    "print(\"Approximations : \" + str(apps))\n",
    "print(\"Variances      : \" + str(var))"
   ]
  },
  {
   "cell_type": "markdown",
   "metadata": {},
   "source": [
    "## Problem 5.3\n",
    "\n",
    "There are at least two different Monte Carlo methods you could use to approximate of the area under the curve $y = e^{cos(x^2)}$ for $x \\in$ [0, 2]"
   ]
  },
  {
   "cell_type": "markdown",
   "metadata": {},
   "source": [
    "(i) Estimate the area under the curve using the method discussed in class: find\n",
    "\n",
    "$$\\int_0^2 h(x) dx = 2 \\int_0^2 h(x) f_{Unif([0, 2])}(x) dx = 2\\mathbb{E}[h \\circ X]$$\n",
    "\n",
    "by approsimating $\\mathbb{E}[h \\circ X]$ at least $10^5$ times.  What is the (approximate value of the) standard error?"
   ]
  },
  {
   "cell_type": "code",
   "execution_count": 64,
   "metadata": {
    "collapsed": false
   },
   "outputs": [
    {
     "data": {
      "text/plain": [
       "3.2229179611165018"
      ]
     },
     "execution_count": 64,
     "metadata": {},
     "output_type": "execute_result"
    }
   ],
   "source": [
    "2*sum(np.exp(np.cos(np.random.uniform(0,2,10**6)**2)))/10**6"
   ]
  },
  {
   "cell_type": "markdown",
   "metadata": {},
   "source": [
    "From 5.2, $\\sigma^{2} = \\frac{1}{3}$ for the normal distribution, so for this distribution we have $\\sigma^{2} = e^{\\cos\\left(\\frac{1}{3}\\right)} \\approx 2.5727$, and so the approximate value of the standard error for $n= 10^{6}$ is approx $0.0025727$."
   ]
  },
  {
   "cell_type": "markdown",
   "metadata": {},
   "source": [
    "(ii) Estimate the are under the curve by taking a 2d-sample $Z \\sim$ Unif([0, 2]) $\\times$ Unif([0, $b$]) for some $b$ with $b \\geq max_{x \\in [0, 2]} e^{cos(x^2)}$. and the ncount (and scale appropriately) the samples that lie under the curve.  This corresponds to a estimating a multiple of $\\mathbb{E}[h \\circ X]$, where $k = \\mathbb{1}_A$ and $A = \\{(x, y) | 0 \\leq y \\leq e^{cos(e^x)}\\}$.  Sample at least $5 \\times 10^5$ times.  What is the (approxiamte value of the) standard error?"
   ]
  },
  {
   "cell_type": "code",
   "execution_count": 63,
   "metadata": {
    "collapsed": false
   },
   "outputs": [
    {
     "name": "stdout",
     "output_type": "stream",
     "text": [
      "Approximation : 3.2254368\n",
      "Variance      : 0.00022297456567965768\n"
     ]
    }
   ],
   "source": [
    "times = 5*10**6\n",
    "X = np.hstack((np.random.uniform(0,2,(times,1)),np.random.uniform(0,3,(times,1))))\n",
    "good_vs_bad = [np.exp(np.cos(X[i,0]**2)) >= X[i,1] for i in range(times)]\n",
    "sigma_sqrd = np.var(good_vs_bad)\n",
    "var = sqrt(sigma_sqrd/times)\n",
    "apps = 6*np.count_nonzero(good_vs_bad)/(times)\n",
    "print(\"Approximation : {}\".format(apps))\n",
    "print(\"Variance      : {}\".format(var))"
   ]
  },
  {
   "cell_type": "markdown",
   "metadata": {},
   "source": [
    "Compare the results of the two methods."
   ]
  },
  {
   "cell_type": "markdown",
   "metadata": {},
   "source": [
    "On average, the second method seems more correct by one decimal point, namely the thousandth decimal point."
   ]
  },
  {
   "cell_type": "markdown",
   "metadata": {},
   "source": [
    "## Problem 5.4\n",
    "\n",
    "Use Monte Carlo methods to estimate the probability that a sample from Beta(2, 5) will be less than a sample from Beta(20, 55).  How many samples are required to give 95% confidence that your answer is correct to 3 decimal places?"
   ]
  },
  {
   "cell_type": "code",
   "execution_count": 66,
   "metadata": {
    "collapsed": false
   },
   "outputs": [
    {
     "name": "stdout",
     "output_type": "stream",
     "text": [
      "Probability : 0.500419\n",
      "Variance    : 0.0004999998244389691\n"
     ]
    }
   ],
   "source": [
    "trials = 10**6\n",
    "nums = [np.random.beta(2,5) < np.random.beta(20,55) for i in range(trials)]\n",
    "prob = sum(nums) / trials\n",
    "sigma_sqrd = np.var(nums)\n",
    "var = sqrt(sigma_sqrd/trials)\n",
    "print(\"Probability : {}\".format(prob))\n",
    "print(\"Variance    : {}\".format(var))"
   ]
  },
  {
   "cell_type": "markdown",
   "metadata": {},
   "source": [
    "By trial and error, it seems that $10^{6}$ is the magic number for $3$ decimals of accuracy."
   ]
  },
  {
   "cell_type": "markdown",
   "metadata": {},
   "source": [
    "## Problem 5.5\n",
    "\n",
    "Consider a game where you roll a fair four-sided dice with sides labeled 1, 2, 3, and 4.  You win one dollar if the die shows 1 or 2, you win two dollars if the die shows 3, and you lose one dollar if the die shows 4.  Use monte Carlo simulation methods to estimate the probability that your winnings will be negative after ten rolls of the die.  Justify your choice of the number of samples to use."
   ]
  },
  {
   "cell_type": "code",
   "execution_count": 70,
   "metadata": {
    "collapsed": false
   },
   "outputs": [
    {
     "name": "stdout",
     "output_type": "stream",
     "text": [
      "Probability : 0.013016\n",
      "Variance    : 0.00011334277102665168\n"
     ]
    }
   ],
   "source": [
    "times = 10**6\n",
    "negs = []\n",
    "X = np.random.randint(1,5,size=(times,10))\n",
    "for k in range(times) :\n",
    "    Y = X[k,:]\n",
    "    one = np.count_nonzero([Y[i] == 1 for i in range(len(Y))]) + np.count_nonzero([Y[i] == 2 for i in range(len(Y))])\n",
    "    two = np.count_nonzero([Y[i] == 3 for i in range(len(Y))])\n",
    "    neg_one = np.count_nonzero([Y[i] == 4 for i in range(len(Y))])\n",
    "    if one + 2*two - neg_one < 0 :\n",
    "        negs.append(1)\n",
    "    else :\n",
    "        negs.append(0)\n",
    "prob = sum(negs) / times\n",
    "sigma_sqrd = np.var(negs)\n",
    "var = sqrt(sigma_sqrd/times)\n",
    "print(\"Probability : {}\".format(prob))\n",
    "print(\"Variance    : {}\".format(var))"
   ]
  },
  {
   "cell_type": "markdown",
   "metadata": {
    "collapsed": true
   },
   "source": [
    "Well, $10^{6}$ seems to have been a really good number recently.  While it took a bit longer than I expected, it got me well within three decimal points of accuracy, so I can safely assume the probability is about than $1.3 \\%$."
   ]
  },
  {
   "cell_type": "code",
   "execution_count": null,
   "metadata": {
    "collapsed": true
   },
   "outputs": [],
   "source": []
  }
 ],
 "metadata": {
  "kernelspec": {
   "display_name": "Python 3",
   "language": "python",
   "name": "python3"
  },
  "language_info": {
   "codemirror_mode": {
    "name": "ipython",
    "version": 3
   },
   "file_extension": ".py",
   "mimetype": "text/x-python",
   "name": "python",
   "nbconvert_exporter": "python",
   "pygments_lexer": "ipython3",
   "version": "3.6.0"
  }
 },
 "nbformat": 4,
 "nbformat_minor": 2
}
