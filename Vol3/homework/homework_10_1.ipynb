{
 "cells": [
  {
   "cell_type": "code",
   "execution_count": 1,
   "metadata": {
    "collapsed": true
   },
   "outputs": [],
   "source": [
    "import numpy as np\n",
    "from scipy.linalg import solve_triangular as st\n",
    "import time\n",
    "from matplotlib import pyplot as plt"
   ]
  },
  {
   "cell_type": "markdown",
   "metadata": {},
   "source": [
    "### Homework 10.1"
   ]
  },
  {
   "cell_type": "markdown",
   "metadata": {},
   "source": [
    "10.1\n",
    "(i)\n",
    "\n",
    "$\n",
    "\\begin{align*}\n",
    "&\\frac{\\partial}{\\partial \\beta_{0}} \\sum_{i=1}^{n} (\\beta_{0}+\\beta_{1}x_{i}-y_{i})^{2} \\\\\n",
    "&= \\sum_{i=1}^{n} 2(\\beta_{0}+\\beta_{1}x_{i}-y_{i}) = 0\\\\\n",
    "0 &= 2\\left(\\beta_{0}n + \\beta_{1}\\sum_{i=1}^{n}x_{i} - \\sum_{i=1}^{n}y_{i}\\right) \\\\\n",
    "0 &= \\left(\\beta_{0}n + \\beta_{1}\\sum_{i=1}^{n}x_{i} - \\sum_{i=1}^{n}y_{i}\\right) \\\\\n",
    "&\\Rightarrow \\beta_{0} = -\\frac{1}{n} \\left( \\beta_{1} \\sum_{i=1}^{n}x_{i} - \\sum_{i=1}^{n} y_{i}\\right) \\\\\n",
    "&\\frac{\\partial}{\\partial \\beta_{1}} \\sum_{i=1}^{n} (\\beta_{0}+\\beta_{1}x_{i}-y_{i})^{2} \\\\\n",
    "&= \\sum_{i=1}^{n} 2x_{i}(\\beta_{0}+\\beta_{1}x_{i}-y_{i}) = 0 \\\\\n",
    "0 &= 2\\left( \\beta_{0}\\sum_{i=1}^{n} x_{i} + \\beta_{1} \\sum_{i=1}^{n} x_{i}^{2} - \\sum_{i=1}^{n} x_{i}y_{i}\\right) \\\\\n",
    "0 &= \\left( \\beta_{0}\\sum_{i=1}^{n} x_{i} + \\beta_{1} \\sum_{i=1}^{n} x_{i}^{2} - \\sum_{i=1}^{n} x_{i}y_{i}\\right)\n",
    "\\end{align*}\n",
    "$"
   ]
  },
  {
   "cell_type": "markdown",
   "metadata": {},
   "source": [
    "Substituting the formula for $\\beta_{0}$ into this formula gives\n",
    "\n",
    "$\n",
    "\\begin{align*}\n",
    "0 &= \\left(-\\frac{1}{n}\\left(\\beta_{1}\\sum_{i=1}^{n} x_{i} - \\sum_{i=1}^{n} y_{i}\\right)\\sum_{i=1}^{n} x_{i} + \\beta_{1}\\sum_{i=1}^{n} x_{i}^{2} - \\sum_{i=1}^{n} x_{i}y_{i}\\right) \\\\\n",
    "0 &= \\left( -\\frac{1}{n}\\beta_{1}\\left(\\sum_{i=1}^{n} x_{i}\\right)^{2} + \\frac{1}{n}\\left(\\sum_{i=1}^{n} y_{i}\\right)\\left(\\sum_{i=1}^{n} x_{i}\\right) + \\beta_{1}\\sum_{i=1}^{n} x_{i}^{2} - \\sum_{i=1}^{n} x_{i}y_{i} \\right) \\\\\n",
    "&\\Rightarrow \\beta_{1}\\left(\\sum_{i=1}^{n} x_{i}^{2} - \\frac{1}{n}\\left(\\sum_{i=1}^{n} x_{i}\\right)^{2}\\right) = \\sum_{i=1}^{n} x_{i}y_{i} - \\frac{1}{n}\\left(\\sum_{i=1}^{n} y_{i}\\right)\\left(\\sum_{i=1}^{n} x_{i}\\right) \\\\\n",
    "&\\Rightarrow \\beta_{1} = \\frac{1}{\\sum_{i=1}^{n} x_{i}^{2} - \\frac{1}{n}\\left( \\sum_{i=1}^{n} x_{i}\\right)^{2}}\\left(\\sum_{i=1}^{n} x_{i}y_{i} - \\frac{1}{n}\\left(\\sum_{i=1}^{n} y_{i}\\right)\\left(\\sum_{i=1}^{n} x_{i}\\right)\\right) \\\\\n",
    "&\\Rightarrow \\beta_{1} = \\frac{1}{n\\sum_{i=1}^{n} x_{i}^{2} - \\left( \\sum_{i=1}^{n} x_{i}\\right)^{2}}\\left(n\\sum_{i=1}^{n} x_{i}y_{i} - \\left(\\sum_{i=1}^{n} y_{i}\\right)\\left(\\sum_{i=1}^{n} x_{i}\\right)\\right)\n",
    "\\end{align*}\n",
    "$"
   ]
  },
  {
   "cell_type": "markdown",
   "metadata": {},
   "source": [
    "Substituting back into $\\beta_{0}$ gives\n",
    "\n",
    "$\n",
    "\\begin{align*}\n",
    "\\beta_{0} &= -\\frac{1}{n}\\left[\\left(\\frac{1}{n\\sum_{i=1}^{n} x_{i}^{2} - \\left( \\sum_{i=1}^{n} x_{i}\\right)^{2}}\\left[n\\sum_{i=1}^{n} x_{i}y_{i} - \\left(\\sum_{i=1}^{n} y_{i}\\right)\\left(\\sum_{i=1}^{n} x_{i}\\right)\\right]\\right)\\sum_{i=1}^{n} x_{i} - \\sum_{i=1}^{n} y_{i}\\right] \\\\\n",
    "&= \\frac{1}{n\\sum_{i=1}^{n} x_{i}^{2} - \\left( \\sum_{i=1}^{n} x_{i}\\right)^{2}}\\left[\\frac{1}{n}\\left(\\sum_{i=1}^{n}y_{i}\\right)\\left(\\sum_{i=1}^{n}x_{i}\\right)^{2} - \\left(\\sum_{i=1}^{n}x_{i}y_{i}\\right)\\left(\\sum_{i=1}^{n}x_{i}\\right)\\right] + \\frac{1}{n}\\sum_{i=1}^{n} y_{i} \\\\\n",
    "&= \\frac{1}{n\\sum_{i=1}^{n} x_{i}^{2} - \\left( \\sum_{i=1}^{n} x_{i}\\right)^{2}}\\left[\\frac{1}{n}\\left(\\sum_{i=1}^{n}y_{i}\\right)\\left(\\sum_{i=1}^{n}x_{i}\\right)^{2} - \\left(\\sum_{i=1}^{n}x_{i}y_{i}\\right)\\left(\\sum_{i=1}^{n}x_{i}\\right)\\right] + \\frac{1}{n}\\sum_{i=1}^{n} y_{i}\\left(\\frac{n\\sum_{i=1}^{n} x_{i}^{2} - \\left( \\sum_{i=1}^{n} x_{i}\\right)^{2}}{n\\sum_{i=1}^{n} x_{i}^{2} - \\left( \\sum_{i=1}^{n} x_{i}\\right)^{2}}\\right) \\\\\n",
    "&= \\frac{1}{n\\sum_{i=1}^{n} x_{i}^{2} - \\left( \\sum_{i=1}^{n} x_{i}\\right)^{2}}\\left[\\frac{1}{n}\\left(\\sum_{i=1}^{n}y_{i}\\right)\\left(\\sum_{i=1}^{n}x_{i}\\right)^{2} - \\left(\\sum_{i=1}^{n}x_{i}y_{i}\\right)\\left(\\sum_{i=1}^{n}x_{i}\\right)\\right] + \\left(\\frac{\\left(\\sum_{i=1}^{n} y_{i}\\right)\\left(\\sum_{i=1}^{n} x_{i}^{2}\\right) - \\frac{1}{n}\\left( \\sum_{i=1}^{n} x_{i}\\right)^{2}\\left(\\sum_{i=1}^{n} y_{i}\\right)}{n\\sum_{i=1}^{n} x_{i}^{2} - \\left( \\sum_{i=1}^{n} x_{i}\\right)^{2}}\\right) \\\\\n",
    "&= \\frac{1}{n\\sum_{i=1}^{n} x_{i}^{2} - \\left( \\sum_{i=1}^{n} x_{i}\\right)^{2}}\\left[\\frac{1}{n}\\left(\\sum_{i=1}^{n}y_{i}\\right)\\left(\\sum_{i=1}^{n}x_{i}\\right)^{2} - \\left(\\sum_{i=1}^{n}x_{i}y_{i}\\right)\\left(\\sum_{i=1}^{n}x_{i}\\right) + \\left(\\sum_{i=1}^{n} y_{i}\\right)\\left(\\sum_{i=1}^{n} x_{i}^{2}\\right) - \\frac{1}{n}\\left( \\sum_{i=1}^{n} x_{i}\\right)^{2}\\left(\\sum_{i=1}^{n} y_{i}\\right)\\right] \\\\\n",
    "&= \\frac{1}{n\\sum_{i=1}^{n} x_{i}^{2} - \\left( \\sum_{i=1}^{n} x_{i}\\right)^{2}}\\left[ \\left(\\sum_{i=1}^{n} y_{i}\\right)\\left(\\sum_{i=1}^{n} x_{i}^{2}\\right) - \\left(\\sum_{i=1}^{n}x_{i}y_{i}\\right)\\left(\\sum_{i=1}^{n}x_{i}\\right)\\right]\n",
    "\\end{align*}\n",
    "$"
   ]
  },
  {
   "cell_type": "markdown",
   "metadata": {},
   "source": [
    "Now note that\n",
    "\n",
    "$\n",
    "\\begin{align*}\n",
    "\\left[ \\begin{matrix} \\beta_{0} \\\\ \\beta_{1} \\end{matrix} \\right] &= (X^{T}X)^{-1}X^{T}Y \\\\\n",
    "&= \\left(\\left[ \\begin{matrix} n & \\sum_{i=1}^{n} x_{i} \\\\ \\sum_{i=1}^{n} x_{i} & \\sum_{i=1}^{n} x_{i}^{2} \\end{matrix} \\right] \\right)^{-1}\\left[ \\begin{matrix} \\sum_{i=1}^{n} y_{i} \\\\ \\sum_{i=1}^{n} x_{i}y_{i} \\end{matrix} \\right] \\\\\n",
    "&= \\frac{1}{n\\sum_{i=1}^{n} x_{i}^{2} - \\left(\\sum_{i=1}^{n} x_{i}\\right)^{2}}\\left[ \\begin{matrix} \\sum_{i=1}^{n} x_{i}^{2} & -\\sum_{i=1}^{n} x_{i} \\\\ -\\sum_{i=1}^{n} x_{i} & n \\end{matrix} \\right]\\left[ \\begin{matrix} \\sum_{i=1}^{n} y_{i} \\\\ \\sum_{i=1}^{n} x_{i}y_{i} \\end{matrix} \\right] \\\\\n",
    "&= \\frac{1}{n\\sum_{i=1}^{n} x_{i}^{2} - \\left(\\sum_{i=1}^{n} x_{i}\\right)^{2}}\\left[ \\begin{matrix} \\left(\\sum_{i=1}^{n} x_{i}^{2}\\right)\\left(\\sum_{i=1}^{n} y_{i}\\right) - \\left(\\sum_{i=1}^{n} x_{i}\\right)\\left(\\sum_{i=1}^{n} x_{i}y_{i}\\right) \\\\ n\\sum_{i=1}^{n} x_{i}y_{i} - \\left(\\sum_{i=1}^{n} x_{i}\\right)\\left(\\sum_{i=1}^{n} y_{i}\\right) \\end{matrix} \\right]\n",
    "\\end{align*}\n",
    "$"
   ]
  },
  {
   "cell_type": "markdown",
   "metadata": {},
   "source": [
    "We now observe that the formulas for $\\beta_{0}$ and $\\beta_{1}$ are equivalent."
   ]
  },
  {
   "cell_type": "markdown",
   "metadata": {},
   "source": [
    "(ii)\n",
    "Note that\n",
    "\n",
    "$\n",
    "\\begin{align*}\n",
    "&\\frac{\\partial^{2}}{\\left(\\partial \\beta_{0}\\right)^{2}} \\sum_{i=1}^{n} \\left(\\beta_{0}+\\beta_{1}x_{i}-y_{i} \\right)^{2} \\\\\n",
    "&= 2\\sum_{i=1}^{n} 1 = 2n \\\\\n",
    "&\\frac{\\partial^{2}}{\\left(\\partial \\beta_{1}\\right)^{2}} \\sum_{i=1}^{n} \\left(\\beta_{0}+\\beta_{1}x_{i}-y_{i} \\right)^{2} \\\\\n",
    "&= 2\\sum_{i=1}^{n} x_{i}^{2} \\\\\n",
    "&\\frac{\\partial^{2}}{\\partial \\beta_{1}\\partial \\beta_{0}} \\sum_{i=1}^{n} \\left(\\beta_{0}+\\beta_{1}x_{i}-y_{i} \\right)^{2} \\\\\n",
    "&= 2\\sum_{i=1}^{n} x_{i}\n",
    "\\end{align*}\n",
    "$"
   ]
  },
  {
   "cell_type": "markdown",
   "metadata": {},
   "source": [
    "Thus, by using properties of multivariable calculus, we note that\n",
    "\n",
    "$\n",
    "\\begin{align*}\n",
    "D &= (2n)\\left(2\\sum_{i=1}^{n} x_{i}\\right) - \\left(2\\sum_{i=1}^{n} x_{i}\\right)^{2} \\\\\n",
    "&= 4n\\sum_{i=1}^{n} x_{i} - 4\\left(\\sum_{i=1}^{n} x_{i}\\right)^{2} \\\\\n",
    "&\\geq 4n\\sum_{i=1}^{n} x_{i} - 4n\\left(\\sum_{i=1}^{n} x_{i}\\right)^{2} \\\\\n",
    "&= 4n\\left(\\sum_{i=1}^{n} x_{i} - \\left(\\sum_{i=1}^{n} x_{i}\\right)^{2}\\right) \\\\\n",
    "&= 4n Var(x) \\geq 0\n",
    "\\end{align*}\n",
    "$\n",
    "\n",
    "Thus it is either a max or a min, and since $2n > 0$, it's a minimum."
   ]
  },
  {
   "cell_type": "markdown",
   "metadata": {},
   "source": [
    "10.2\n",
    "\n",
    "Code up a least-squares solver in NumPy. Your method should accept two NumPy arrays: an n $\\times$ d array $X$ (an $n$-fold sample from the independent variables) and an array $Y$ of length $n$ (an n-fold sample from the dependent variable) and return an array  $\\hat{\\beta} = (X^{T}X)^{-1}XY$ of length $d$ (the estimated coefficients of the linear model). Instead of computing the inverse $(X^{T}X)^{-1}$, solve the system $X^{T}X\\hat{\\beta} = XY$ using numpy.linalg.solve (why?).\n",
    "Let $n = 103$. Generate artificial data with three independent variables $d = 3$, by setting $X$ = np.random.random((n, 3)) and let $\\beta = \\left[ \\begin{matrix} 1 & 2 & 3 \\end{matrix} \\right]$. Set $e$ = np .random.random(n), and $y$ = np.dot(X, beta) + $e$.\n",
    "Run your solver on the generated data X and Y and compare the result to the known value of $\\beta$."
   ]
  },
  {
   "cell_type": "code",
   "execution_count": 2,
   "metadata": {
    "collapsed": true
   },
   "outputs": [],
   "source": [
    "def least_squares(X,Y) :\n",
    "    return np.linalg.solve(np.dot(X.T,X),np.dot(X.T,Y))"
   ]
  },
  {
   "cell_type": "code",
   "execution_count": 3,
   "metadata": {
    "collapsed": false
   },
   "outputs": [
    {
     "name": "stdout",
     "output_type": "stream",
     "text": [
      "Result: [ 1.29089125  2.36963829  3.19321474]\n",
      "Error: [ 0.29089125  0.36963829  0.19321474]\n"
     ]
    }
   ],
   "source": [
    "n = 103\n",
    "X = np.random.random((n,3))\n",
    "B = np.array([1,2,3])\n",
    "e = np.random.random(n)\n",
    "Y = np.dot(X,B)+e\n",
    "start = time.time()\n",
    "res = least_squares(X,Y)\n",
    "end = time.time()\n",
    "speed_ls = end - start\n",
    "print('Result: ' +str(res))\n",
    "print('Error: '+str(np.abs(B-res)))"
   ]
  },
  {
   "cell_type": "markdown",
   "metadata": {},
   "source": [
    "10.3\n",
    "\n",
    "$\n",
    "\\begin{align*}\n",
    "&argmin_{\\beta} \\left| \\left| X\\beta - Y \\right| \\right|_{2}^{2}\\\\\n",
    "&= argmin_{\\beta} \\left| \\left| Q^{T}(X\\beta - Y) \\right| \\right|_{2}^{2}\\\\\n",
    "&= argmin_{\\beta} \\left| \\left| Q^{T}X\\beta - Q^{T}Y \\right| \\right|_{2}^{2}\\\\\n",
    "&= argmin_{\\beta} \\left| \\left| R\\beta - \\left[ \\begin{matrix} C \\\\ D \\end{matrix} \\right] \\right| \\right|_{2}^{2}\\\\\n",
    "&= argmin_{\\beta} \\left| \\left| \\left[ \\begin{matrix} R_{1}\\beta - C \\\\ 0 - D \\end{matrix} \\right] \\right| \\right|_{2}^{2}\\\\\n",
    "&= argmin_{\\beta} \\left| \\left| R_{1}\\beta - C \\right| \\right|_{2}^{2}\n",
    "\\end{align*}\n",
    "$\n",
    "\n",
    "Since $R_{1}$ is invertible, there is exactly one $\\beta$ s.t. $R_{1}\\beta = C \\Rightarrow R_{1}\\beta - C = 0$.  Since $|| \\cdot ||_{2} \\geq 0$, $argmin_{\\beta} \\left| \\left| R_{1}\\beta - C \\right| \\right|_{2}^{2}$ is this $\\beta$, namely $R_{1}^{-1}C$."
   ]
  },
  {
   "cell_type": "markdown",
   "metadata": {},
   "source": [
    "10.4\n",
    "\n",
    "Code up a least-squares solver in NumPy that uses QR decomposition and the result of the previous problem to compute $\\hat{\\beta}$. You should use scipy.linalg.solve_triangular to solve the system instead of inverting $R_{1}$. (How is solve_triangular better than plain solve?) Your method should accept two NumPy arrays: an n $\\times$ d array $X$ (an n-fold sample from the independent variables) and an array $Y$ of length $n$ (an n-fold sample from the dependent variable) and return an array $\\hat{\\beta}$ of length $d$ (the estimated coefficients of the linear model).\n",
    "\n",
    "Using the same artificial data from problem 10.2, run your solver on the generated data X and Y and compare the result to the known value of $\\beta$. Compare the speed and accuracy of your QR-based solver to the naïve solver of problem 10.2."
   ]
  },
  {
   "cell_type": "code",
   "execution_count": 4,
   "metadata": {
    "collapsed": true
   },
   "outputs": [],
   "source": [
    "def least_square_qr(X,Y) :\n",
    "    Q, R = np.linalg.qr(X)\n",
    "    C = np.dot(Q.T,Y)[:3]\n",
    "    return st(R,C)"
   ]
  },
  {
   "cell_type": "code",
   "execution_count": 5,
   "metadata": {
    "collapsed": false
   },
   "outputs": [
    {
     "name": "stdout",
     "output_type": "stream",
     "text": [
      "Result: [ 1.29089125  2.36963829  3.19321474]\n",
      "Error: [ 0.29089125  0.36963829  0.19321474]\n",
      "Improvement: [  9.32587341e-15  -7.10542736e-15  -4.44089210e-15]\n",
      "Speeds:\n",
      "      Naive: 0.0005350112915039062\n",
      "      QR   : 0.020025014877319336\n"
     ]
    }
   ],
   "source": [
    "start = time.time()\n",
    "res_1 = least_square_qr(X,Y)\n",
    "end = time.time()\n",
    "speed_lsqr = end-start\n",
    "print('Result: ' + str(res_1))\n",
    "print('Error: ' + str(np.abs(res_1-B)))\n",
    "print('Improvement: ' + str(np.abs(res-B)-np.abs(res_1-B)))\n",
    "print('Speeds:')\n",
    "print('      Naive: ' + str(speed_ls))\n",
    "print('      QR   : ' + str(speed_lsqr))"
   ]
  },
  {
   "cell_type": "markdown",
   "metadata": {},
   "source": [
    "10.5"
   ]
  },
  {
   "cell_type": "code",
   "execution_count": 6,
   "metadata": {
    "collapsed": false
   },
   "outputs": [],
   "source": [
    "data = np.load('OLSdata.npy')\n",
    "first = data[:,:2]\n",
    "second = data[:,2:4]\n",
    "third = data[:,4:6]\n",
    "fourth = data[:,6:]"
   ]
  },
  {
   "cell_type": "code",
   "execution_count": 7,
   "metadata": {
    "collapsed": false
   },
   "outputs": [
    {
     "data": {
      "image/png": "[encoded data removed]",
      "text/plain": [
       "<matplotlib.figure.Figure at 0x115834eb8>"
      ]
     },
     "metadata": {},
     "output_type": "display_data"
    }
   ],
   "source": [
    "xs = first[:,0]\n",
    "ys = first[:,1]\n",
    "X = np.hstack((np.ones_like(xs.reshape(-1,1)),xs.reshape(-1,1)))\n",
    "Y = ys\n",
    "beta = least_square_qr(X,Y)\n",
    "f = lambda x : beta[0] + beta[1]*x\n",
    "plt.scatter(xs,ys)\n",
    "x = np.linspace(min(xs),max(xs),100)\n",
    "y = f(x)\n",
    "plt.plot(x,y,label='LS-Line')\n",
    "plt.legend(loc='best')\n",
    "plt.title('First Dataset')\n",
    "plt.show()"
   ]
  },
  {
   "cell_type": "code",
   "execution_count": 8,
   "metadata": {
    "collapsed": false
   },
   "outputs": [
    {
     "data": {
      "image/png": "[encoded data removed]",
      "text/plain": [
       "<matplotlib.figure.Figure at 0x1184c6278>"
      ]
     },
     "metadata": {},
     "output_type": "display_data"
    }
   ],
   "source": [
    "xs = second[:,0]\n",
    "ys = second[:,1]\n",
    "X = np.hstack((np.ones_like(xs.reshape(-1,1)),xs.reshape(-1,1)))\n",
    "Y = ys\n",
    "beta = least_square_qr(X,Y)\n",
    "f = lambda x : beta[0] + beta[1]*x\n",
    "plt.scatter(xs,ys)\n",
    "x = np.linspace(min(xs),max(xs),100)\n",
    "y = f(x)\n",
    "plt.plot(x,y,label='LS-Line')\n",
    "plt.legend(loc='best')\n",
    "plt.title('Second Dataset')\n",
    "plt.show()"
   ]
  },
  {
   "cell_type": "code",
   "execution_count": 9,
   "metadata": {
    "collapsed": false
   },
   "outputs": [
    {
     "data": {
      "image/png": "[encoded data removed]",
      "text/plain": [
       "<matplotlib.figure.Figure at 0x1184c6390>"
      ]
     },
     "metadata": {},
     "output_type": "display_data"
    }
   ],
   "source": [
    "xs = third[:,0]\n",
    "ys = third[:,1]\n",
    "X = np.hstack((np.ones_like(xs.reshape(-1,1)),xs.reshape(-1,1)))\n",
    "Y = ys\n",
    "beta = least_square_qr(X,Y)\n",
    "f = lambda x : beta[0] + beta[1]*x\n",
    "plt.scatter(xs,ys)\n",
    "x = np.linspace(min(xs),max(xs),100)\n",
    "y = f(x)\n",
    "plt.plot(x,y,label='LS-Line')\n",
    "plt.legend(loc='best')\n",
    "plt.title('Third Dataset')\n",
    "plt.show()"
   ]
  },
  {
   "cell_type": "code",
   "execution_count": 10,
   "metadata": {
    "collapsed": false
   },
   "outputs": [
    {
     "data": {
      "image/png": "[encoded data removed]",
      "text/plain": [
       "<matplotlib.figure.Figure at 0x118811b70>"
      ]
     },
     "metadata": {},
     "output_type": "display_data"
    }
   ],
   "source": [
    "xs = fourth[:,0]\n",
    "ys = fourth[:,1]\n",
    "X = np.hstack((np.ones_like(xs.reshape(-1,1)),xs.reshape(-1,1)))\n",
    "Y = ys\n",
    "beta = least_square_qr(X,Y)\n",
    "f = lambda x : beta[0] + beta[1]*x\n",
    "plt.scatter(xs,ys)\n",
    "x = np.linspace(min(xs),max(xs),100)\n",
    "y = f(x)\n",
    "plt.plot(x,y,label='LS-Line')\n",
    "plt.legend(loc='best')\n",
    "plt.title('Fourth Dataset')\n",
    "plt.show()"
   ]
  }
 ],
 "metadata": {
  "kernelspec": {
   "display_name": "Python 3",
   "language": "python",
   "name": "python3"
  },
  "language_info": {
   "codemirror_mode": {
    "name": "ipython",
    "version": 3
   },
   "file_extension": ".py",
   "mimetype": "text/x-python",
   "name": "python",
   "nbconvert_exporter": "python",
   "pygments_lexer": "ipython3",
   "version": "3.6.0"
  }
 },
 "nbformat": 4,
 "nbformat_minor": 2
}
