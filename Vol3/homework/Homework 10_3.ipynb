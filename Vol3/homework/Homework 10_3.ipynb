{
 "cells": [
  {
   "cell_type": "markdown",
   "metadata": {},
   "source": [
    "## Homework 10_3"
   ]
  },
  {
   "cell_type": "code",
   "execution_count": 1,
   "metadata": {
    "collapsed": false
   },
   "outputs": [
    {
     "name": "stderr",
     "output_type": "stream",
     "text": [
      "/anaconda/lib/python3.6/site-packages/statsmodels/compat/pandas.py:56: FutureWarning: The pandas.core.datetools module is deprecated and will be removed in a future version. Please use the pandas.tseries module instead.\n",
      "  from pandas.core import datetools\n"
     ]
    }
   ],
   "source": [
    "import numpy as np\n",
    "import pandas as pd\n",
    "import statsmodels.api as sm\n",
    "import statsmodels.formula.api as smf"
   ]
  },
  {
   "cell_type": "markdown",
   "metadata": {},
   "source": [
    "### 10.11\n",
    "\n",
    "p_value = $P\\left(T \\leq 2 \\mid \\theta = \\frac{1}{2}\\right) = P\\left(H \\geq 8 \\mid \\theta = \\frac{1}{2} \\right) = \\sum_{i=8}^{10} \\binom{10}{i}\\left(\\frac{1}{2}\\right)^{i}\\left(\\frac{1}{2}\\right)^{10-i} = \\frac{1}{2^{10}}\\left( \\binom{10}{8} + \\binom{10}{9} + \\binom{10}{10} \\right) = \\frac{56}{2^{10}} \\approx 0.0546875$.\n",
    "\n",
    "If $\\alpha = 0.1$, then it does justify rejecting the null hypothesis.  However, with $\\alpha = 0.05$, it's not justified."
   ]
  },
  {
   "cell_type": "markdown",
   "metadata": {},
   "source": [
    "### 10.12\n",
    "\n",
    "Since $\\hat{\\beta_{1}} = (X_{1}^{T}X_{1})^{-1}X_{1}^{T}Y$, with $Y = X_{1}\\beta_{1} + X_{2}\\beta_{2} + \\eta$, we can caluclate $\\mathbb{E}(\\hat{\\beta_{1}} \\mid X_{1})$ as :\n",
    "$\n",
    "\\begin{align*}\n",
    "\\mathbb{E}(\\hat{\\beta_{1}} \\mid X_{1}) &= \\mathbb{E}\\left[(X_{1}^{T}X_{1})^{-1}\\left(X_{1}\\beta_{1}+X_{2}\\beta_{2}+\\eta\\right) \\mid X_{1}\\right] \\\\\n",
    "&= \\mathbb{E}\\left[ \\beta_{1} + (X_{1}^{T}X_{1})^{-1}X_{1}^{T}X_{2}\\beta_{2} + (X_{1}^{T}X_{1})^{-1}X_{1}^{T}\\eta \\mid X_{1} \\right] \\\\\n",
    "&= \\mathbb{E}\\left[ \\beta_{1} \\mid X_{1} \\right] + \\mathbb{E}\\left[ (X_{1}^{T}X_{1})^{-1}X_{1}^{T}X_{2}\\beta_{2} \\mid X_{1} \\right] + \\mathbb{E}\\left[ (X_{1}^{T}X_{1})^{-1}X_{1}^{T}\\eta \\mid X_{1} \\right] \\\\\n",
    "&= \\beta_{1} + (X_{1}^{T}X_{1})^{-1}X_{1}^{T}\\mathbb{E}\\left[ X_{2}\\beta_{2} \\mid X_{1} \\right] + (X_{1}^{T}X_{1})^{-1}X_{1}^{T}\\mathbb{E}\\left[ \\eta \\mid X_{1} \\right] \\\\\n",
    "&= \\beta_{1} + (X_{1}^{T}X_{1})^{-1}X_{1}^{T}\\mathbb{E}\\left[ X_{2}\\beta_{2} \\mid X_{1} \\right]\n",
    "\\end{align*}\n",
    "$\n",
    "so if $X_{2}\\beta_{2} \\not= 0$, then $\\mathbb{E}(\\hat{\\beta_{1}} \\mid X_{1}) \\not= \\beta_{1}$, and is therefore biassed."
   ]
  },
  {
   "cell_type": "markdown",
   "metadata": {},
   "source": [
    "### 10.13"
   ]
  },
  {
   "cell_type": "code",
   "execution_count": 2,
   "metadata": {
    "collapsed": true
   },
   "outputs": [],
   "source": [
    "df = pd.read_csv('wages.csv')"
   ]
  },
  {
   "cell_type": "code",
   "execution_count": 4,
   "metadata": {
    "collapsed": false
   },
   "outputs": [],
   "source": [
    "y = df['wage']\n",
    "X1 = df['female']\n",
    "X1 = sm.add_constant(X1)"
   ]
  },
  {
   "cell_type": "code",
   "execution_count": 6,
   "metadata": {
    "collapsed": false
   },
   "outputs": [
    {
     "name": "stdout",
     "output_type": "stream",
     "text": [
      "                            OLS Regression Results                            \n",
      "==============================================================================\n",
      "Dep. Variable:                   wage   R-squared:                       0.116\n",
      "Model:                            OLS   Adj. R-squared:                  0.114\n",
      "Method:                 Least Squares   F-statistic:                     68.54\n",
      "Date:                Tue, 05 Dec 2017   Prob (F-statistic):           1.04e-15\n",
      "Time:                        20:33:55   Log-Likelihood:                -1400.7\n",
      "No. Observations:                 526   AIC:                             2805.\n",
      "Df Residuals:                     524   BIC:                             2814.\n",
      "Df Model:                           1                                         \n",
      "Covariance Type:            nonrobust                                         \n",
      "==============================================================================\n",
      "                 coef    std err          t      P>|t|      [0.025      0.975]\n",
      "------------------------------------------------------------------------------\n",
      "const          7.0995      0.210     33.806      0.000       6.687       7.512\n",
      "female        -2.5118      0.303     -8.279      0.000      -3.108      -1.916\n",
      "==============================================================================\n",
      "Omnibus:                      223.488   Durbin-Watson:                   1.818\n",
      "Prob(Omnibus):                  0.000   Jarque-Bera (JB):              929.998\n",
      "Skew:                           1.928   Prob(JB):                    1.13e-202\n",
      "Kurtosis:                       8.250   Cond. No.                         2.57\n",
      "==============================================================================\n",
      "\n",
      "Warnings:\n",
      "[1] Standard Errors assume that the covariance matrix of the errors is correctly specified.\n"
     ]
    }
   ],
   "source": [
    "results = sm.OLS(y,X1).fit()\n",
    "print(results.summary())"
   ]
  },
  {
   "cell_type": "code",
   "execution_count": 9,
   "metadata": {
    "collapsed": false
   },
   "outputs": [
    {
     "name": "stdout",
     "output_type": "stream",
     "text": [
      "                            OLS Regression Results                            \n",
      "==============================================================================\n",
      "Dep. Variable:                   wage   R-squared:                       0.368\n",
      "Model:                            OLS   Adj. R-squared:                  0.362\n",
      "Method:                 Least Squares   F-statistic:                     60.61\n",
      "Date:                Tue, 05 Dec 2017   Prob (F-statistic):           1.02e-49\n",
      "Time:                        20:43:14   Log-Likelihood:                -1312.3\n",
      "No. Observations:                 526   AIC:                             2637.\n",
      "Df Residuals:                     520   BIC:                             2662.\n",
      "Df Model:                           5                                         \n",
      "Covariance Type:            nonrobust                                         \n",
      "==============================================================================\n",
      "                 coef    std err          t      P>|t|      [0.025      0.975]\n",
      "------------------------------------------------------------------------------\n",
      "const         -1.6182      0.723     -2.238      0.026      -3.039      -0.198\n",
      "female        -1.7414      0.266     -6.535      0.000      -2.265      -1.218\n",
      "educ           0.5557      0.050     11.144      0.000       0.458       0.654\n",
      "exper          0.0187      0.012      1.558      0.120      -0.005       0.042\n",
      "tenure         0.1388      0.021      6.566      0.000       0.097       0.180\n",
      "married        0.5592      0.286      1.956      0.051      -0.003       1.121\n",
      "==============================================================================\n",
      "Omnibus:                      188.464   Durbin-Watson:                   1.795\n",
      "Prob(Omnibus):                  0.000   Jarque-Bera (JB):              730.151\n",
      "Skew:                           1.611   Prob(JB):                    2.82e-159\n",
      "Kurtosis:                       7.789   Cond. No.                         141.\n",
      "==============================================================================\n",
      "\n",
      "Warnings:\n",
      "[1] Standard Errors assume that the covariance matrix of the errors is correctly specified.\n"
     ]
    }
   ],
   "source": [
    "X = df.filter(['female','educ','exper','tenure','married'])\n",
    "X = sm.add_constant(X)\n",
    "new_res = sm.OLS(y,X).fit()\n",
    "print(new_res.summary())"
   ]
  },
  {
   "cell_type": "markdown",
   "metadata": {},
   "source": [
    "The coefficient for female increased by about $0.75$, which would indicate that at least some of the correlation from before was influenced by these other variables as well.  Whether or not you're female seems to be the main factor as it's coefficent still has the greatest absolute value.  Years of education and whether or not you're married are the other major factors using these variables, although being married is just beyond the cut off with $\\alpha=0.05$."
   ]
  },
  {
   "cell_type": "code",
   "execution_count": 10,
   "metadata": {
    "collapsed": false
   },
   "outputs": [
    {
     "name": "stdout",
     "output_type": "stream",
     "text": [
      "                            OLS Regression Results                            \n",
      "==============================================================================\n",
      "Dep. Variable:                   wage   R-squared:                       0.392\n",
      "Model:                            OLS   Adj. R-squared:                  0.385\n",
      "Method:                 Least Squares   F-statistic:                     55.84\n",
      "Date:                Tue, 05 Dec 2017   Prob (F-statistic):           3.90e-53\n",
      "Time:                        20:50:50   Log-Likelihood:                -1302.1\n",
      "No. Observations:                 526   AIC:                             2618.\n",
      "Df Residuals:                     519   BIC:                             2648.\n",
      "Df Model:                           6                                         \n",
      "Covariance Type:            nonrobust                                         \n",
      "====================================================================================\n",
      "                       coef    std err          t      P>|t|      [0.025      0.975]\n",
      "------------------------------------------------------------------------------------\n",
      "const               -2.3942      0.730     -3.279      0.001      -3.829      -0.960\n",
      "female              -0.3085      0.410     -0.752      0.452      -1.114       0.497\n",
      "educ                 0.5529      0.049     11.293      0.000       0.457       0.649\n",
      "exper                0.0190      0.012      1.607      0.109      -0.004       0.042\n",
      "tenure               0.1298      0.021      6.228      0.000       0.089       0.171\n",
      "married              1.8219      0.395      4.610      0.000       1.045       2.598\n",
      "female & married    -2.3953      0.528     -4.538      0.000      -3.432      -1.358\n",
      "==============================================================================\n",
      "Omnibus:                      184.455   Durbin-Watson:                   1.775\n",
      "Prob(Omnibus):                  0.000   Jarque-Bera (JB):              694.903\n",
      "Skew:                           1.585   Prob(JB):                    1.27e-151\n",
      "Kurtosis:                       7.654   Cond. No.                         160.\n",
      "==============================================================================\n",
      "\n",
      "Warnings:\n",
      "[1] Standard Errors assume that the covariance matrix of the errors is correctly specified.\n"
     ]
    }
   ],
   "source": [
    "df['female & married'] = df['female']*df['married']\n",
    "Y = df.filter(['female','educ','exper','tenure','married','female & married'])\n",
    "Y = sm.add_constant(Y)\n",
    "final_res = sm.OLS(y,Y).fit()\n",
    "print(final_res.summary())"
   ]
  },
  {
   "cell_type": "markdown",
   "metadata": {},
   "source": [
    "Almost the entirety of the constant for being strictly female went into be female and married.  The p-values would indicate that there isn't really a correlation to being female and earning less, but rather being a married female and earning less."
   ]
  },
  {
   "cell_type": "code",
   "execution_count": 15,
   "metadata": {
    "collapsed": false
   },
   "outputs": [
    {
     "name": "stdout",
     "output_type": "stream",
     "text": [
      "female & married    132\n",
      "dtype: int64\n",
      "female    252\n",
      "dtype: int64\n"
     ]
    }
   ],
   "source": [
    "print(df.filter(['female & married']).astype(bool).sum())\n",
    "print(df.filter(['female']).astype(bool).sum())"
   ]
  },
  {
   "cell_type": "code",
   "execution_count": null,
   "metadata": {
    "collapsed": true
   },
   "outputs": [],
   "source": []
  }
 ],
 "metadata": {
  "kernelspec": {
   "display_name": "Python 3",
   "language": "python",
   "name": "python3"
  },
  "language_info": {
   "codemirror_mode": {
    "name": "ipython",
    "version": 3
   },
   "file_extension": ".py",
   "mimetype": "text/x-python",
   "name": "python",
   "nbconvert_exporter": "python",
   "pygments_lexer": "ipython3",
   "version": "3.6.0"
  }
 },
 "nbformat": 4,
 "nbformat_minor": 2
}
