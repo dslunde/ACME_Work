{
 "cells": [
  {
   "cell_type": "code",
   "execution_count": 9,
   "metadata": {
    "collapsed": true
   },
   "outputs": [],
   "source": [
    "import numpy as np\n",
    "from scipy.linalg import solve_triangular as st\n",
    "import time"
   ]
  },
  {
   "cell_type": "markdown",
   "metadata": {},
   "source": [
    "### Homework 10.2\n",
    "\n",
    "10.10"
   ]
  },
  {
   "cell_type": "code",
   "execution_count": 10,
   "metadata": {
    "collapsed": true
   },
   "outputs": [],
   "source": [
    "def naive(X,Y) :\n",
    "    return np.linalg.solve(np.dot(X.T,X),np.dot(X.T,Y))\n",
    "\n",
    "def qr(X,Y) :\n",
    "    Q, R = np.linalg.qr(X)\n",
    "    C = np.dot(Q.T,Y)[:3]\n",
    "    return st(R,C)\n",
    "\n",
    "def find_beta(X,Y) :\n",
    "    r = np.linalg.matrix_rank(X)\n",
    "    U,diags,V = np.linalg.svd(X,full_matrices=True)\n",
    "    A = np.dot(U.T,Y)[:r]\n",
    "    sig_inv = np.zeros((r,r))\n",
    "    for i in range(r) :\n",
    "        sig_inv[i,i] = diags[i]**(-1)\n",
    "    return np.dot(V[:,:r],np.dot(sig_inv,A))"
   ]
  },
  {
   "cell_type": "code",
   "execution_count": 11,
   "metadata": {
    "collapsed": true
   },
   "outputs": [],
   "source": [
    "n = 10**3\n",
    "X = np.random.random((n,3))\n",
    "beta = np.array([1,2,3])\n",
    "e = np.random.randn(n)\n",
    "Y = np.dot(X,beta)+e"
   ]
  },
  {
   "cell_type": "code",
   "execution_count": 12,
   "metadata": {
    "collapsed": false
   },
   "outputs": [
    {
     "name": "stdout",
     "output_type": "stream",
     "text": [
      "Beta  (SVD)   : [ 0.81722086  3.63780353  0.43347502]\n",
      "Error (SVD)   : [ 0.18277914  1.63780353  2.56652498]\n",
      "Time  (SVD)   : 0.07158493995666504\n",
      "Beta  (Naive) : [ 0.99101224  2.01738327  3.00623096]\n",
      "Error (Naive) : [ 0.00898776  0.01738327  0.00623096]\n",
      "Time  (Naive) : 0.0003409385681152344\n",
      "Beta  (QR)    : [ 0.99101224  2.01738327  3.00623096]\n",
      "Error (QR)    : [ 0.00898776  0.01738327  0.00623096]\n",
      "Time  (QR)    : 0.43701887130737305\n"
     ]
    }
   ],
   "source": [
    "start = time.time()\n",
    "b = find_beta(X,Y)\n",
    "end = time.time()\n",
    "print('Beta  (SVD)   : '+str(b))\n",
    "print('Error (SVD)   : '+str(np.abs(b-beta)))\n",
    "print('Time  (SVD)   : '+str(end-start))\n",
    "start = time.time()\n",
    "b = naive(X,Y)\n",
    "end = time.time()\n",
    "print('Beta  (Naive) : '+str(b))\n",
    "print('Error (Naive) : '+str(np.abs(b-beta)))\n",
    "print('Time  (Naive) : '+str(end-start))\n",
    "start = time.time()\n",
    "b = qr(X,Y)\n",
    "end = time.time()\n",
    "print('Beta  (QR)    : '+str(b))\n",
    "print('Error (QR)    : '+str(np.abs(b-beta)))\n",
    "print('Time  (QR)    : '+str(end-start))"
   ]
  },
  {
   "cell_type": "code",
   "execution_count": 13,
   "metadata": {
    "collapsed": false
   },
   "outputs": [
    {
     "name": "stdout",
     "output_type": "stream",
     "text": [
      "Beta  (SVD)   : [ 1.36065777  2.70625315  2.22239067 -3.56896916  1.12452684  0.33483506]\n",
      "Error (SVD)   : [ 0.36065777  0.70625315  0.77760933  4.56896916  0.87547316  2.66516494]\n",
      "Time  (SVD)   : 0.1631779670715332\n"
     ]
    }
   ],
   "source": [
    "n = 10**3\n",
    "Z = np.random.random((n,3))\n",
    "X = np.hstack((Z,Z))\n",
    "beta = np.array([1,2,3,1,2,3])\n",
    "e = np.random.randn(n)\n",
    "Y = np.dot(X,beta) + e\n",
    "start = time.time()\n",
    "b = find_beta(X,Y)\n",
    "end = time.time()\n",
    "print('Beta  (SVD)   : '+str(b))\n",
    "print('Error (SVD)   : '+str(np.abs(b-beta)))\n",
    "print('Time  (SVD)   : '+str(end-start))"
   ]
  },
  {
   "cell_type": "code",
   "execution_count": null,
   "metadata": {
    "collapsed": true
   },
   "outputs": [],
   "source": []
  }
 ],
 "metadata": {
  "kernelspec": {
   "display_name": "Python 3",
   "language": "python",
   "name": "python3"
  },
  "language_info": {
   "codemirror_mode": {
    "name": "ipython",
    "version": 3
   },
   "file_extension": ".py",
   "mimetype": "text/x-python",
   "name": "python",
   "nbconvert_exporter": "python",
   "pygments_lexer": "ipython3",
   "version": "3.6.0"
  }
 },
 "nbformat": 4,
 "nbformat_minor": 2
}
