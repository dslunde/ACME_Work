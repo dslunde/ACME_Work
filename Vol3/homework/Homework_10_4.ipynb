{
 "cells": [
  {
   "cell_type": "markdown",
   "metadata": {},
   "source": [
    "## Homework 10.4"
   ]
  },
  {
   "cell_type": "code",
   "execution_count": 18,
   "metadata": {
    "collapsed": false
   },
   "outputs": [],
   "source": [
    "import numpy as np\n",
    "import pandas as pd\n",
    "import statsmodels.api as sm\n",
    "import statsmodels.formula.api as smf\n",
    "from itertools import combinations"
   ]
  },
  {
   "cell_type": "markdown",
   "metadata": {},
   "source": [
    "### 10.14"
   ]
  },
  {
   "cell_type": "code",
   "execution_count": 7,
   "metadata": {
    "collapsed": false
   },
   "outputs": [],
   "source": [
    "df = pd.read_csv('wages.csv')\n",
    "df['female & married'] = df['female']*df['married']\n",
    "y = df['wage']"
   ]
  },
  {
   "cell_type": "code",
   "execution_count": 8,
   "metadata": {
    "collapsed": false
   },
   "outputs": [
    {
     "name": "stdout",
     "output_type": "stream",
     "text": [
      "                            OLS Regression Results                            \n",
      "==============================================================================\n",
      "Dep. Variable:                   wage   R-squared:                       0.393\n",
      "Model:                            OLS   Adj. R-squared:                  0.384\n",
      "Method:                 Least Squares   F-statistic:                     41.90\n",
      "Date:                Wed, 06 Dec 2017   Prob (F-statistic):           1.42e-51\n",
      "Time:                        15:09:53   Log-Likelihood:                -1301.6\n",
      "No. Observations:                 526   AIC:                             2621.\n",
      "Df Residuals:                     517   BIC:                             2660.\n",
      "Df Model:                           8                                         \n",
      "Covariance Type:            nonrobust                                         \n",
      "====================================================================================\n",
      "                       coef    std err          t      P>|t|      [0.025      0.975]\n",
      "------------------------------------------------------------------------------------\n",
      "const               -2.5664      0.780     -3.289      0.001      -4.099      -1.033\n",
      "female              -0.3441      0.414     -0.832      0.406      -1.157       0.469\n",
      "educ                 0.5631      0.051     10.991      0.000       0.462       0.664\n",
      "exper                0.0209      0.012      1.735      0.083      -0.003       0.045\n",
      "tenure               0.1298      0.021      6.219      0.000       0.089       0.171\n",
      "married              1.7356      0.409      4.240      0.000       0.931       2.540\n",
      "female & married    -2.3578      0.533     -4.421      0.000      -3.406      -1.310\n",
      "numdep               0.0891      0.108      0.827      0.409      -0.123       0.301\n",
      "nonwhite            -0.2142      0.421     -0.509      0.611      -1.041       0.612\n",
      "==============================================================================\n",
      "Omnibus:                      183.094   Durbin-Watson:                   1.771\n",
      "Prob(Omnibus):                  0.000   Jarque-Bera (JB):              679.683\n",
      "Skew:                           1.578   Prob(JB):                    2.56e-148\n",
      "Kurtosis:                       7.588   Cond. No.                         163.\n",
      "==============================================================================\n",
      "\n",
      "Warnings:\n",
      "[1] Standard Errors assume that the covariance matrix of the errors is correctly specified.\n"
     ]
    }
   ],
   "source": [
    "X = df.filter(['female','educ','exper','tenure','married','female & married','numdep','nonwhite'])\n",
    "X = sm.add_constant(X)\n",
    "new_res = sm.OLS(y,X).fit()\n",
    "print(new_res.summary())"
   ]
  },
  {
   "cell_type": "code",
   "execution_count": 9,
   "metadata": {
    "collapsed": false
   },
   "outputs": [
    {
     "name": "stdout",
     "output_type": "stream",
     "text": [
      "                            OLS Regression Results                            \n",
      "==============================================================================\n",
      "Dep. Variable:                   wage   R-squared:                       0.393\n",
      "Model:                            OLS   Adj. R-squared:                  0.385\n",
      "Method:                 Least Squares   F-statistic:                     47.92\n",
      "Date:                Wed, 06 Dec 2017   Prob (F-statistic):           2.23e-52\n",
      "Time:                        15:12:56   Log-Likelihood:                -1301.7\n",
      "No. Observations:                 526   AIC:                             2619.\n",
      "Df Residuals:                     518   BIC:                             2654.\n",
      "Df Model:                           7                                         \n",
      "Covariance Type:            nonrobust                                         \n",
      "====================================================================================\n",
      "                       coef    std err          t      P>|t|      [0.025      0.975]\n",
      "------------------------------------------------------------------------------------\n",
      "const               -2.6032      0.776     -3.353      0.001      -4.129      -1.078\n",
      "female              -0.3495      0.413     -0.845      0.398      -1.162       0.463\n",
      "educ                 0.5645      0.051     11.043      0.000       0.464       0.665\n",
      "exper                0.0208      0.012      1.729      0.084      -0.003       0.044\n",
      "tenure               0.1297      0.021      6.220      0.000       0.089       0.171\n",
      "married              1.7387      0.409      4.251      0.000       0.935       2.542\n",
      "female & married    -2.3426      0.532     -4.402      0.000      -3.388      -1.297\n",
      "numdep               0.0853      0.107      0.794      0.428      -0.126       0.296\n",
      "==============================================================================\n",
      "Omnibus:                      183.622   Durbin-Watson:                   1.772\n",
      "Prob(Omnibus):                  0.000   Jarque-Bera (JB):              686.089\n",
      "Skew:                           1.580   Prob(JB):                    1.04e-149\n",
      "Kurtosis:                       7.617   Cond. No.                         162.\n",
      "==============================================================================\n",
      "\n",
      "Warnings:\n",
      "[1] Standard Errors assume that the covariance matrix of the errors is correctly specified.\n"
     ]
    }
   ],
   "source": [
    "# Nonwhite has highest p value and interval contains zero\n",
    "X = df.filter(['female','educ','exper','tenure','married','female & married','numdep'])\n",
    "X = sm.add_constant(X)\n",
    "new_res = sm.OLS(y,X).fit()\n",
    "print(new_res.summary())"
   ]
  },
  {
   "cell_type": "code",
   "execution_count": 11,
   "metadata": {
    "collapsed": false
   },
   "outputs": [
    {
     "name": "stdout",
     "output_type": "stream",
     "text": [
      "                            OLS Regression Results                            \n",
      "==============================================================================\n",
      "Dep. Variable:                   wage   R-squared:                       0.392\n",
      "Model:                            OLS   Adj. R-squared:                  0.385\n",
      "Method:                 Least Squares   F-statistic:                     55.84\n",
      "Date:                Wed, 06 Dec 2017   Prob (F-statistic):           3.90e-53\n",
      "Time:                        15:13:50   Log-Likelihood:                -1302.1\n",
      "No. Observations:                 526   AIC:                             2618.\n",
      "Df Residuals:                     519   BIC:                             2648.\n",
      "Df Model:                           6                                         \n",
      "Covariance Type:            nonrobust                                         \n",
      "====================================================================================\n",
      "                       coef    std err          t      P>|t|      [0.025      0.975]\n",
      "------------------------------------------------------------------------------------\n",
      "const               -2.3942      0.730     -3.279      0.001      -3.829      -0.960\n",
      "female              -0.3085      0.410     -0.752      0.452      -1.114       0.497\n",
      "educ                 0.5529      0.049     11.293      0.000       0.457       0.649\n",
      "exper                0.0190      0.012      1.607      0.109      -0.004       0.042\n",
      "tenure               0.1298      0.021      6.228      0.000       0.089       0.171\n",
      "married              1.8219      0.395      4.610      0.000       1.045       2.598\n",
      "female & married    -2.3953      0.528     -4.538      0.000      -3.432      -1.358\n",
      "==============================================================================\n",
      "Omnibus:                      184.455   Durbin-Watson:                   1.775\n",
      "Prob(Omnibus):                  0.000   Jarque-Bera (JB):              694.903\n",
      "Skew:                           1.585   Prob(JB):                    1.27e-151\n",
      "Kurtosis:                       7.654   Cond. No.                         160.\n",
      "==============================================================================\n",
      "\n",
      "Warnings:\n",
      "[1] Standard Errors assume that the covariance matrix of the errors is correctly specified.\n"
     ]
    }
   ],
   "source": [
    "# numdep has highest p value and interval contains 0\n",
    "X = df.filter(['female','educ','exper','tenure','married','female & married'])\n",
    "X = sm.add_constant(X)\n",
    "new_res = sm.OLS(y,X).fit()\n",
    "print(new_res.summary())"
   ]
  },
  {
   "cell_type": "code",
   "execution_count": 12,
   "metadata": {
    "collapsed": false
   },
   "outputs": [
    {
     "name": "stdout",
     "output_type": "stream",
     "text": [
      "                            OLS Regression Results                            \n",
      "==============================================================================\n",
      "Dep. Variable:                   wage   R-squared:                       0.392\n",
      "Model:                            OLS   Adj. R-squared:                  0.386\n",
      "Method:                 Least Squares   F-statistic:                     66.95\n",
      "Date:                Wed, 06 Dec 2017   Prob (F-statistic):           5.98e-54\n",
      "Time:                        15:14:44   Log-Likelihood:                -1302.4\n",
      "No. Observations:                 526   AIC:                             2617.\n",
      "Df Residuals:                     520   BIC:                             2642.\n",
      "Df Model:                           5                                         \n",
      "Covariance Type:            nonrobust                                         \n",
      "====================================================================================\n",
      "                       coef    std err          t      P>|t|      [0.025      0.975]\n",
      "------------------------------------------------------------------------------------\n",
      "const               -2.5838      0.685     -3.772      0.000      -3.929      -1.238\n",
      "educ                 0.5539      0.049     11.323      0.000       0.458       0.650\n",
      "exper                0.0186      0.012      1.575      0.116      -0.005       0.042\n",
      "tenure               0.1305      0.021      6.271      0.000       0.090       0.171\n",
      "married              2.0010      0.315      6.346      0.000       1.382       2.620\n",
      "female & married    -2.7011      0.337     -8.025      0.000      -3.362      -2.040\n",
      "==============================================================================\n",
      "Omnibus:                      183.421   Durbin-Watson:                   1.774\n",
      "Prob(Omnibus):                  0.000   Jarque-Bera (JB):              683.606\n",
      "Skew:                           1.579   Prob(JB):                    3.60e-149\n",
      "Kurtosis:                       7.606   Cond. No.                         135.\n",
      "==============================================================================\n",
      "\n",
      "Warnings:\n",
      "[1] Standard Errors assume that the covariance matrix of the errors is correctly specified.\n"
     ]
    }
   ],
   "source": [
    "# female has largest p value and interval contains 0\n",
    "X = df.filter(['educ','exper','tenure','married','female & married'])\n",
    "X = sm.add_constant(X)\n",
    "new_res = sm.OLS(y,X).fit()\n",
    "print(new_res.summary())"
   ]
  },
  {
   "cell_type": "code",
   "execution_count": 16,
   "metadata": {
    "collapsed": false
   },
   "outputs": [
    {
     "name": "stdout",
     "output_type": "stream",
     "text": [
      "                            OLS Regression Results                            \n",
      "==============================================================================\n",
      "Dep. Variable:                   wage   R-squared:                       0.389\n",
      "Model:                            OLS   Adj. R-squared:                  0.384\n",
      "Method:                 Least Squares   F-statistic:                     82.83\n",
      "Date:                Wed, 06 Dec 2017   Prob (F-statistic):           2.10e-54\n",
      "Time:                        15:28:02   Log-Likelihood:                -1303.6\n",
      "No. Observations:                 526   AIC:                             2617.\n",
      "Df Residuals:                     521   BIC:                             2639.\n",
      "Df Model:                           4                                         \n",
      "Covariance Type:            nonrobust                                         \n",
      "====================================================================================\n",
      "                       coef    std err          t      P>|t|      [0.025      0.975]\n",
      "------------------------------------------------------------------------------------\n",
      "const               -2.0888      0.610     -3.427      0.001      -3.286      -0.891\n",
      "educ                 0.5276      0.046     11.455      0.000       0.437       0.618\n",
      "tenure               0.1457      0.018      7.897      0.000       0.109       0.182\n",
      "married              2.1077      0.308      6.834      0.000       1.502       2.714\n",
      "female & married    -2.6693      0.336     -7.933      0.000      -3.330      -2.008\n",
      "==============================================================================\n",
      "Omnibus:                      184.341   Durbin-Watson:                   1.776\n",
      "Prob(Omnibus):                  0.000   Jarque-Bera (JB):              682.533\n",
      "Skew:                           1.591   Prob(JB):                    6.16e-149\n",
      "Kurtosis:                       7.584   Cond. No.                         68.5\n",
      "==============================================================================\n",
      "\n",
      "Warnings:\n",
      "[1] Standard Errors assume that the covariance matrix of the errors is correctly specified.\n"
     ]
    }
   ],
   "source": [
    "# exper has largest p value and interval contains 0\n",
    "X = df.filter(['educ','tenure','married','female & married'])\n",
    "X = sm.add_constant(X)\n",
    "new_res = sm.OLS(y,X).fit()\n",
    "print(new_res.summary())"
   ]
  },
  {
   "cell_type": "markdown",
   "metadata": {},
   "source": [
    "All p-values are less than $0.05$.  For a bit, it seemed that the adjusted $R^{2}$ was ever so slowly increasing, but at the end it was exactly the same as when it started.  It practically is the same throughout the process."
   ]
  },
  {
   "cell_type": "markdown",
   "metadata": {},
   "source": [
    "### 10.15"
   ]
  },
  {
   "cell_type": "code",
   "execution_count": 46,
   "metadata": {
    "collapsed": false
   },
   "outputs": [],
   "source": [
    "AICS = {}\n",
    "BICS = {}\n",
    "variables = ['female','educ','exper','tenure','married','female & married','numdep','nonwhite']\n",
    "for i in range(1,1+len(variables)) :\n",
    "    for combo in combinations(variables,i) :\n",
    "        X = df.filter(combo)\n",
    "        X = sm.add_constant(X)\n",
    "        res = sm.OLS(y,X).fit()\n",
    "        AICS[combo] = res.aic\n",
    "        BICS[combo] = res.bic"
   ]
  },
  {
   "cell_type": "code",
   "execution_count": 47,
   "metadata": {
    "collapsed": false
   },
   "outputs": [
    {
     "data": {
      "text/plain": [
       "('educ', 'exper', 'tenure', 'married', 'female & married')"
      ]
     },
     "execution_count": 47,
     "metadata": {},
     "output_type": "execute_result"
    }
   ],
   "source": [
    "min(AICS,key=AICS.get)"
   ]
  },
  {
   "cell_type": "code",
   "execution_count": 49,
   "metadata": {
    "collapsed": false
   },
   "outputs": [
    {
     "data": {
      "text/plain": [
       "('educ', 'tenure', 'married', 'female & married')"
      ]
     },
     "execution_count": 49,
     "metadata": {},
     "output_type": "execute_result"
    }
   ],
   "source": [
    "min(BICS,key=BICS.get)"
   ]
  },
  {
   "cell_type": "markdown",
   "metadata": {},
   "source": [
    "The keys that are definitely important are education, tenure, married, and female & married.  Experience comes up in the AICS but not the BICS."
   ]
  },
  {
   "cell_type": "markdown",
   "metadata": {},
   "source": [
    "### 10.16"
   ]
  },
  {
   "cell_type": "markdown",
   "metadata": {},
   "source": [
    "($\\textit{i}$) $p(D \\mid M_{0}) = \\binom{496+489}{496}\\frac{1}{2}^{496}\\frac{1}{2}^{489} = \\binom{985}{496}\\frac{1}{2^{985}} \\approx 0.02479$.  \n",
    "$p(D \\mid M_{1},\\hat{\\theta}_{MLE}) = \\binom{496+489}{496}\\frac{496}{985}^{496}\\frac{489}{985}^{489} \\approx 0.0254169$."
   ]
  },
  {
   "cell_type": "markdown",
   "metadata": {},
   "source": [
    "From these calculations, it would seem that the second model is most likely.  This ISN'T a good way to determine the model, however, because if I pick the model that always spits out whatever data I have, then that probability will be 100%, which is obviously incorrect."
   ]
  },
  {
   "cell_type": "markdown",
   "metadata": {},
   "source": [
    "($\\textit{ii}$) BCI($M_{0}$) = $ln\\left(p(D\\mid M_{0})\\right) - ln(985)(\\frac{0}{2}) \\approx -3.697214$, and BCI($M_{1}$) = $ln\\left(p(D \\mid M_{1},\\hat{\\theta}_{MLE})\\right) - ln(985)(\\frac{1}{2}) \\approx -7.11866$.  Since BCI($M_{0}$) is closer to $0$, $M_{0}$ is the preferred model."
   ]
  },
  {
   "cell_type": "markdown",
   "metadata": {},
   "source": [
    "(iii) ACI($M_{0}$) = $ln\\left(p(D\\mid M_{0})\\right) - 0 \\approx -3.697214$ and ACI($M_{1}$) = $ln\\left(p(D\\mid M_{1},\\hat{\\theta}_{MLE})\\right) - 1 \\approx -4.67234$.  Since ACI($M_{0}$) is closer to $0$, $M_{0}$ is the preferred model."
   ]
  }
 ],
 "metadata": {
  "kernelspec": {
   "display_name": "Python 3",
   "language": "python",
   "name": "python3"
  },
  "language_info": {
   "codemirror_mode": {
    "name": "ipython",
    "version": 3
   },
   "file_extension": ".py",
   "mimetype": "text/x-python",
   "name": "python",
   "nbconvert_exporter": "python",
   "pygments_lexer": "ipython3",
   "version": "3.6.0"
  }
 },
 "nbformat": 4,
 "nbformat_minor": 2
}
