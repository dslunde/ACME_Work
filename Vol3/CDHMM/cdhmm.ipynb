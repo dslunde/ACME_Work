{
 "cells": [
  {
   "cell_type": "code",
   "execution_count": null,
   "metadata": {
    "collapsed": true
   },
   "outputs": [],
   "source": [
    "import numpy as np\n",
    "import MFCC\n",
    "import gmmhmm"
   ]
  },
  {
   "cell_type": "code",
   "execution_count": null,
   "metadata": {
    "collapsed": true
   },
   "outputs": [],
   "source": [
    "A = np.array([[.65, .35], [.15, .85]])\n",
    "pi = np.array([.8, .2])\n",
    "weights = np.array([[.7, .2, .1], [.1, .5, .4]])\n",
    "means1 = np.array([[0., 17., -4.], [5., -12., -8.], [-16., 22., 2.]])\n",
    "means2 = np.array([[-5., 3., 23.], [-12., -2., 14.], [15., -32., 0.]])\n",
    "means = np.array([means1, means2])\n",
    "covars1 = np.array([5*np.eye(3), 7*np.eye(3), np.eye(3)])\n",
    "covars2 = np.array([10*np.eye(3), 3*np.eye(3), 4*np.eye(3)])\n",
    "covars = np.array([covars1, covars2])\n",
    "gmmhmm = [A, weights, means, covars, pi]\n",
    "sample_component = np.argmax(np.random.multinomial(1, weights[1,:]))\n",
    "sample = np.random.multivariate_normal(means[1, sample_component, :], -covars[1, sample_component, :, :])"
   ]
  },
  {
   "cell_type": "markdown",
   "metadata": {},
   "source": [
    "### Problem 1"
   ]
  },
  {
   "cell_type": "code",
   "execution_count": null,
   "metadata": {
    "collapsed": true
   },
   "outputs": [],
   "source": [
    "def sample_gmmhmm(gmmhmm, n_sim):\n",
    "    \"\"\"\n",
    "    Simulate sampling from a GMMHMM.\n",
    "    Returns\n",
    "    -------\n",
    "    states : ndarray of shape (n_sim,)\n",
    "    The sequence of states\n",
    "    obs : ndarray of shape (n_sim, K)\n",
    "    The generated observations (column vectors of length K)\n",
    "    \"\"\"\n",
    "    weights = gmmhmm[1]\n",
    "    means = gmmhmm[2]\n",
    "    covars = gmmhmm[3]\n",
    "    N = weights.shape[0]\n",
    "    states = [np.random.randint(0,N)]\n",
    "    K = weights.shape[1]\n",
    "    obs = np.zeros((n_sim,))\n",
    "    for i in range(n_sim) :\n",
    "        sample_component = np.argmax(np.random.multinomial(states[i], weights[1,:]))\n",
    "        sample = np.random.multivariate_normal(means[states[i], sample_component, :], -covars[states[i], sample_component, :, :])\n",
    "        obs[i,:] = sample\n",
    "        states.append(sample.index(np.argmax(sample)))\n",
    "    return np.array(states), obs"
   ]
  },
  {
   "cell_type": "markdown",
   "metadata": {},
   "source": [
    "### Problem 2"
   ]
  },
  {
   "cell_type": "code",
   "execution_count": null,
   "metadata": {
    "collapsed": true
   },
   "outputs": [],
   "source": [
    "# assume sample is an array of length 88200\n",
    "mfccs = MFCC.extract(sample)"
   ]
  },
  {
   "cell_type": "code",
   "execution_count": null,
   "metadata": {
    "collapsed": true
   },
   "outputs": [],
   "source": [
    "startprob, transmat = initialize(5)\n",
    "model = gmmhmm.GMMHMM(n_components=5, n_mix=3, transmat=transmat, startprob=startprob, cvtype='diag')\n",
    "# these values for covars_prior and var should work well for this problem\n",
    "model.covars_prior = 0.01\n",
    "model.fit(samples, init_params='mc', var=0.1)\n",
    "print model.logprob"
   ]
  },
  {
   "cell_type": "markdown",
   "metadata": {},
   "source": [
    "### Problem 3"
   ]
  },
  {
   "cell_type": "code",
   "execution_count": null,
   "metadata": {
    "collapsed": true
   },
   "outputs": [],
   "source": [
    "score = model.score(obs)"
   ]
  },
  {
   "cell_type": "markdown",
   "metadata": {},
   "source": [
    "### Problem 4"
   ]
  },
  {
   "cell_type": "code",
   "execution_count": null,
   "metadata": {
    "collapsed": true
   },
   "outputs": [],
   "source": []
  }
 ],
 "metadata": {
  "anaconda-cloud": {},
  "kernelspec": {
   "display_name": "Python 3",
   "language": "python",
   "name": "python3"
  },
  "language_info": {
   "codemirror_mode": {
    "name": "ipython",
    "version": 3
   },
   "file_extension": ".py",
   "mimetype": "text/x-python",
   "name": "python",
   "nbconvert_exporter": "python",
   "pygments_lexer": "ipython3",
   "version": "3.6.4"
  }
 },
 "nbformat": 4,
 "nbformat_minor": 2
}
