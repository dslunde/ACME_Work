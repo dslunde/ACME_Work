{
 "cells": [
  {
   "cell_type": "markdown",
   "metadata": {},
   "source": [
    "## Problems 1 and 2\n",
    "\n",
    "### Problem 1\n",
    "Write a class called Signal for storing digital audio signals. The constructor should accept a sample rate (an integer) and an array of samples (a NumPy array). Store these inputs as attributes.\n",
    "Write a method called plot() that generates the graph of the sound wave. Use the sample rate to label the x-axis in terms of seconds. See Figure 9.1 for an example.\n",
    "\n",
    "### Problem 2\n",
    "Add a method to the Signal class called export() that accepts a file name and generates a .wav file from the sample rate and the array of samples. Scale the array of samples appropriately before writing to the output file. Ensure that your scaling technique is valid for arbitrary arrays of samples. Note that some arrays will not need to be scaled."
   ]
  },
  {
   "cell_type": "code",
   "execution_count": null,
   "metadata": {
    "collapsed": true
   },
   "outputs": [],
   "source": [
    "from matplotlib import pyplot as plt\n",
    "from scipy.io import wavfile as wf\n",
    "import math\n",
    "import scipy\n",
    "import numpy as np\n",
    "%matplotlib inline\n",
    "\n",
    "class Signal(object) :\n",
    "    def __init__(self,rate,samples) :\n",
    "        \"\"\"\n",
    "        Input : rate (int) for how often we sampled\n",
    "                samples (numpy array) samples\n",
    "        \"\"\"\n",
    "        self.rate = int(rate)\n",
    "        self.samples = samples\n",
    "\n",
    "\n",
    "    def plot(self,sound_name='Your Sound') :\n",
    "        \"\"\"\n",
    "        Plots the sound wave described by the samples\n",
    "        \"\"\"\n",
    "        n = self.samples.shape[0]\n",
    "        x = np.linspace(0,float(n)/self.rate,n)\n",
    "        plt.plot(x,self.samples,'b')\n",
    "        plt.xlabel('Seconds')\n",
    "        plt.ylabel('Frequency')\n",
    "        plt.title('Sound Wave')\n",
    "        plt.show()"
   ]
  },
  {
   "cell_type": "markdown",
   "metadata": {},
   "source": [
    "## Problem 3\n",
    "The ‘A’ note occurs at a frequency of 440 Hertz. Generate the sine wave that corresponds to an ‘A’ note being played for 5 seconds.\n",
    "Once you have successfully generated the ‘A’ note, experiment with different frequencies to generate different notes."
   ]
  },
  {
   "cell_type": "code",
   "execution_count": null,
   "metadata": {
    "collapsed": true
   },
   "outputs": [],
   "source": [
    "samplerate = 44100\n",
    "frequency = 440 #A\n",
    "#frequency = 493.88 #B\n",
    "#frequency = 523.25 #C\n",
    "#frequency = 587.33 #D\n",
    "#frequency = 659.25 #E\n",
    "#frequency = 698.46 #F\n",
    "#frequency = 783.99 #G\n",
    "length = 5\n",
    "wave_function = lambda x : np.sin(2*np.pi*x*frequency)\n",
    "stepsize = 1./samplerate\n",
    "sample_points = np.arange(0,length,stepsize)\n",
    "samples = wave_function(sample_points)\n",
    "sinewave = Signal(samplerate,samples)\n",
    "sinewave.export(\"sine.wav\")"
   ]
  },
  {
   "cell_type": "markdown",
   "metadata": {},
   "source": [
    "## Problem 4\n",
    "Write a function that accepts a NumPy array and computes the discrete Fourier transform of the array using Equation 9.1. Return the array of calculated coeficients."
   ]
  },
  {
   "cell_type": "code",
   "execution_count": null,
   "metadata": {
    "collapsed": true
   },
   "outputs": [],
   "source": [
    "# Not working\n",
    "def DFT(X) :\n",
    "    shape = X.shape\n",
    "    X = X.reshape(1,-1)\n",
    "    A = list(X)\n",
    "    N = len(A)\n",
    "    dft = lambda x : sum([A[n]*math.exp((2*np.pi*A.index(x)*n/N)*1j) for n in xrange(N)])\n",
    "    c = [dft(x) for x in A]\n",
    "    return c"
   ]
  },
  {
   "cell_type": "markdown",
   "metadata": {},
   "source": [
    "## Problem 5\n",
    "Update the plot() method in the Signal class so that it gener- ates a single plot with two subplots: the original soundwave, and the mag- nitude of the coe cients of the DFT (as in Figure 9.3). Use one of SciPy’s FFT implementations to calculate the DFT."
   ]
  },
  {
   "cell_type": "code",
   "execution_count": 1,
   "metadata": {
    "collapsed": true
   },
   "outputs": [],
   "source": [
    "from matplotlib import pyplot as plt\n",
    "from scipy.io import wavfile as wf\n",
    "import math\n",
    "import scipy\n",
    "import numpy as np\n",
    "\n",
    "class Signal(object) :\n",
    "    def __init__(self,rate,samples) :\n",
    "        \"\"\"\n",
    "        Input : rate (int) for how often we sampled\n",
    "                samples (numpy array) samples\n",
    "        \"\"\"\n",
    "        self.rate = int(rate)\n",
    "        self.samples = samples\n",
    "\n",
    "\n",
    "    def plot(self,sound_name='Your Sound') :\n",
    "        \"\"\"\n",
    "        Plots the sound wave described by the samples\n",
    "        \"\"\"\n",
    "        n = self.samples.shape[0]\n",
    "        x = np.linspace(0,float(n)/self.rate,n)\n",
    "        plt.subplot(1,2,1)\n",
    "        plt.plot(x,self.samples,'b')\n",
    "        plt.xlabel('Seconds')\n",
    "        plt.ylabel('Frequency')\n",
    "        plt.title('Sound Wave')\n",
    "        \n",
    "        dft = abs(scipy.fft(self.samples))\n",
    "        x_vals = np.arange(1,len(dft)+1,1)*1.\n",
    "        x_vals /= len(self.samples)\n",
    "        x_vals *= self.rate\n",
    "\n",
    "        plt.subplot(1,2,2)\n",
    "        plt.plot(x_vals,dft,'b')\n",
    "        plt.xlabel('Hz')\n",
    "        plt.title('DFT')\n",
    "        plt.axis([0,self.rate,0,max(dft)])\n",
    "        plt.suptitle(sound_name)\n",
    "        plt.show()\n",
    "\n",
    "    def export(self,filename) :\n",
    "        b = max(self.samples)\n",
    "        a = min(self.samples)\n",
    "\n",
    "        new_samples = self.samples*32767*2/(b-a)\n",
    "        new_samples -= (b+a)/2\n",
    "        new_samples = np.int16(new_samples)\n",
    "\n",
    "        wf.write(filename,self.rate,new_samples)\n",
    "\n",
    "    def __add__(self,other) :\n",
    "        if self.rate != other.rate:\n",
    "            raise ValueError(\"Sounds incompatible.\")\n",
    "        else :\n",
    "            if self.samples.shape[0] > other.samples.shape[0] :\n",
    "                needed = self.samples.shape[0]-other.samples.shape[0]\n",
    "                zeros = np.zeros(shape=(1,needed))[0]\n",
    "                padded_other = np.hstack((other.samples,zeros))\n",
    "                new_signal = self.samples + padded_other\n",
    "            elif self.samples.shape[0] < other.samples.shape[0] :\n",
    "                needed = other.samples.shape[0]-self.samples.shape[0]\n",
    "                zeros = np.zeros(shape=(1,needed))[0]\n",
    "                padded_self = np.hstack((self.samples,zeros))\n",
    "                new_signal = padded_self + other.samples\n",
    "            else :\n",
    "                new_signal = self.samples + other.samples\n",
    "            return Signal(self.rate,new_signal)"
   ]
  },
  {
   "cell_type": "markdown",
   "metadata": {},
   "source": [
    "## Problem 6\n",
    "Create several chords and observe the plot of their DFT. There should be as many spikes as there are notes in the plot. Then create a sound that changes over time."
   ]
  },
  {
   "cell_type": "code",
   "execution_count": 2,
   "metadata": {
    "collapsed": true
   },
   "outputs": [],
   "source": [
    "\"\"\"\n",
    "Note : Problem 5 must be run before this block\n",
    "\"\"\"\n",
    "samplerate = 44100\n",
    "length = 0.5\n",
    "wave_function = lambda x,f : np.sin(2*np.pi*x*f)\n",
    "stepsize = 1./samplerate\n",
    "sample_points = np.arange(0,length,stepsize)\n",
    "notes = {'A':440,'B':493.88,'C':523.25,'D':587.33,'E':659.25,'F':698.46,\n",
    "                'G':783.99}\n",
    "waves = {}\n",
    "for a in notes.keys() :\n",
    "    waves[a] = Signal(samplerate,wave_function(sample_points,notes[a]))\n",
    "\n",
    "waves['HA'] = Signal(samplerate,wave_function(sample_points,2*notes['A']))\n",
    "waves['LG'] = Signal(samplerate,wave_function(sample_points,0.5*notes['G']))\n",
    "\n",
    "cmajor1 = waves['C'] + waves['E'] + waves['G']\n",
    "cmajor2 = waves['C'] + waves['F'] + waves['HA']\n",
    "cmajor3 = waves['B'] + waves['D'] + waves['G']\n",
    "aminor1 = waves['A'] + waves['C'] + waves['E']\n",
    "aminor2 = waves['A'] + waves['D'] + waves['F']\n",
    "aminor3 = waves['LG'] + waves['B'] + waves['E']\n",
    "\n",
    "aminor = np.hstack((waves['A'].samples,waves['B'].samples,waves['C'].samples,\n",
    "            waves['D'].samples,waves['E'].samples, waves['F'].samples,\n",
    "            waves['G'].samples,waves['HA'].samples,waves['G'].samples,\n",
    "            waves['F'].samples,waves['E'].samples,waves['D'].samples,\n",
    "            waves['C'].samples,waves['B'].samples,waves['A'].samples,\n",
    "            aminor1.samples,aminor2.samples,aminor1.samples,\n",
    "            aminor3.samples,aminor1.samples))\n",
    "\n",
    "a_minor_scale = Signal(samplerate,aminor)\n",
    "cmajor1.plot()\n",
    "cmajor2.plot()\n",
    "cmajor3.plot()\n",
    "aminor1.plot()\n",
    "aminor2.plot()\n",
    "aminor3.plot()\n",
    "a_minor_scale.plot()\n",
    "\n",
    "#For the enjoyment of listening to an A-minor scale\n",
    "a_minor_scale.export('a-minor_scale.wav')"
   ]
  },
  {
   "cell_type": "code",
   "execution_count": null,
   "metadata": {
    "collapsed": true
   },
   "outputs": [],
   "source": []
  }
 ],
 "metadata": {
  "anaconda-cloud": {},
  "kernelspec": {
   "display_name": "Python [Root]",
   "language": "python",
   "name": "Python [Root]"
  },
  "language_info": {
   "codemirror_mode": {
    "name": "ipython",
    "version": 2
   },
   "file_extension": ".py",
   "mimetype": "text/x-python",
   "name": "python",
   "nbconvert_exporter": "python",
   "pygments_lexer": "ipython2",
   "version": "2.7.12"
  }
 },
 "nbformat": 4,
 "nbformat_minor": 0
}
