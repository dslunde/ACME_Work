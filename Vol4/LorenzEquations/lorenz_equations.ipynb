{
 "cells": [
  {
   "cell_type": "code",
   "execution_count": 1,
   "metadata": {
    "collapsed": true
   },
   "outputs": [],
   "source": [
    "from matplotlib import rcParams, pyplot as plt\n",
    "from matplotlib.animation import FuncAnimation\n",
    "from mpl_toolkits.mplot3d import Axes3D\n",
    "import numpy as np\n",
    "from scipy.integrate import odeint\n",
    "from scipy import linalg as la\n",
    "from scipy.stats import linregress\n",
    "rcParams['figure.figsize'] = (16,10)\n",
    "plt.switch_backend('qt5agg')"
   ]
  },
  {
   "cell_type": "markdown",
   "metadata": {},
   "source": [
    "### Problem 1"
   ]
  },
  {
   "cell_type": "code",
   "execution_count": 2,
   "metadata": {
    "collapsed": false
   },
   "outputs": [],
   "source": [
    "sigma = 10\n",
    "rho = 28\n",
    "beta = 8./3\n",
    "\n",
    "def lorenz_ode(T, inputs) :\n",
    "    return np.array([sigma*(T[1]-T[0]) , rho*T[0]-T[1]-T[0]*T[2] , T[0]*T[1] - beta*T[2]])\n",
    "\n",
    "def solve_lorenz(init_cond, time=10) :\n",
    "    T = np.linspace(0, time, time*100)\n",
    "    return odeint(lorenz_ode,init_cond, T, atol=1e-10)\n",
    "    \n",
    "init_cond = np.array([np.random.randint(-15,15) for i in range(3)])\n",
    "sol = solve_lorenz(init_cond, 50)\n",
    "X,Y,Z = sol[:,0] , sol[:,1] , sol[:,2]\n",
    "\n",
    "fig = plt.figure()\n",
    "ax = fig.gca(projection='3d')\n",
    "ax.plot( X, Y, Z )\n",
    "ax.set_xlabel('X')\n",
    "ax.set_ylabel('Y')\n",
    "ax.set_zlabel('Z')\n",
    "ax.set_xlim3d([min(X), max(X)])\n",
    "ax.set_ylim3d([min(Y), max(Y)])\n",
    "ax.set_zlim3d([min(Z), max(Z)])\n",
    "plt.show()"
   ]
  },
  {
   "cell_type": "markdown",
   "metadata": {},
   "source": [
    "### Problem 2"
   ]
  },
  {
   "cell_type": "code",
   "execution_count": 3,
   "metadata": {
    "collapsed": false
   },
   "outputs": [],
   "source": [
    "sigma = 10\n",
    "rho = 28\n",
    "beta = 8./3\n",
    "\n",
    "def lorenz_ode(T, inputs) :\n",
    "    return np.array([sigma*(T[1]-T[0]) , rho*T[0]-T[1]-T[0]*T[2] , T[0]*T[1] - beta*T[2]])\n",
    "\n",
    "def solve_lorenz(init_cond, time=10) :\n",
    "    T = np.linspace(0, time, time*100)\n",
    "    return odeint(lorenz_ode,init_cond, T, atol=1e-10)\n",
    "\n",
    "fig = plt.figure()\n",
    "ax = fig.gca(projection='3d')\n",
    "colors = ['b','r','g']\n",
    "X_min = 100\n",
    "X_max = -100\n",
    "Y_min = 100\n",
    "Y_max = -100\n",
    "Z_min = 100\n",
    "Z_max = -100\n",
    "for n in range(3) :\n",
    "    init_cond = np.array([np.random.randint(-15,15) for i in range(3)])\n",
    "    sol = solve_lorenz(init_cond, 50)\n",
    "    X,Y,Z = sol[:,0] , sol[:,1] , sol[:,2]\n",
    "    ax.plot( X, Y, Z ,colors[n])\n",
    "    if min(X) < X_min :\n",
    "        X_min = min(X)\n",
    "    if max(X) > X_max :\n",
    "        X_max = max(X)\n",
    "    if min(Y) < Y_min :\n",
    "        Y_min = min(Y)\n",
    "    if max(Y) > Y_max :\n",
    "        Y_max = max(Y)\n",
    "    if min(Z) < Z_min :\n",
    "        Z_min = min(Z)\n",
    "    if max(Z) > Z_max :\n",
    "        Z_max = max(Z)\n",
    "    \n",
    "ax.set_xlabel('X')\n",
    "ax.set_ylabel('Y')\n",
    "ax.set_zlabel('Z')\n",
    "ax.set_xlim3d([X_min, X_max])\n",
    "ax.set_ylim3d([Y_min, Y_max])\n",
    "ax.set_zlim3d([Z_min, Z_max])\n",
    "plt.show()"
   ]
  },
  {
   "cell_type": "markdown",
   "metadata": {},
   "source": [
    "### Problem 3"
   ]
  },
  {
   "cell_type": "code",
   "execution_count": 4,
   "metadata": {
    "collapsed": false
   },
   "outputs": [],
   "source": [
    "sigma = 10\n",
    "rho = 28\n",
    "beta = 8./3\n",
    "t = 50\n",
    "\n",
    "def lorenz_ode(T, inputs) :\n",
    "    return np.array([sigma*(T[1]-T[0]) , rho*T[0]-T[1]-T[0]*T[2] , T[0]*T[1] - beta*T[2]])\n",
    "\n",
    "def solve_lorenz(init_cond, time=10) :\n",
    "    T = np.linspace(0, time, time*100)\n",
    "    return odeint(lorenz_ode,init_cond, T, atol=1e-10)\n",
    "    \n",
    "init_cond1 = np.array([np.random.randint(-15,15) for i in range(3)])\n",
    "init_cond2 = init_cond1+np.random.randn(3)*(1E-10)\n",
    "sol1 = solve_lorenz(init_cond1, t)\n",
    "sol2 = solve_lorenz(init_cond2, t)\n",
    "X1,Y1,Z1 = sol1[:,0] , sol1[:,1] , sol1[:,2]\n",
    "X2,Y2,Z2 = sol2[:,0] , sol2[:,1] , sol2[:,2]\n",
    "\n",
    "fig = plt.figure()\n",
    "ax = fig.gca(projection='3d')\n",
    "ax.plot( X1, Y1, Z1 , 'b')\n",
    "ax.plot( X2, Y2, Z2 , 'r')\n",
    "ax.set_xlabel('X')\n",
    "ax.set_ylabel('Y')\n",
    "ax.set_zlabel('Z')\n",
    "ax.set_xlim3d([min(min(X1),min(X2)), max(max(X1),max(X2))])\n",
    "ax.set_ylim3d([min(min(Y1),min(Y2)), max(max(Y1),max(Y2))])\n",
    "ax.set_zlim3d([min(min(Z1),min(Z2)), max(max(Z1),max(Z2))])\n",
    "plt.show()"
   ]
  },
  {
   "cell_type": "markdown",
   "metadata": {},
   "source": [
    "### Problem 4"
   ]
  },
  {
   "cell_type": "code",
   "execution_count": 5,
   "metadata": {
    "collapsed": false
   },
   "outputs": [],
   "source": [
    "sigma = 10\n",
    "rho = 28\n",
    "beta = 8./3\n",
    "t = 50\n",
    "\n",
    "def lorenz_ode(T, inputs) :\n",
    "    return np.array([sigma*(T[1]-T[0]) , rho*T[0]-T[1]-T[0]*T[2] , T[0]*T[1] - beta*T[2]])\n",
    "\n",
    "def solve_lorenz(init_cond, time=10) :\n",
    "    T = np.linspace(0, time, time*100)\n",
    "    return odeint(lorenz_ode,init_cond, T, atol=1e-10)\n",
    "    \n",
    "init_cond1 = np.array([np.random.randint(-15,15) for i in range(3)])\n",
    "init_cond2 = init_cond1+np.random.randn(3)*(1E-10)\n",
    "sol1 = solve_lorenz(init_cond1, t)\n",
    "sol2 = solve_lorenz(init_cond2, t)\n",
    "X1,Y1,Z1 = sol1[:,0] , sol1[:,1] , sol1[:,2]\n",
    "X2,Y2,Z2 = sol2[:,0] , sol2[:,1] , sol2[:,2]\n",
    "\n",
    "fig = plt.figure()\n",
    "ax = fig.gca(projection='3d')\n",
    "first, = plt.plot( [], [] )\n",
    "second, = plt.plot( [], [] )\n",
    "ax.set_xlabel('X')\n",
    "ax.set_ylabel('Y')\n",
    "ax.set_zlabel('Z')\n",
    "ax.set_xlim3d([min(min(X1),min(X2)), max(max(X1),max(X2))])\n",
    "ax.set_ylim3d([min(min(Y1),min(Y2)), max(max(Y1),max(Y2))])\n",
    "ax.set_zlim3d([min(min(Z1),min(Z2)), max(max(Z1),max(Z2))])\n",
    "\n",
    "def update(index) :\n",
    "    first.set_data(X1[:index],Y1[:index])\n",
    "    first.set_3d_properties(Z1[:index])\n",
    "    second.set_data(X2[:index],Y2[:index])\n",
    "    second.set_3d_properties(Z2[:index])\n",
    "\n",
    "a = FuncAnimation(fig, update, frames=len(X1), interval=1)\n",
    "    \n",
    "plt.show()"
   ]
  },
  {
   "cell_type": "markdown",
   "metadata": {},
   "source": [
    "### Problem 5"
   ]
  },
  {
   "cell_type": "code",
   "execution_count": 19,
   "metadata": {
    "collapsed": false
   },
   "outputs": [],
   "source": [
    "sigma = 10\n",
    "rho = 28\n",
    "beta = 8./3\n",
    "t = 50\n",
    "\n",
    "def lorenz_ode(T, inputs) :\n",
    "    return np.array([sigma*(T[1]-T[0]) , rho*T[0]-T[1]-T[0]*T[2] , T[0]*T[1] - beta*T[2]])\n",
    "\n",
    "def solve_lorenz1(init_cond, time=10) :\n",
    "    T = np.linspace(0, time, time*100)\n",
    "    return odeint(lorenz_ode,init_cond, T, atol=1e-14,rtol=1e-12)\n",
    "\n",
    "def solve_lorenz2(init_cond, time=10) :\n",
    "    T = np.linspace(0, time, time*100)\n",
    "    return odeint(lorenz_ode,init_cond, T, atol=1e-15,rtol=1e-13)\n",
    "    \n",
    "init_cond = np.array([np.random.randint(-15,15) for i in range(3)])\n",
    "sol1 = solve_lorenz1(init_cond, t)\n",
    "sol2 = solve_lorenz2(init_cond, t)\n",
    "X1,Y1,Z1 = sol1[:,0] , sol1[:,1] , sol1[:,2]\n",
    "X2,Y2,Z2 = sol2[:,0] , sol2[:,1] , sol2[:,2]\n",
    "\n",
    "fig = plt.figure()\n",
    "ax = fig.gca(projection='3d')\n",
    "first, = plt.plot( [], [], [] )\n",
    "second, = plt.plot( [], [], [] )\n",
    "ax.set_xlabel('X')\n",
    "ax.set_ylabel('Y')\n",
    "ax.set_zlabel('Z')\n",
    "ax.set_xlim3d([min(min(X1),min(X2)), max(max(X1),max(X2))])\n",
    "ax.set_ylim3d([min(min(Y1),min(Y2)), max(max(Y1),max(Y2))])\n",
    "ax.set_zlim3d([min(min(Z1),min(Z2)), max(max(Z1),max(Z2))])\n",
    "\n",
    "def update(index) :\n",
    "    first.set_data(X1[:index],Y1[:index])\n",
    "    first.set_3d_properties(Z1[:index])\n",
    "    second.set_data(X2[:index],Y2[:index])\n",
    "    second.set_3d_properties(Z2[:index])\n",
    "\n",
    "a = FuncAnimation(fig, update, frames=len(X1), interval=10)\n",
    "    \n",
    "plt.show()"
   ]
  },
  {
   "cell_type": "markdown",
   "metadata": {},
   "source": [
    "### Problem 6"
   ]
  },
  {
   "cell_type": "code",
   "execution_count": 29,
   "metadata": {
    "collapsed": false
   },
   "outputs": [],
   "source": [
    "sigma = 10\n",
    "rho = 28\n",
    "beta = 8./3\n",
    "t = 10\n",
    "T = np.linspace(0, t, t*100)\n",
    "\n",
    "def lorenz_ode(T, inputs) :\n",
    "    return np.array([sigma*(T[1]-T[0]) , rho*T[0]-T[1]-T[0]*T[2] , T[0]*T[1] - beta*T[2]])\n",
    "\n",
    "def solve_lorenz(init_cond, time=10) :\n",
    "    T = np.linspace(0, time, time*100)\n",
    "    return odeint(lorenz_ode,init_cond, T, atol=1e-10)\n",
    "    \n",
    "init_cond = np.array([np.random.randint(-15,15) for i in range(3)])\n",
    "sol = solve_lorenz(init_cond, t)\n",
    "init_cond1 = sol[-1,:]\n",
    "init_cond2 = init_cond1+np.random.randn(3)*(1e-10)\n",
    "sol1 = solve_lorenz(init_cond1, t)\n",
    "sol2 = solve_lorenz(init_cond2, t)\n",
    "Y = la.norm(sol1-sol2,axis=1)\n",
    "log_Y = [np.log(Y[i]) for i in range(len(Y))]\n",
    "stuff = linregress(T,log_Y)\n",
    "m,b = stuff[0],stuff[1]\n",
    "line = [np.exp(m*T[i]+b) for i in range(len(T))]\n",
    "plt.semilogy(T,Y)\n",
    "plt.semilogy(T,line)\n",
    "plt.xlabel('Time')\n",
    "plt.ylabel('Separation')\n",
    "plt.title('lambda={}'.format(m))\n",
    "plt.show()"
   ]
  },
  {
   "cell_type": "code",
   "execution_count": null,
   "metadata": {
    "collapsed": true
   },
   "outputs": [],
   "source": []
  }
 ],
 "metadata": {
  "kernelspec": {
   "display_name": "Python 3",
   "language": "python",
   "name": "python3"
  },
  "language_info": {
   "codemirror_mode": {
    "name": "ipython",
    "version": 3
   },
   "file_extension": ".py",
   "mimetype": "text/x-python",
   "name": "python",
   "nbconvert_exporter": "python",
   "pygments_lexer": "ipython3",
   "version": "3.6.0"
  }
 },
 "nbformat": 4,
 "nbformat_minor": 2
}
