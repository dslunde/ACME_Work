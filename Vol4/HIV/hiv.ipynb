{
 "cells": [
  {
   "cell_type": "code",
   "execution_count": 1,
   "metadata": {
    "collapsed": true
   },
   "outputs": [],
   "source": [
    "import numpy as np\n",
    "from matplotlib import pyplot as plt"
   ]
  },
  {
   "cell_type": "markdown",
   "metadata": {},
   "source": [
    "### Problem 1"
   ]
  },
  {
   "cell_type": "code",
   "execution_count": 6,
   "metadata": {
    "collapsed": true
   },
   "outputs": [],
   "source": [
    "#Code from RK4 Lab with minor edits\n",
    "def initialize_all(y0, t0, t, n):\n",
    "    \"\"\" An initialization routine for the different ODE solving\n",
    "    methods in the lab. This initializes Y, T, and h. \"\"\"\n",
    "    if isinstance(y0, np.ndarray):\n",
    "        Y = np.empty((n, y0.size)).squeeze()\n",
    "    else:\n",
    "        Y = np.empty(n)\n",
    "    Y[0] = y0\n",
    "    T = np.linspace(t0, t, n)\n",
    "    h = float(t - t0) / (n - 1)\n",
    "    return Y, T, h\n",
    "\n",
    "def RK4(f, y0, t0, t, n):\n",
    "    \"\"\" Use the RK4 method to compute an approximate solution\n",
    "    to the ODE y' = f(t, y) at n equispaced parameter values from t0 to t\n",
    "    with initial conditions y(t0) = y0.\n",
    "    y0 is assumed to be either a constant or a one-dimensional numpy array.\n",
    "    t and t0 are assumed to be constants.\n",
    "    f is assumed to accept three arguments.\n",
    "    The first is a constant giving the value of t.\n",
    "    The second is a one-dimensional numpy array of the same size as y.\n",
    "    The third is an index to the other arrays.\n",
    "    This function returns an array Y of shape (n,) if\n",
    "    y is a constant or an array of size 1.\n",
    "    It returns an array of shape (n, y.size) otherwise.\n",
    "    In either case, Y[i] is the approximate value of y at\n",
    "    the i'th value of np.linspace(t0, t, n).\n",
    "    \"\"\"\n",
    "    Y,T,h = initialize_all(y0,t0,t,n)\n",
    "    for i in range(n-1):\n",
    "        K1 = f(T[i],Y[i],i)\n",
    "        K2 = f(T[i]+h/2.,Y[i]+h/2.*K1,i)\n",
    "        K3 = f(T[i]+h/2.,Y[i]+h/2.*K2,i)\n",
    "        K4 = f(T[i+1],Y[i]+h*K3,i)\n",
    "        Y[i+1] = Y[i] + h/6.*(K1+2*K2 +2*K3+K4)\n",
    "    return Y"
   ]
  },
  {
   "cell_type": "code",
   "execution_count": 7,
   "metadata": {
    "collapsed": true
   },
   "outputs": [],
   "source": [
    "a_1, a_2 = 0, 0\n",
    "b_1, b_2 = 0.02, 0.9\n",
    "s_1, s_2 = 2., 1.5\n",
    "mu = 0.002\n",
    "k = 0.000025\n",
    "g = 30.\n",
    "c = 0.007\n",
    "B_1, B_2 = 14, 1\n",
    "A_1, A_2 = 250000, 75\n",
    "T0, V0 = 400, 3\n",
    "t_f = 50\n",
    "n = 1000\n",
    "\n",
    "# initialize global variables, state, costate, and u.\n",
    "state = np.zeros((n,2))\n",
    "state0 = np.array([T0, V0])\n",
    "costate = np.zeros((n,2))\n",
    "costate0 = np.zeros(2)\n",
    "u=np.zeros((n,2))\n",
    "u[:,0] += .02\n",
    "u[:,1] += .9\n",
    "# define state equations\n",
    "def state_equations(t,y,i):\n",
    "    '''\n",
    "    Parameters\n",
    "    ---------------\n",
    "    t : float\n",
    "        the time\n",
    "    y : ndarray (2,)\n",
    "        the T cell concentration and the Virus concentration at time t\n",
    "    i : int\n",
    "        index for the global variable u.\n",
    "    Returns\n",
    "    --------------\n",
    "    y_dot : ndarray (2,)\n",
    "    the derivative of the T cell concentration and the virus concentration at time t\n",
    "    '''\n",
    "    T_dot = s_1 - s_2*y[1]/(B_1+y[1]) - mu*y[0] - k*y[0]*y[1] + u[i,0]*y[0]\n",
    "    V_dot = g*y[1]/(B_2+y[1])*(1-u[i,1]) - c*y[0]*y[1]\n",
    "    return np.array([T_dot,V_dot])"
   ]
  },
  {
   "cell_type": "markdown",
   "metadata": {},
   "source": [
    "### Problem 2"
   ]
  },
  {
   "cell_type": "code",
   "execution_count": 21,
   "metadata": {
    "collapsed": true
   },
   "outputs": [],
   "source": [
    "def lambda_hat(t,y,i):\n",
    "    '''\n",
    "    Parameters\n",
    "    ---------------\n",
    "    t : float\n",
    "        the time\n",
    "    y : ndarray (2,)\n",
    "        the lambda_hat values at time t\n",
    "    i : int\n",
    "        index for global variables, u and state.\n",
    "    Returns\n",
    "    --------------\n",
    "    y_dot : ndarray (2,)\n",
    "        the derivative of the lambda_hats at time t.\n",
    "    '''\n",
    "    T,V = state[n-1-i,0],state[n-1-i,1]\n",
    "    lmb1,lmb2 = y[0],y[1]\n",
    "    lmb1_dot = lmb1*(-mu-k*V+u[n-1-i,0]) - c*lmb2*V - 1\n",
    "    lmb2_dot = -lmb1*(s_2*B_1/(B_1+V)**2 + k*T) + lmb2*(g*B_2*(1-u[n-1-i,1])/(B_2+V)**2 - c*T)\n",
    "    return np.array([lmb1_dot,lmb2_dot])"
   ]
  },
  {
   "cell_type": "markdown",
   "metadata": {},
   "source": [
    "### Problem 3"
   ]
  },
  {
   "cell_type": "code",
   "execution_count": 24,
   "metadata": {
    "collapsed": false,
    "scrolled": false
   },
   "outputs": [],
   "source": [
    "epsilon = 0.001\n",
    "test = epsilon + 1\n",
    "count = 0\n",
    "while(test > epsilon):\n",
    "    oldu = u.copy();\n",
    "    #solve the state equations with forward iteration\n",
    "    #state = RK4(...)\n",
    "    state = RK4(state_equations,state0,0,t_f,n)\n",
    "    #solve the costate equations with backwards iteration\n",
    "    #costate = RK4(...)[::-1]\n",
    "    costate = RK4(lambda_hat,costate0,0,t_f,n)[::-1]\n",
    "    #solve for u1 and u2\n",
    "    u1 = np.zeros((n,))\n",
    "    u2 = np.zeros((n,))\n",
    "    for i in range(n) :\n",
    "        u1[i] = min(max(a_1,-1/(2*A_1)*costate[i,0]*state[i,0]),b_1)\n",
    "        u2[i] = min(max(a_2,costate[i,1]/(2*A_2)*g*state[i,1]/(B_2+state[i,1])),b_2)\n",
    "    #update control\n",
    "    u[:,0] = 0.5*(u1 + oldu[:,0])\n",
    "    u[:,1] = 0.5*(u2 + oldu[:,1])\n",
    "    #test for convergence\n",
    "    test = abs(oldu - u).sum()\n",
    "    count += 1"
   ]
  },
  {
   "cell_type": "code",
   "execution_count": 28,
   "metadata": {
    "collapsed": false
   },
   "outputs": [
    {
     "data": {
      "image/png": "[encoded data removed]",
      "text/plain": [
       "<matplotlib.figure.Figure at 0x11a99c828>"
      ]
     },
     "metadata": {},
     "output_type": "display_data"
    },
    {
     "data": {
      "image/png": "[encoded data removed]",
      "text/plain": [
       "<matplotlib.figure.Figure at 0x11af30390>"
      ]
     },
     "metadata": {},
     "output_type": "display_data"
    }
   ],
   "source": [
    "days = np.linspace(0,t_f,n)\n",
    "plt.subplot(121)\n",
    "plt.plot(days,state[:,0])\n",
    "plt.ylabel('T')\n",
    "plt.axis([0,50,400,1100])\n",
    "plt.subplot(122)\n",
    "plt.plot(days,state[:,1])\n",
    "plt.ylabel('V')\n",
    "plt.axis([0,50,0,6])\n",
    "plt.show()\n",
    "plt.subplot(121)\n",
    "plt.plot(days,u[:,0])\n",
    "plt.ylabel('u1')\n",
    "plt.xlabel('Days')\n",
    "plt.axis([0,50,0,0.025])\n",
    "plt.subplot(122)\n",
    "plt.plot(days,u[:,1])\n",
    "plt.ylabel('u2')\n",
    "plt.xlabel('Days')\n",
    "plt.axis([0,50,0,1])\n",
    "plt.show()"
   ]
  },
  {
   "cell_type": "code",
   "execution_count": null,
   "metadata": {
    "collapsed": true
   },
   "outputs": [],
   "source": []
  }
 ],
 "metadata": {
  "kernelspec": {
   "display_name": "Python 3",
   "language": "python",
   "name": "python3"
  },
  "language_info": {
   "codemirror_mode": {
    "name": "ipython",
    "version": 3
   },
   "file_extension": ".py",
   "mimetype": "text/x-python",
   "name": "python",
   "nbconvert_exporter": "python",
   "pygments_lexer": "ipython3",
   "version": "3.6.4"
  }
 },
 "nbformat": 4,
 "nbformat_minor": 2
}
