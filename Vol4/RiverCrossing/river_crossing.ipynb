{
 "cells": [
  {
   "cell_type": "code",
   "execution_count": 2,
   "metadata": {
    "collapsed": true
   },
   "outputs": [],
   "source": [
    "import numpy as np\n",
    "from math import sqrt\n",
    "from scipy.interpolate import barycentric_interpolate as bint\n",
    "from scipy.optimize import root\n",
    "from matplotlib import pyplot as plt"
   ]
  },
  {
   "cell_type": "markdown",
   "metadata": {},
   "source": [
    "### Problem 1"
   ]
  },
  {
   "cell_type": "code",
   "execution_count": 3,
   "metadata": {
    "collapsed": false
   },
   "outputs": [],
   "source": [
    "c = lambda x : -7/10*(x**2-1)\n",
    "alpha = lambda x : 1/(1-c(x)**2)**(.5)\n",
    "def L(x,y,y_prime) :\n",
    "    return alpha(x)*(1+(alpha(x)*y_prime(x))**2)**(.5) - alpha(x)**2*c(x)*y_prime(x)\n",
    "\n",
    "def T(y) :\n",
    "    x = np.linspace(-1,1,1000)\n",
    "    h = x[1]-x[0]\n",
    "    y_prime = lambda x : (y(x+h)-y(x-h))/(2*h)\n",
    "    mid_sum = sum([L(x[i],y,y_prime) for i in range(1,len(x)-1)])\n",
    "    mid_sum += L(x[0],y,y_prime) + L(x[-1],y,y_prime)\n",
    "    return h*mid_sum"
   ]
  },
  {
   "cell_type": "markdown",
   "metadata": {},
   "source": [
    "### Problem 2"
   ]
  },
  {
   "cell_type": "code",
   "execution_count": 4,
   "metadata": {
    "collapsed": false
   },
   "outputs": [
    {
     "name": "stdout",
     "output_type": "stream",
     "text": [
      "Upper bound : 3.882474942504681\n"
     ]
    }
   ],
   "source": [
    "y = lambda x : 5/2*(x+1)\n",
    "y_prime = lambda x : 5/2*np.ones_like(x)\n",
    "print('Upper bound : {}'.format(T(y)))"
   ]
  },
  {
   "cell_type": "markdown",
   "metadata": {},
   "source": [
    "Lower bound is 2 because $\\int_{-1}^{1} \\sec\\left(\\theta(x)\\right) \\,\\mathrm{d}x \\geq \\int_{-1}^{1} \\,\\mathrm{d}x = 2$."
   ]
  },
  {
   "cell_type": "markdown",
   "metadata": {},
   "source": [
    "### Problem 3"
   ]
  },
  {
   "cell_type": "code",
   "execution_count": 10,
   "metadata": {
    "collapsed": false
   },
   "outputs": [
    {
     "data": {
      "image/png": "[encoded data removed]",
      "text/plain": [
       "<matplotlib.figure.Figure at 0x181c2ef198>"
      ]
     },
     "metadata": {},
     "output_type": "display_data"
    }
   ],
   "source": [
    "def cheb(N):\n",
    "    x =  np.cos((np.pi/N)*np.linspace(0,N,N+1))\n",
    "    x.shape = (N+1,1)\n",
    "    lin = np.linspace(0,N,N+1)\n",
    "    lin.shape = (N+1,1)\n",
    "    c = np.ones((N+1,1))\n",
    "    c[0], c[-1] = 2., 2.\n",
    "    c = c*(-1.)**lin\n",
    "    X = x*np.ones(N+1) # broadcast along 2nd dimension (columns)\n",
    "    dX = X - X.T\n",
    "    D = (c*(1./c).T)/(dX + np.eye(N+1))\n",
    "    D  = D - np.diag(np.sum(D.T,axis=0))\n",
    "    x.shape = (N+1,)\n",
    "    # Here we return the differentiation matrix and the Chebyshev points,\n",
    "    # numbered from x_0 = 1 to x_N = -1\n",
    "    return D, x\n",
    "\n",
    "N = 30\n",
    "D, x = cheb(N)\n",
    "\n",
    "def F(U) :\n",
    "    l = alpha(x)**3*np.dot(D,U)/(1+alpha(x)**2*np.dot(D,U)**2)**(.5)-alpha(x)**2*c(x)\n",
    "    out = np.dot(D,l)  #Set up the equation you want the root of.\n",
    "    #Make sure to set the boundaries correctly\n",
    "    out[0] = U[0] - 5\n",
    "    out[-1] = U[-1] - 0\n",
    "    return out  #Newtons Method will update U until the output is all 0's.\n",
    "\n",
    "guess = y(x)   #Make your guess, same size as the cheb(N) output\n",
    "solution = root(F, guess).x\n",
    "x_even = np.linspace(-1,1,100)\n",
    "sol = bint(x,solution,x_even)\n",
    "plt.plot(x_even,sol)\n",
    "plt.plot(-1*np.ones_like(solution),solution,'-k')\n",
    "plt.plot(np.ones_like(solution),solution,'-k')\n",
    "plt.title('Optimal boat path')\n",
    "plt.show()"
   ]
  },
  {
   "cell_type": "markdown",
   "metadata": {
    "collapsed": true
   },
   "source": [
    "### Problem 4"
   ]
  },
  {
   "cell_type": "code",
   "execution_count": 13,
   "metadata": {
    "collapsed": false
   },
   "outputs": [
    {
     "data": {
      "image/png": "[encoded data removed]",
      "text/plain": [
       "<matplotlib.figure.Figure at 0x181c209710>"
      ]
     },
     "metadata": {},
     "output_type": "display_data"
    }
   ],
   "source": [
    "N = 30\n",
    "D, x = cheb(N)\n",
    "D_approx = np.dot(D,solution)\n",
    "\n",
    "def F(U) :\n",
    "    out = D_approx - (np.sin(U) + c(x))/np.cos(U)\n",
    "    return out  #Newtons Method will update U until the output is all 0's.\n",
    "\n",
    "guess = np.ones_like(x)   #Make your guess, same size as the cheb(N) output\n",
    "solution = root(F, guess).x\n",
    "x_even = np.linspace(-1,1,100)\n",
    "sol = bint(x,solution,x_even)\n",
    "plt.plot(x_even,sol)\n",
    "plt.title('Optimal boat angle')\n",
    "plt.show()"
   ]
  },
  {
   "cell_type": "code",
   "execution_count": null,
   "metadata": {
    "collapsed": true
   },
   "outputs": [],
   "source": []
  }
 ],
 "metadata": {
  "kernelspec": {
   "display_name": "Python 3",
   "language": "python",
   "name": "python3"
  },
  "language_info": {
   "codemirror_mode": {
    "name": "ipython",
    "version": 3
   },
   "file_extension": ".py",
   "mimetype": "text/x-python",
   "name": "python",
   "nbconvert_exporter": "python",
   "pygments_lexer": "ipython3",
   "version": "3.6.4"
  }
 },
 "nbformat": 4,
 "nbformat_minor": 2
}
