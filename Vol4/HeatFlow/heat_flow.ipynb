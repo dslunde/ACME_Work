{
 "cells": [
  {
   "cell_type": "code",
   "execution_count": 6,
   "metadata": {
    "collapsed": true
   },
   "outputs": [],
   "source": [
    "import numpy as np\n",
    "from matplotlib import rcParams, animation, pyplot as plt\n",
    "from scipy import linalg as la\n",
    "#%matplotlib inline\n",
    "plt.switch_backend('qt5agg')"
   ]
  },
  {
   "cell_type": "code",
   "execution_count": 2,
   "metadata": {
    "collapsed": true
   },
   "outputs": [],
   "source": [
    "def array_max(x,y) :\n",
    "    if len(x) != len(y) :\n",
    "        raise ValueError(\"Arrays must be of same length.\")\n",
    "    z = np.zeros_like(x)\n",
    "    for i in range(len(x)) :\n",
    "        z[i] = max(x[i],y[i])\n",
    "    return z\n",
    "\n",
    "def update(U,lmbda) :\n",
    "    V = np.zeros_like(U)\n",
    "    V[1:-1] = lmbda*U[:-2] + (1-2*lmbda)*U[1:-1] + lmbda*U[2:]\n",
    "    return V"
   ]
  },
  {
   "cell_type": "markdown",
   "metadata": {},
   "source": [
    "### Problem 1"
   ]
  },
  {
   "cell_type": "code",
   "execution_count": 3,
   "metadata": {
    "collapsed": false
   },
   "outputs": [
    {
     "data": {
      "image/png": "[encoded data removed]",
      "text/plain": [
       "<matplotlib.figure.Figure at 0x10b885518>"
      ]
     },
     "metadata": {},
     "output_type": "display_data"
    }
   ],
   "source": [
    "x_min = 0\n",
    "x_max = 1\n",
    "x_inter = 6\n",
    "t_min = 0\n",
    "t_max = 0.4\n",
    "t_inter = 10\n",
    "\n",
    "X = np.linspace(x_min,x_max,x_inter+1)\n",
    "T = np.linspace(t_min,t_max,t_inter+1)\n",
    "\n",
    "nu = 0.05\n",
    "h = X[1]-X[0]\n",
    "k = T[1]-T[0]\n",
    "lmbda = nu*k/h**2\n",
    "\n",
    "#rngs_1 = np.arange(x_inter)\n",
    "#rngs_2 = np.arange(1,x_inter+1)\n",
    "#rngs_diag = (1-2*lmbda)*np.ones_like(rngs_1)\n",
    "    \n",
    "u_xmin = lambda t : 0\n",
    "u_xmax = lambda t : 0\n",
    "u_tmin = lambda x : 2*array_max(.2*np.ones_like(x)-np.abs(x-.5),np.zeros_like(x))\n",
    "U = np.zeros((x_inter+1,t_inter+1))\n",
    "U_init = u_tmin(X)\n",
    "U[:,0] = U_init\n",
    "for i in range(1,t_inter+1) :\n",
    "    U[:,i] = update(U[:,i-1],lmbda)\n",
    "plt.plot(X,U[:,0],label='t=0')\n",
    "plt.plot(X,U[:,4],label='t=0.4')\n",
    "plt.legend(loc=0)\n",
    "#plt.title(\"t=0\")\n",
    "plt.show()"
   ]
  },
  {
   "cell_type": "markdown",
   "metadata": {
    "collapsed": true
   },
   "source": [
    "### Problem 2"
   ]
  },
  {
   "cell_type": "code",
   "execution_count": 3,
   "metadata": {
    "collapsed": false
   },
   "outputs": [],
   "source": [
    "x_min = -12\n",
    "x_max = 12\n",
    "x_inter = 140\n",
    "t_min = 0\n",
    "t_max = 1\n",
    "t_inter = 70\n",
    "\n",
    "X = np.linspace(x_min,x_max,x_inter+1)\n",
    "T = np.linspace(t_min,t_max,t_inter+1)\n",
    "\n",
    "nu = 1\n",
    "h = X[1]-X[0]\n",
    "k = T[1]-T[0]\n",
    "lmbda = nu*k/h**2\n",
    "\n",
    "#rngs_1 = np.arange(x_inter)\n",
    "#rngs_2 = np.arange(1,x_inter+1)\n",
    "#rngs_diag = (1-2*lmbda)*np.ones_like(rngs_1)\n",
    "    \n",
    "u_xmin = lambda t : 0\n",
    "u_xmax = lambda t : 0\n",
    "u_tmin = lambda x : array_max(1-x**2,np.zeros_like(x))\n",
    "U = np.zeros((x_inter+1,t_inter+1))\n",
    "U_init = u_tmin(X)\n",
    "U[:,0] = U_init\n",
    "for i in range(1,t_inter+1) :\n",
    "    U[:,i] = update(U[:,i-1],lmbda)"
   ]
  },
  {
   "cell_type": "code",
   "execution_count": 4,
   "metadata": {
    "collapsed": false
   },
   "outputs": [],
   "source": [
    "def U_animation(X,U) :\n",
    "    f = plt.figure()\n",
    "    plt.axes(xlim=(np.min(X),np.max(X)),ylim=(np.min(U),np.max(U)))\n",
    "    line, = plt.plot([], [])\n",
    "    \n",
    "    def animate(i) :\n",
    "        line.set_data(X, U[:,i])\n",
    "        return line,\n",
    "    \n",
    "    a = animation.FuncAnimation(f, animate, frames=(t_inter+1), interval=20)\n",
    "    \n",
    "    plt.show()\n",
    "\n",
    "U_animation(X,U)"
   ]
  },
  {
   "cell_type": "markdown",
   "metadata": {},
   "source": [
    "With only 66 t intervals :"
   ]
  },
  {
   "cell_type": "code",
   "execution_count": 5,
   "metadata": {
    "collapsed": true
   },
   "outputs": [],
   "source": [
    "x_min = -12\n",
    "x_max = 12\n",
    "x_inter = 140\n",
    "t_min = 0\n",
    "t_max = 1\n",
    "t_inter = 66\n",
    "\n",
    "X = np.linspace(x_min,x_max,x_inter+1)\n",
    "T = np.linspace(t_min,t_max,t_inter+1)\n",
    "\n",
    "nu = 1\n",
    "h = X[1]-X[0]\n",
    "k = T[1]-T[0]\n",
    "lmbda = nu*k/h**2\n",
    "\n",
    "#rngs_1 = np.arange(x_inter)\n",
    "#rngs_2 = np.arange(1,x_inter+1)\n",
    "#rngs_diag = (1-2*lmbda)*np.ones_like(rngs_1)\n",
    "    \n",
    "u_xmin = lambda t : 0\n",
    "u_xmax = lambda t : 0\n",
    "u_tmin = lambda x : array_max(1-x**2,np.zeros_like(x))\n",
    "U = np.zeros((x_inter+1,t_inter+1))\n",
    "U_init = u_tmin(X)\n",
    "U[:,0] = U_init\n",
    "for i in range(1,t_inter+1) :\n",
    "    U[:,i] = update(U[:,i-1],lmbda)\n",
    "U_animation(X,U)"
   ]
  },
  {
   "cell_type": "markdown",
   "metadata": {},
   "source": [
    "### Problem 3"
   ]
  },
  {
   "cell_type": "code",
   "execution_count": 25,
   "metadata": {
    "collapsed": false
   },
   "outputs": [],
   "source": [
    "def Crank_Nick_update(U,lmbda) :\n",
    "    V = np.zeros_like(U)\n",
    "    V[1:-1] = (2*lmbda*U[:-2] + (1-3*lmbda**2)*U[1:-1] + 2*lmbda*U[2:])/(1+4*lmbda+lmbda**2)\n",
    "    return V\n",
    "\n",
    "US = {}\n",
    "HS = []\n",
    "NS = [20,40,80,160,320,640]\n",
    "for inters in NS :\n",
    "    x_min = -12\n",
    "    x_max = 12\n",
    "    x_inter = inters\n",
    "    t_min = 0\n",
    "    t_max = 1\n",
    "    t_inter = inters\n",
    "\n",
    "    X = np.linspace(x_min,x_max,x_inter+1)\n",
    "    T = np.linspace(t_min,t_max,t_inter+1)\n",
    "\n",
    "    nu = 1\n",
    "    h = X[1]-X[0]\n",
    "    if inters != 640 :\n",
    "        HS.append(h)\n",
    "    k = T[1]-T[0]\n",
    "    lmbda = nu*k/(2*h**2)\n",
    "\n",
    "    #rngs_1 = np.arange(x_inter)\n",
    "    #rngs_2 = np.arange(1,x_inter+1)\n",
    "    #rngs_diag = (1-2*lmbda)*np.ones_like(rngs_1)\n",
    "\n",
    "    u_xmin = lambda t : 0\n",
    "    u_xmax = lambda t : 0\n",
    "    u_tmin = lambda x : array_max(1-x**2,np.zeros_like(x))\n",
    "    U = np.zeros((x_inter+1,t_inter+1))\n",
    "    U_init = u_tmin(X)\n",
    "    U[:,0] = U_init\n",
    "    for i in range(1,t_inter+1) :\n",
    "        U[:,i] = Crank_Nick_update(U[:,i-1],lmbda)\n",
    "    US[inters]=U\n",
    "x = np.linspace(min(HS),max(HS),len(HS))\n",
    "y = x**2\n",
    "FINAL = US[NS[-1]][::32,-1]\n",
    "Y = []\n",
    "for n in NS[:-1] :\n",
    "    V = US[n][-1]\n",
    "    s = len(V)\n",
    "    V = V[::(s//20)]\n",
    "    Y.append(np.max(np.abs(V - FINAL)))\n",
    "plt.loglog(x,Y,'.-k',label='Error E(h)')\n",
    "plt.loglog(x,y,'r',label='h^2')\n",
    "plt.show()"
   ]
  },
  {
   "cell_type": "code",
   "execution_count": null,
   "metadata": {
    "collapsed": true
   },
   "outputs": [],
   "source": []
  }
 ],
 "metadata": {
  "kernelspec": {
   "display_name": "Python 3",
   "language": "python",
   "name": "python3"
  },
  "language_info": {
   "codemirror_mode": {
    "name": "ipython",
    "version": 3
   },
   "file_extension": ".py",
   "mimetype": "text/x-python",
   "name": "python",
   "nbconvert_exporter": "python",
   "pygments_lexer": "ipython3",
   "version": "3.6.0"
  }
 },
 "nbformat": 4,
 "nbformat_minor": 2
}
